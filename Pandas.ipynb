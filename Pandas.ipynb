{
 "cells": [
  {
   "cell_type": "code",
   "execution_count": 1,
   "id": "1c5bf7b9",
   "metadata": {},
   "outputs": [],
   "source": [
    "import pandas as pd\n",
    "import numpy as np"
   ]
  },
  {
   "cell_type": "markdown",
   "id": "dc2db8d8",
   "metadata": {},
   "source": [
    "Main data structures: \n",
    "- **1D objects** like 1D arrays or columns in a spreadsheet\n",
    "- **2D objects** with much the same behaviour, methods and indexing logic as numpy arrays\n",
    "- both rows and columns of dataframes are series \n",
    "- most, but not all dataframe functionality applies to series, as well (without axis arguments, of course)"
   ]
  },
  {
   "cell_type": "code",
   "execution_count": 2,
   "id": "4c1767b9",
   "metadata": {},
   "outputs": [
    {
     "data": {
      "text/html": [
       "<div>\n",
       "<style scoped>\n",
       "    .dataframe tbody tr th:only-of-type {\n",
       "        vertical-align: middle;\n",
       "    }\n",
       "\n",
       "    .dataframe tbody tr th {\n",
       "        vertical-align: top;\n",
       "    }\n",
       "\n",
       "    .dataframe thead th {\n",
       "        text-align: right;\n",
       "    }\n",
       "</style>\n",
       "<table border=\"1\" class=\"dataframe\">\n",
       "  <thead>\n",
       "    <tr style=\"text-align: right;\">\n",
       "      <th></th>\n",
       "      <th>name</th>\n",
       "      <th>paradigm</th>\n",
       "      <th>creator</th>\n",
       "      <th>year</th>\n",
       "      <th>popularity_rank</th>\n",
       "    </tr>\n",
       "  </thead>\n",
       "  <tbody>\n",
       "    <tr>\n",
       "      <th>0</th>\n",
       "      <td>Python</td>\n",
       "      <td>multi</td>\n",
       "      <td>Guido van Rossum</td>\n",
       "      <td>1995</td>\n",
       "      <td>3</td>\n",
       "    </tr>\n",
       "    <tr>\n",
       "      <th>1</th>\n",
       "      <td>Lisp</td>\n",
       "      <td>multi</td>\n",
       "      <td>John McCarthy</td>\n",
       "      <td>1958</td>\n",
       "      <td>33</td>\n",
       "    </tr>\n",
       "    <tr>\n",
       "      <th>2</th>\n",
       "      <td>C++</td>\n",
       "      <td>multi</td>\n",
       "      <td>Bjarne Stroustrup</td>\n",
       "      <td>1985</td>\n",
       "      <td>4</td>\n",
       "    </tr>\n",
       "    <tr>\n",
       "      <th>3</th>\n",
       "      <td>Java</td>\n",
       "      <td>multi</td>\n",
       "      <td>James Gosling</td>\n",
       "      <td>1996</td>\n",
       "      <td>1</td>\n",
       "    </tr>\n",
       "    <tr>\n",
       "      <th>4</th>\n",
       "      <td>Haskell</td>\n",
       "      <td>functional</td>\n",
       "      <td>Lennart Augustsson</td>\n",
       "      <td>1990</td>\n",
       "      <td>40</td>\n",
       "    </tr>\n",
       "    <tr>\n",
       "      <th>5</th>\n",
       "      <td>Prolog</td>\n",
       "      <td>logic</td>\n",
       "      <td>Alain Colmerauer</td>\n",
       "      <td>1972</td>\n",
       "      <td>36</td>\n",
       "    </tr>\n",
       "  </tbody>\n",
       "</table>\n",
       "</div>"
      ],
      "text/plain": [
       "      name    paradigm             creator  year  popularity_rank\n",
       "0   Python       multi    Guido van Rossum  1995                3\n",
       "1     Lisp       multi       John McCarthy  1958               33\n",
       "2      C++       multi   Bjarne Stroustrup  1985                4\n",
       "3     Java       multi       James Gosling  1996                1\n",
       "4  Haskell  functional  Lennart Augustsson  1990               40\n",
       "5   Prolog       logic    Alain Colmerauer  1972               36"
      ]
     },
     "execution_count": 2,
     "metadata": {},
     "output_type": "execute_result"
    }
   ],
   "source": [
    "df = pd.DataFrame([[\"Python\",\"multi\", \"Guido van Rossum\", 1995, 3],\n",
    "                    [\"Lisp\",\"multi\", \"John McCarthy\", 1958, 33],\n",
    "                    [\"C++\", \"multi\", \"Bjarne Stroustrup\", 1985, 4],\n",
    "                    [\"Java\", \"multi\", \"James Gosling\", 1996, 1],\n",
    "                    [\"Haskell\",\"functional\", \"Lennart Augustsson\", 1990, 40],\n",
    "                    [\"Prolog\", \"logic\", \"Alain Colmerauer\", 1972,  36]], \n",
    "                  columns=[\"name\", \"paradigm\", \"creator\", \"year\", \"popularity_rank\"])\n",
    "\n",
    "df"
   ]
  },
  {
   "cell_type": "code",
   "execution_count": 3,
   "id": "ab98f0e2",
   "metadata": {},
   "outputs": [
    {
     "data": {
      "text/plain": [
       "0    Python\n",
       "1     Multi\n",
       "2      1995\n",
       "dtype: object"
      ]
     },
     "execution_count": 3,
     "metadata": {},
     "output_type": "execute_result"
    }
   ],
   "source": [
    "serie = pd.Series([\"Python\",\"Multi\",1995])\n",
    "serie"
   ]
  },
  {
   "cell_type": "code",
   "execution_count": 4,
   "id": "c2d60bea",
   "metadata": {},
   "outputs": [
    {
     "data": {
      "text/html": [
       "<div>\n",
       "<style scoped>\n",
       "    .dataframe tbody tr th:only-of-type {\n",
       "        vertical-align: middle;\n",
       "    }\n",
       "\n",
       "    .dataframe tbody tr th {\n",
       "        vertical-align: top;\n",
       "    }\n",
       "\n",
       "    .dataframe thead th {\n",
       "        text-align: right;\n",
       "    }\n",
       "</style>\n",
       "<table border=\"1\" class=\"dataframe\">\n",
       "  <thead>\n",
       "    <tr style=\"text-align: right;\">\n",
       "      <th></th>\n",
       "      <th>0</th>\n",
       "      <th>1</th>\n",
       "      <th>2</th>\n",
       "      <th>3</th>\n",
       "      <th>4</th>\n",
       "      <th>5</th>\n",
       "      <th>6</th>\n",
       "      <th>7</th>\n",
       "      <th>8</th>\n",
       "      <th>9</th>\n",
       "      <th>...</th>\n",
       "      <th>80</th>\n",
       "      <th>81</th>\n",
       "      <th>82</th>\n",
       "      <th>83</th>\n",
       "      <th>84</th>\n",
       "      <th>85</th>\n",
       "      <th>86</th>\n",
       "      <th>87</th>\n",
       "      <th>88</th>\n",
       "      <th>89</th>\n",
       "    </tr>\n",
       "  </thead>\n",
       "  <tbody>\n",
       "    <tr>\n",
       "      <th>0</th>\n",
       "      <td>0</td>\n",
       "      <td>1</td>\n",
       "      <td>2</td>\n",
       "      <td>3</td>\n",
       "      <td>4</td>\n",
       "      <td>5</td>\n",
       "      <td>6</td>\n",
       "      <td>7</td>\n",
       "      <td>8</td>\n",
       "      <td>9</td>\n",
       "      <td>...</td>\n",
       "      <td>80</td>\n",
       "      <td>81</td>\n",
       "      <td>82</td>\n",
       "      <td>83</td>\n",
       "      <td>84</td>\n",
       "      <td>85</td>\n",
       "      <td>86</td>\n",
       "      <td>87</td>\n",
       "      <td>88</td>\n",
       "      <td>89</td>\n",
       "    </tr>\n",
       "    <tr>\n",
       "      <th>1</th>\n",
       "      <td>90</td>\n",
       "      <td>91</td>\n",
       "      <td>92</td>\n",
       "      <td>93</td>\n",
       "      <td>94</td>\n",
       "      <td>95</td>\n",
       "      <td>96</td>\n",
       "      <td>97</td>\n",
       "      <td>98</td>\n",
       "      <td>99</td>\n",
       "      <td>...</td>\n",
       "      <td>170</td>\n",
       "      <td>171</td>\n",
       "      <td>172</td>\n",
       "      <td>173</td>\n",
       "      <td>174</td>\n",
       "      <td>175</td>\n",
       "      <td>176</td>\n",
       "      <td>177</td>\n",
       "      <td>178</td>\n",
       "      <td>179</td>\n",
       "    </tr>\n",
       "    <tr>\n",
       "      <th>2</th>\n",
       "      <td>180</td>\n",
       "      <td>181</td>\n",
       "      <td>182</td>\n",
       "      <td>183</td>\n",
       "      <td>184</td>\n",
       "      <td>185</td>\n",
       "      <td>186</td>\n",
       "      <td>187</td>\n",
       "      <td>188</td>\n",
       "      <td>189</td>\n",
       "      <td>...</td>\n",
       "      <td>260</td>\n",
       "      <td>261</td>\n",
       "      <td>262</td>\n",
       "      <td>263</td>\n",
       "      <td>264</td>\n",
       "      <td>265</td>\n",
       "      <td>266</td>\n",
       "      <td>267</td>\n",
       "      <td>268</td>\n",
       "      <td>269</td>\n",
       "    </tr>\n",
       "    <tr>\n",
       "      <th>3</th>\n",
       "      <td>270</td>\n",
       "      <td>271</td>\n",
       "      <td>272</td>\n",
       "      <td>273</td>\n",
       "      <td>274</td>\n",
       "      <td>275</td>\n",
       "      <td>276</td>\n",
       "      <td>277</td>\n",
       "      <td>278</td>\n",
       "      <td>279</td>\n",
       "      <td>...</td>\n",
       "      <td>350</td>\n",
       "      <td>351</td>\n",
       "      <td>352</td>\n",
       "      <td>353</td>\n",
       "      <td>354</td>\n",
       "      <td>355</td>\n",
       "      <td>356</td>\n",
       "      <td>357</td>\n",
       "      <td>358</td>\n",
       "      <td>359</td>\n",
       "    </tr>\n",
       "    <tr>\n",
       "      <th>4</th>\n",
       "      <td>360</td>\n",
       "      <td>361</td>\n",
       "      <td>362</td>\n",
       "      <td>363</td>\n",
       "      <td>364</td>\n",
       "      <td>365</td>\n",
       "      <td>366</td>\n",
       "      <td>367</td>\n",
       "      <td>368</td>\n",
       "      <td>369</td>\n",
       "      <td>...</td>\n",
       "      <td>440</td>\n",
       "      <td>441</td>\n",
       "      <td>442</td>\n",
       "      <td>443</td>\n",
       "      <td>444</td>\n",
       "      <td>445</td>\n",
       "      <td>446</td>\n",
       "      <td>447</td>\n",
       "      <td>448</td>\n",
       "      <td>449</td>\n",
       "    </tr>\n",
       "    <tr>\n",
       "      <th>...</th>\n",
       "      <td>...</td>\n",
       "      <td>...</td>\n",
       "      <td>...</td>\n",
       "      <td>...</td>\n",
       "      <td>...</td>\n",
       "      <td>...</td>\n",
       "      <td>...</td>\n",
       "      <td>...</td>\n",
       "      <td>...</td>\n",
       "      <td>...</td>\n",
       "      <td>...</td>\n",
       "      <td>...</td>\n",
       "      <td>...</td>\n",
       "      <td>...</td>\n",
       "      <td>...</td>\n",
       "      <td>...</td>\n",
       "      <td>...</td>\n",
       "      <td>...</td>\n",
       "      <td>...</td>\n",
       "      <td>...</td>\n",
       "      <td>...</td>\n",
       "    </tr>\n",
       "    <tr>\n",
       "      <th>65</th>\n",
       "      <td>5850</td>\n",
       "      <td>5851</td>\n",
       "      <td>5852</td>\n",
       "      <td>5853</td>\n",
       "      <td>5854</td>\n",
       "      <td>5855</td>\n",
       "      <td>5856</td>\n",
       "      <td>5857</td>\n",
       "      <td>5858</td>\n",
       "      <td>5859</td>\n",
       "      <td>...</td>\n",
       "      <td>5930</td>\n",
       "      <td>5931</td>\n",
       "      <td>5932</td>\n",
       "      <td>5933</td>\n",
       "      <td>5934</td>\n",
       "      <td>5935</td>\n",
       "      <td>5936</td>\n",
       "      <td>5937</td>\n",
       "      <td>5938</td>\n",
       "      <td>5939</td>\n",
       "    </tr>\n",
       "    <tr>\n",
       "      <th>66</th>\n",
       "      <td>5940</td>\n",
       "      <td>5941</td>\n",
       "      <td>5942</td>\n",
       "      <td>5943</td>\n",
       "      <td>5944</td>\n",
       "      <td>5945</td>\n",
       "      <td>5946</td>\n",
       "      <td>5947</td>\n",
       "      <td>5948</td>\n",
       "      <td>5949</td>\n",
       "      <td>...</td>\n",
       "      <td>6020</td>\n",
       "      <td>6021</td>\n",
       "      <td>6022</td>\n",
       "      <td>6023</td>\n",
       "      <td>6024</td>\n",
       "      <td>6025</td>\n",
       "      <td>6026</td>\n",
       "      <td>6027</td>\n",
       "      <td>6028</td>\n",
       "      <td>6029</td>\n",
       "    </tr>\n",
       "    <tr>\n",
       "      <th>67</th>\n",
       "      <td>6030</td>\n",
       "      <td>6031</td>\n",
       "      <td>6032</td>\n",
       "      <td>6033</td>\n",
       "      <td>6034</td>\n",
       "      <td>6035</td>\n",
       "      <td>6036</td>\n",
       "      <td>6037</td>\n",
       "      <td>6038</td>\n",
       "      <td>6039</td>\n",
       "      <td>...</td>\n",
       "      <td>6110</td>\n",
       "      <td>6111</td>\n",
       "      <td>6112</td>\n",
       "      <td>6113</td>\n",
       "      <td>6114</td>\n",
       "      <td>6115</td>\n",
       "      <td>6116</td>\n",
       "      <td>6117</td>\n",
       "      <td>6118</td>\n",
       "      <td>6119</td>\n",
       "    </tr>\n",
       "    <tr>\n",
       "      <th>68</th>\n",
       "      <td>6120</td>\n",
       "      <td>6121</td>\n",
       "      <td>6122</td>\n",
       "      <td>6123</td>\n",
       "      <td>6124</td>\n",
       "      <td>6125</td>\n",
       "      <td>6126</td>\n",
       "      <td>6127</td>\n",
       "      <td>6128</td>\n",
       "      <td>6129</td>\n",
       "      <td>...</td>\n",
       "      <td>6200</td>\n",
       "      <td>6201</td>\n",
       "      <td>6202</td>\n",
       "      <td>6203</td>\n",
       "      <td>6204</td>\n",
       "      <td>6205</td>\n",
       "      <td>6206</td>\n",
       "      <td>6207</td>\n",
       "      <td>6208</td>\n",
       "      <td>6209</td>\n",
       "    </tr>\n",
       "    <tr>\n",
       "      <th>69</th>\n",
       "      <td>6210</td>\n",
       "      <td>6211</td>\n",
       "      <td>6212</td>\n",
       "      <td>6213</td>\n",
       "      <td>6214</td>\n",
       "      <td>6215</td>\n",
       "      <td>6216</td>\n",
       "      <td>6217</td>\n",
       "      <td>6218</td>\n",
       "      <td>6219</td>\n",
       "      <td>...</td>\n",
       "      <td>6290</td>\n",
       "      <td>6291</td>\n",
       "      <td>6292</td>\n",
       "      <td>6293</td>\n",
       "      <td>6294</td>\n",
       "      <td>6295</td>\n",
       "      <td>6296</td>\n",
       "      <td>6297</td>\n",
       "      <td>6298</td>\n",
       "      <td>6299</td>\n",
       "    </tr>\n",
       "  </tbody>\n",
       "</table>\n",
       "<p>70 rows × 90 columns</p>\n",
       "</div>"
      ],
      "text/plain": [
       "      0     1     2     3     4     5     6     7     8     9   ...    80  \\\n",
       "0      0     1     2     3     4     5     6     7     8     9  ...    80   \n",
       "1     90    91    92    93    94    95    96    97    98    99  ...   170   \n",
       "2    180   181   182   183   184   185   186   187   188   189  ...   260   \n",
       "3    270   271   272   273   274   275   276   277   278   279  ...   350   \n",
       "4    360   361   362   363   364   365   366   367   368   369  ...   440   \n",
       "..   ...   ...   ...   ...   ...   ...   ...   ...   ...   ...  ...   ...   \n",
       "65  5850  5851  5852  5853  5854  5855  5856  5857  5858  5859  ...  5930   \n",
       "66  5940  5941  5942  5943  5944  5945  5946  5947  5948  5949  ...  6020   \n",
       "67  6030  6031  6032  6033  6034  6035  6036  6037  6038  6039  ...  6110   \n",
       "68  6120  6121  6122  6123  6124  6125  6126  6127  6128  6129  ...  6200   \n",
       "69  6210  6211  6212  6213  6214  6215  6216  6217  6218  6219  ...  6290   \n",
       "\n",
       "      81    82    83    84    85    86    87    88    89  \n",
       "0     81    82    83    84    85    86    87    88    89  \n",
       "1    171   172   173   174   175   176   177   178   179  \n",
       "2    261   262   263   264   265   266   267   268   269  \n",
       "3    351   352   353   354   355   356   357   358   359  \n",
       "4    441   442   443   444   445   446   447   448   449  \n",
       "..   ...   ...   ...   ...   ...   ...   ...   ...   ...  \n",
       "65  5931  5932  5933  5934  5935  5936  5937  5938  5939  \n",
       "66  6021  6022  6023  6024  6025  6026  6027  6028  6029  \n",
       "67  6111  6112  6113  6114  6115  6116  6117  6118  6119  \n",
       "68  6201  6202  6203  6204  6205  6206  6207  6208  6209  \n",
       "69  6291  6292  6293  6294  6295  6296  6297  6298  6299  \n",
       "\n",
       "[70 rows x 90 columns]"
      ]
     },
     "metadata": {},
     "output_type": "display_data"
    }
   ],
   "source": [
    "display(pd.DataFrame(np.arange(70*90).reshape(70,90)))"
   ]
  },
  {
   "cell_type": "code",
   "execution_count": 5,
   "id": "c4292199",
   "metadata": {
    "scrolled": false
   },
   "outputs": [],
   "source": [
    "# Show max rows and cloumns that we would like to show\n",
    "\n",
    "# with pd.option_context(\"display.max_rows\",100,\"display.max_columns\",100):\n",
    "#     display(pd.DataFrame(np.arange(70*90).reshape(70,90)))    "
   ]
  },
  {
   "cell_type": "markdown",
   "id": "d2544711",
   "metadata": {},
   "source": [
    "#### Setting an Index"
   ]
  },
  {
   "cell_type": "code",
   "execution_count": 6,
   "id": "30dbd522",
   "metadata": {},
   "outputs": [
    {
     "data": {
      "text/html": [
       "<div>\n",
       "<style scoped>\n",
       "    .dataframe tbody tr th:only-of-type {\n",
       "        vertical-align: middle;\n",
       "    }\n",
       "\n",
       "    .dataframe tbody tr th {\n",
       "        vertical-align: top;\n",
       "    }\n",
       "\n",
       "    .dataframe thead th {\n",
       "        text-align: right;\n",
       "    }\n",
       "</style>\n",
       "<table border=\"1\" class=\"dataframe\">\n",
       "  <thead>\n",
       "    <tr style=\"text-align: right;\">\n",
       "      <th></th>\n",
       "      <th>name</th>\n",
       "      <th>paradigm</th>\n",
       "      <th>creator</th>\n",
       "      <th>year</th>\n",
       "      <th>popularity_rank</th>\n",
       "    </tr>\n",
       "  </thead>\n",
       "  <tbody>\n",
       "    <tr>\n",
       "      <th>Python</th>\n",
       "      <td>Python</td>\n",
       "      <td>multi</td>\n",
       "      <td>Guido van Rossum</td>\n",
       "      <td>1995</td>\n",
       "      <td>3</td>\n",
       "    </tr>\n",
       "    <tr>\n",
       "      <th>Lisp</th>\n",
       "      <td>Lisp</td>\n",
       "      <td>multi</td>\n",
       "      <td>John McCarthy</td>\n",
       "      <td>1958</td>\n",
       "      <td>33</td>\n",
       "    </tr>\n",
       "    <tr>\n",
       "      <th>C++</th>\n",
       "      <td>C++</td>\n",
       "      <td>multi</td>\n",
       "      <td>Bjarne Stroustrup</td>\n",
       "      <td>1985</td>\n",
       "      <td>4</td>\n",
       "    </tr>\n",
       "    <tr>\n",
       "      <th>Java</th>\n",
       "      <td>Java</td>\n",
       "      <td>multi</td>\n",
       "      <td>James Gosling</td>\n",
       "      <td>1996</td>\n",
       "      <td>1</td>\n",
       "    </tr>\n",
       "    <tr>\n",
       "      <th>Haskell</th>\n",
       "      <td>Haskell</td>\n",
       "      <td>functional</td>\n",
       "      <td>Lennart Augustsson</td>\n",
       "      <td>1990</td>\n",
       "      <td>40</td>\n",
       "    </tr>\n",
       "    <tr>\n",
       "      <th>Prolog</th>\n",
       "      <td>Prolog</td>\n",
       "      <td>logic</td>\n",
       "      <td>Alain Colmerauer</td>\n",
       "      <td>1972</td>\n",
       "      <td>36</td>\n",
       "    </tr>\n",
       "  </tbody>\n",
       "</table>\n",
       "</div>"
      ],
      "text/plain": [
       "            name    paradigm             creator  year  popularity_rank\n",
       "Python    Python       multi    Guido van Rossum  1995                3\n",
       "Lisp        Lisp       multi       John McCarthy  1958               33\n",
       "C++          C++       multi   Bjarne Stroustrup  1985                4\n",
       "Java        Java       multi       James Gosling  1996                1\n",
       "Haskell  Haskell  functional  Lennart Augustsson  1990               40\n",
       "Prolog    Prolog       logic    Alain Colmerauer  1972               36"
      ]
     },
     "execution_count": 6,
     "metadata": {},
     "output_type": "execute_result"
    }
   ],
   "source": [
    "df2 = pd.DataFrame([[\"Python\",\"multi\", \"Guido van Rossum\", 1995, 3],\n",
    "                    [\"Lisp\",\"multi\", \"John McCarthy\", 1958, 33],\n",
    "                    [\"C++\", \"multi\", \"Bjarne Stroustrup\", 1985, 4],\n",
    "                    [\"Java\", \"multi\", \"James Gosling\", 1996, 1],\n",
    "                    [\"Haskell\",\"functional\", \"Lennart Augustsson\", 1990, 40],\n",
    "                    [\"Prolog\", \"logic\", \"Alain Colmerauer\", 1972,  36]], \n",
    "                  columns=[\"name\", \"paradigm\", \"creator\", \"year\", \"popularity_rank\"],\n",
    "                  index=[\"Python\", \"Lisp\", \"C++\", \"Java\", \"Haskell\", \"Prolog\"])\n",
    "\n",
    "df2"
   ]
  },
  {
   "cell_type": "markdown",
   "id": "6296b82d",
   "metadata": {},
   "source": [
    "Another way to do this is using the `.set_index()` DataFrame method, whose arguments are\n",
    "* the column name to use as index, and optionally, among others:\n",
    "* `append` if columns should be appended to existing index to create a multi-level index (by default False, and we will only be looking at MultiIndexes much later)\n",
    "    * caution: if `append=False`, the original index is simply dropped\n",
    "* `inplace` if original dataframe should be modified (by default False)"
   ]
  },
  {
   "cell_type": "code",
   "execution_count": 7,
   "id": "36cc7da0",
   "metadata": {},
   "outputs": [
    {
     "data": {
      "text/html": [
       "<div>\n",
       "<style scoped>\n",
       "    .dataframe tbody tr th:only-of-type {\n",
       "        vertical-align: middle;\n",
       "    }\n",
       "\n",
       "    .dataframe tbody tr th {\n",
       "        vertical-align: top;\n",
       "    }\n",
       "\n",
       "    .dataframe thead th {\n",
       "        text-align: right;\n",
       "    }\n",
       "</style>\n",
       "<table border=\"1\" class=\"dataframe\">\n",
       "  <thead>\n",
       "    <tr style=\"text-align: right;\">\n",
       "      <th></th>\n",
       "      <th>paradigm</th>\n",
       "      <th>creator</th>\n",
       "      <th>year</th>\n",
       "      <th>popularity_rank</th>\n",
       "    </tr>\n",
       "    <tr>\n",
       "      <th>name</th>\n",
       "      <th></th>\n",
       "      <th></th>\n",
       "      <th></th>\n",
       "      <th></th>\n",
       "    </tr>\n",
       "  </thead>\n",
       "  <tbody>\n",
       "    <tr>\n",
       "      <th>Python</th>\n",
       "      <td>multi</td>\n",
       "      <td>Guido van Rossum</td>\n",
       "      <td>1995</td>\n",
       "      <td>3</td>\n",
       "    </tr>\n",
       "    <tr>\n",
       "      <th>Lisp</th>\n",
       "      <td>multi</td>\n",
       "      <td>John McCarthy</td>\n",
       "      <td>1958</td>\n",
       "      <td>33</td>\n",
       "    </tr>\n",
       "    <tr>\n",
       "      <th>C++</th>\n",
       "      <td>multi</td>\n",
       "      <td>Bjarne Stroustrup</td>\n",
       "      <td>1985</td>\n",
       "      <td>4</td>\n",
       "    </tr>\n",
       "    <tr>\n",
       "      <th>Java</th>\n",
       "      <td>multi</td>\n",
       "      <td>James Gosling</td>\n",
       "      <td>1996</td>\n",
       "      <td>1</td>\n",
       "    </tr>\n",
       "    <tr>\n",
       "      <th>Haskell</th>\n",
       "      <td>functional</td>\n",
       "      <td>Lennart Augustsson</td>\n",
       "      <td>1990</td>\n",
       "      <td>40</td>\n",
       "    </tr>\n",
       "    <tr>\n",
       "      <th>Prolog</th>\n",
       "      <td>logic</td>\n",
       "      <td>Alain Colmerauer</td>\n",
       "      <td>1972</td>\n",
       "      <td>36</td>\n",
       "    </tr>\n",
       "  </tbody>\n",
       "</table>\n",
       "</div>"
      ],
      "text/plain": [
       "           paradigm             creator  year  popularity_rank\n",
       "name                                                          \n",
       "Python        multi    Guido van Rossum  1995                3\n",
       "Lisp          multi       John McCarthy  1958               33\n",
       "C++           multi   Bjarne Stroustrup  1985                4\n",
       "Java          multi       James Gosling  1996                1\n",
       "Haskell  functional  Lennart Augustsson  1990               40\n",
       "Prolog        logic    Alain Colmerauer  1972               36"
      ]
     },
     "execution_count": 7,
     "metadata": {},
     "output_type": "execute_result"
    }
   ],
   "source": [
    "df.set_index(\"name\",inplace=True)\n",
    "df"
   ]
  },
  {
   "cell_type": "markdown",
   "id": "24ea9b8a",
   "metadata": {},
   "source": [
    "And reset it with `.reset_index()` method (which can also take the optional `inplace` argument)."
   ]
  },
  {
   "cell_type": "code",
   "execution_count": 8,
   "id": "15ba800b",
   "metadata": {},
   "outputs": [
    {
     "data": {
      "text/html": [
       "<div>\n",
       "<style scoped>\n",
       "    .dataframe tbody tr th:only-of-type {\n",
       "        vertical-align: middle;\n",
       "    }\n",
       "\n",
       "    .dataframe tbody tr th {\n",
       "        vertical-align: top;\n",
       "    }\n",
       "\n",
       "    .dataframe thead th {\n",
       "        text-align: right;\n",
       "    }\n",
       "</style>\n",
       "<table border=\"1\" class=\"dataframe\">\n",
       "  <thead>\n",
       "    <tr style=\"text-align: right;\">\n",
       "      <th></th>\n",
       "      <th>name</th>\n",
       "      <th>paradigm</th>\n",
       "      <th>creator</th>\n",
       "      <th>year</th>\n",
       "      <th>popularity_rank</th>\n",
       "    </tr>\n",
       "  </thead>\n",
       "  <tbody>\n",
       "    <tr>\n",
       "      <th>0</th>\n",
       "      <td>Python</td>\n",
       "      <td>multi</td>\n",
       "      <td>Guido van Rossum</td>\n",
       "      <td>1995</td>\n",
       "      <td>3</td>\n",
       "    </tr>\n",
       "    <tr>\n",
       "      <th>1</th>\n",
       "      <td>Lisp</td>\n",
       "      <td>multi</td>\n",
       "      <td>John McCarthy</td>\n",
       "      <td>1958</td>\n",
       "      <td>33</td>\n",
       "    </tr>\n",
       "    <tr>\n",
       "      <th>2</th>\n",
       "      <td>C++</td>\n",
       "      <td>multi</td>\n",
       "      <td>Bjarne Stroustrup</td>\n",
       "      <td>1985</td>\n",
       "      <td>4</td>\n",
       "    </tr>\n",
       "    <tr>\n",
       "      <th>3</th>\n",
       "      <td>Java</td>\n",
       "      <td>multi</td>\n",
       "      <td>James Gosling</td>\n",
       "      <td>1996</td>\n",
       "      <td>1</td>\n",
       "    </tr>\n",
       "    <tr>\n",
       "      <th>4</th>\n",
       "      <td>Haskell</td>\n",
       "      <td>functional</td>\n",
       "      <td>Lennart Augustsson</td>\n",
       "      <td>1990</td>\n",
       "      <td>40</td>\n",
       "    </tr>\n",
       "    <tr>\n",
       "      <th>5</th>\n",
       "      <td>Prolog</td>\n",
       "      <td>logic</td>\n",
       "      <td>Alain Colmerauer</td>\n",
       "      <td>1972</td>\n",
       "      <td>36</td>\n",
       "    </tr>\n",
       "  </tbody>\n",
       "</table>\n",
       "</div>"
      ],
      "text/plain": [
       "      name    paradigm             creator  year  popularity_rank\n",
       "0   Python       multi    Guido van Rossum  1995                3\n",
       "1     Lisp       multi       John McCarthy  1958               33\n",
       "2      C++       multi   Bjarne Stroustrup  1985                4\n",
       "3     Java       multi       James Gosling  1996                1\n",
       "4  Haskell  functional  Lennart Augustsson  1990               40\n",
       "5   Prolog       logic    Alain Colmerauer  1972               36"
      ]
     },
     "execution_count": 8,
     "metadata": {},
     "output_type": "execute_result"
    }
   ],
   "source": [
    "df.reset_index(inplace=True)\n",
    "df"
   ]
  },
  {
   "cell_type": "markdown",
   "id": "9fd05643",
   "metadata": {},
   "source": [
    "The `inplace` argument is a fairly general feature of pandas methods:\n",
    "* if True, changes the original dataframe, and doesn't return anything\n",
    "* if False, leaves original dataframe intact, and returns a new, changed dataframe."
   ]
  },
  {
   "cell_type": "markdown",
   "id": "9d2f54ec",
   "metadata": {},
   "source": [
    "#### Initializing Series or DataFrame from a dictionary"
   ]
  },
  {
   "cell_type": "code",
   "execution_count": 9,
   "id": "cb6adde5",
   "metadata": {},
   "outputs": [
    {
     "data": {
      "text/html": [
       "<div>\n",
       "<style scoped>\n",
       "    .dataframe tbody tr th:only-of-type {\n",
       "        vertical-align: middle;\n",
       "    }\n",
       "\n",
       "    .dataframe tbody tr th {\n",
       "        vertical-align: top;\n",
       "    }\n",
       "\n",
       "    .dataframe thead th {\n",
       "        text-align: right;\n",
       "    }\n",
       "</style>\n",
       "<table border=\"1\" class=\"dataframe\">\n",
       "  <thead>\n",
       "    <tr style=\"text-align: right;\">\n",
       "      <th></th>\n",
       "      <th>name</th>\n",
       "      <th>creator</th>\n",
       "      <th>year</th>\n",
       "    </tr>\n",
       "  </thead>\n",
       "  <tbody>\n",
       "    <tr>\n",
       "      <th>0</th>\n",
       "      <td>Python</td>\n",
       "      <td>Guido van Rossum</td>\n",
       "      <td>1995</td>\n",
       "    </tr>\n",
       "    <tr>\n",
       "      <th>1</th>\n",
       "      <td>Lisp</td>\n",
       "      <td>John McCarthy</td>\n",
       "      <td>1958</td>\n",
       "    </tr>\n",
       "    <tr>\n",
       "      <th>2</th>\n",
       "      <td>C++</td>\n",
       "      <td>Bjarne Stroustrup</td>\n",
       "      <td>1985</td>\n",
       "    </tr>\n",
       "    <tr>\n",
       "      <th>3</th>\n",
       "      <td>Java</td>\n",
       "      <td>James Gosling</td>\n",
       "      <td>1996</td>\n",
       "    </tr>\n",
       "    <tr>\n",
       "      <th>4</th>\n",
       "      <td>Haskell</td>\n",
       "      <td>Lennart Augustsson</td>\n",
       "      <td>1990</td>\n",
       "    </tr>\n",
       "    <tr>\n",
       "      <th>5</th>\n",
       "      <td>Prolog</td>\n",
       "      <td>Alain Colmerauer</td>\n",
       "      <td>1972</td>\n",
       "    </tr>\n",
       "  </tbody>\n",
       "</table>\n",
       "</div>"
      ],
      "text/plain": [
       "      name             creator  year\n",
       "0   Python    Guido van Rossum  1995\n",
       "1     Lisp       John McCarthy  1958\n",
       "2      C++   Bjarne Stroustrup  1985\n",
       "3     Java       James Gosling  1996\n",
       "4  Haskell  Lennart Augustsson  1990\n",
       "5   Prolog    Alain Colmerauer  1972"
      ]
     },
     "execution_count": 9,
     "metadata": {},
     "output_type": "execute_result"
    }
   ],
   "source": [
    "mydict = {\n",
    "'name': ['Python',\n",
    "          'Lisp',\n",
    "          'C++',\n",
    "          'Java',\n",
    "          'Haskell',\n",
    "          'Prolog'],\n",
    "'creator': ['Guido van Rossum',\n",
    "            'John McCarthy',\n",
    "            'Bjarne Stroustrup',\n",
    "            'James Gosling',\n",
    "            'Lennart Augustsson',\n",
    "            'Alain Colmerauer'],\n",
    "'year': [1995, 1958, 1985, 1996, 1990, 1972],\n",
    " }\n",
    "\n",
    "pd.DataFrame(mydict)"
   ]
  },
  {
   "cell_type": "code",
   "execution_count": 10,
   "id": "50ebe5fb",
   "metadata": {},
   "outputs": [
    {
     "data": {
      "text/plain": [
       "name              [Python, Lisp, C++, Java, Haskell, Prolog]\n",
       "creator    [Guido van Rossum, John McCarthy, Bjarne Strou...\n",
       "year                    [1995, 1958, 1985, 1996, 1990, 1972]\n",
       "dtype: object"
      ]
     },
     "execution_count": 10,
     "metadata": {},
     "output_type": "execute_result"
    }
   ],
   "source": [
    "pd.Series(mydict)"
   ]
  },
  {
   "cell_type": "code",
   "execution_count": 11,
   "id": "6caf76e3",
   "metadata": {},
   "outputs": [
    {
     "data": {
      "text/plain": [
       "{'name': 'Python', 'creator': 'Guido van Rossum', 'year': 1995}"
      ]
     },
     "execution_count": 11,
     "metadata": {},
     "output_type": "execute_result"
    }
   ],
   "source": [
    "mydict2 = {k:mydict[k][0] for k in mydict.keys()}\n",
    "mydict2"
   ]
  },
  {
   "cell_type": "code",
   "execution_count": 12,
   "id": "e921bbb5",
   "metadata": {},
   "outputs": [
    {
     "data": {
      "text/plain": [
       "name                 Python\n",
       "creator    Guido van Rossum\n",
       "year                   1995\n",
       "dtype: object"
      ]
     },
     "execution_count": 12,
     "metadata": {},
     "output_type": "execute_result"
    }
   ],
   "source": [
    "pd.Series(mydict2)"
   ]
  },
  {
   "cell_type": "markdown",
   "id": "5077b63c",
   "metadata": {},
   "source": [
    "## Accessing columns, rows, cells, slices...\n",
    "\n",
    "Depending on what parts of a data frame we access, we get different types of objects:\n",
    "\n",
    "* accessing columns or rows -> pd.Series\n",
    "* accessing a cell -> whatever type that particular cell is\n",
    "* accessing 2D parts of the data frame -> pd.DataFrame\n"
   ]
  },
  {
   "cell_type": "code",
   "execution_count": 13,
   "id": "71edc28d",
   "metadata": {},
   "outputs": [
    {
     "data": {
      "text/html": [
       "<div>\n",
       "<style scoped>\n",
       "    .dataframe tbody tr th:only-of-type {\n",
       "        vertical-align: middle;\n",
       "    }\n",
       "\n",
       "    .dataframe tbody tr th {\n",
       "        vertical-align: top;\n",
       "    }\n",
       "\n",
       "    .dataframe thead th {\n",
       "        text-align: right;\n",
       "    }\n",
       "</style>\n",
       "<table border=\"1\" class=\"dataframe\">\n",
       "  <thead>\n",
       "    <tr style=\"text-align: right;\">\n",
       "      <th></th>\n",
       "      <th>name</th>\n",
       "      <th>paradigm</th>\n",
       "      <th>creator</th>\n",
       "      <th>year</th>\n",
       "      <th>popularity_rank</th>\n",
       "    </tr>\n",
       "  </thead>\n",
       "  <tbody>\n",
       "    <tr>\n",
       "      <th>0</th>\n",
       "      <td>Python</td>\n",
       "      <td>multi</td>\n",
       "      <td>Guido van Rossum</td>\n",
       "      <td>1995</td>\n",
       "      <td>3</td>\n",
       "    </tr>\n",
       "    <tr>\n",
       "      <th>1</th>\n",
       "      <td>Lisp</td>\n",
       "      <td>multi</td>\n",
       "      <td>John McCarthy</td>\n",
       "      <td>1958</td>\n",
       "      <td>33</td>\n",
       "    </tr>\n",
       "    <tr>\n",
       "      <th>2</th>\n",
       "      <td>C++</td>\n",
       "      <td>multi</td>\n",
       "      <td>Bjarne Stroustrup</td>\n",
       "      <td>1985</td>\n",
       "      <td>4</td>\n",
       "    </tr>\n",
       "    <tr>\n",
       "      <th>3</th>\n",
       "      <td>Java</td>\n",
       "      <td>multi</td>\n",
       "      <td>James Gosling</td>\n",
       "      <td>1996</td>\n",
       "      <td>1</td>\n",
       "    </tr>\n",
       "    <tr>\n",
       "      <th>4</th>\n",
       "      <td>Haskell</td>\n",
       "      <td>functional</td>\n",
       "      <td>Lennart Augustsson</td>\n",
       "      <td>1990</td>\n",
       "      <td>40</td>\n",
       "    </tr>\n",
       "    <tr>\n",
       "      <th>5</th>\n",
       "      <td>Prolog</td>\n",
       "      <td>logic</td>\n",
       "      <td>Alain Colmerauer</td>\n",
       "      <td>1972</td>\n",
       "      <td>36</td>\n",
       "    </tr>\n",
       "  </tbody>\n",
       "</table>\n",
       "</div>"
      ],
      "text/plain": [
       "      name    paradigm             creator  year  popularity_rank\n",
       "0   Python       multi    Guido van Rossum  1995                3\n",
       "1     Lisp       multi       John McCarthy  1958               33\n",
       "2      C++       multi   Bjarne Stroustrup  1985                4\n",
       "3     Java       multi       James Gosling  1996                1\n",
       "4  Haskell  functional  Lennart Augustsson  1990               40\n",
       "5   Prolog       logic    Alain Colmerauer  1972               36"
      ]
     },
     "execution_count": 13,
     "metadata": {},
     "output_type": "execute_result"
    }
   ],
   "source": [
    "df"
   ]
  },
  {
   "cell_type": "markdown",
   "id": "b1514ac9",
   "metadata": {},
   "source": [
    "The first and last $n$ rows (the default is 5) of a data frame or series can be quickly inspected by `.head()` and `.tail()` methods"
   ]
  },
  {
   "cell_type": "code",
   "execution_count": 14,
   "id": "197c0ba9",
   "metadata": {},
   "outputs": [
    {
     "data": {
      "text/html": [
       "<div>\n",
       "<style scoped>\n",
       "    .dataframe tbody tr th:only-of-type {\n",
       "        vertical-align: middle;\n",
       "    }\n",
       "\n",
       "    .dataframe tbody tr th {\n",
       "        vertical-align: top;\n",
       "    }\n",
       "\n",
       "    .dataframe thead th {\n",
       "        text-align: right;\n",
       "    }\n",
       "</style>\n",
       "<table border=\"1\" class=\"dataframe\">\n",
       "  <thead>\n",
       "    <tr style=\"text-align: right;\">\n",
       "      <th></th>\n",
       "      <th>name</th>\n",
       "      <th>paradigm</th>\n",
       "      <th>creator</th>\n",
       "      <th>year</th>\n",
       "      <th>popularity_rank</th>\n",
       "    </tr>\n",
       "  </thead>\n",
       "  <tbody>\n",
       "    <tr>\n",
       "      <th>0</th>\n",
       "      <td>Python</td>\n",
       "      <td>multi</td>\n",
       "      <td>Guido van Rossum</td>\n",
       "      <td>1995</td>\n",
       "      <td>3</td>\n",
       "    </tr>\n",
       "    <tr>\n",
       "      <th>1</th>\n",
       "      <td>Lisp</td>\n",
       "      <td>multi</td>\n",
       "      <td>John McCarthy</td>\n",
       "      <td>1958</td>\n",
       "      <td>33</td>\n",
       "    </tr>\n",
       "  </tbody>\n",
       "</table>\n",
       "</div>"
      ],
      "text/plain": [
       "     name paradigm           creator  year  popularity_rank\n",
       "0  Python    multi  Guido van Rossum  1995                3\n",
       "1    Lisp    multi     John McCarthy  1958               33"
      ]
     },
     "execution_count": 14,
     "metadata": {},
     "output_type": "execute_result"
    }
   ],
   "source": [
    "df.head(2)"
   ]
  },
  {
   "cell_type": "code",
   "execution_count": 15,
   "id": "aba700fe",
   "metadata": {},
   "outputs": [
    {
     "data": {
      "text/html": [
       "<div>\n",
       "<style scoped>\n",
       "    .dataframe tbody tr th:only-of-type {\n",
       "        vertical-align: middle;\n",
       "    }\n",
       "\n",
       "    .dataframe tbody tr th {\n",
       "        vertical-align: top;\n",
       "    }\n",
       "\n",
       "    .dataframe thead th {\n",
       "        text-align: right;\n",
       "    }\n",
       "</style>\n",
       "<table border=\"1\" class=\"dataframe\">\n",
       "  <thead>\n",
       "    <tr style=\"text-align: right;\">\n",
       "      <th></th>\n",
       "      <th>name</th>\n",
       "      <th>paradigm</th>\n",
       "      <th>creator</th>\n",
       "      <th>year</th>\n",
       "      <th>popularity_rank</th>\n",
       "    </tr>\n",
       "  </thead>\n",
       "  <tbody>\n",
       "    <tr>\n",
       "      <th>4</th>\n",
       "      <td>Haskell</td>\n",
       "      <td>functional</td>\n",
       "      <td>Lennart Augustsson</td>\n",
       "      <td>1990</td>\n",
       "      <td>40</td>\n",
       "    </tr>\n",
       "    <tr>\n",
       "      <th>5</th>\n",
       "      <td>Prolog</td>\n",
       "      <td>logic</td>\n",
       "      <td>Alain Colmerauer</td>\n",
       "      <td>1972</td>\n",
       "      <td>36</td>\n",
       "    </tr>\n",
       "  </tbody>\n",
       "</table>\n",
       "</div>"
      ],
      "text/plain": [
       "      name    paradigm             creator  year  popularity_rank\n",
       "4  Haskell  functional  Lennart Augustsson  1990               40\n",
       "5   Prolog       logic    Alain Colmerauer  1972               36"
      ]
     },
     "execution_count": 15,
     "metadata": {},
     "output_type": "execute_result"
    }
   ],
   "source": [
    "df.tail(2)"
   ]
  },
  {
   "cell_type": "markdown",
   "id": "c1abbade",
   "metadata": {},
   "source": [
    "Column lables `.columns`"
   ]
  },
  {
   "cell_type": "code",
   "execution_count": 16,
   "id": "a0b640d1",
   "metadata": {},
   "outputs": [
    {
     "data": {
      "text/plain": [
       "Index(['name', 'paradigm', 'creator', 'year', 'popularity_rank'], dtype='object')"
      ]
     },
     "execution_count": 16,
     "metadata": {},
     "output_type": "execute_result"
    }
   ],
   "source": [
    "df.columns"
   ]
  },
  {
   "cell_type": "code",
   "execution_count": 17,
   "id": "e287ba1d",
   "metadata": {},
   "outputs": [
    {
     "data": {
      "text/html": [
       "<div>\n",
       "<style scoped>\n",
       "    .dataframe tbody tr th:only-of-type {\n",
       "        vertical-align: middle;\n",
       "    }\n",
       "\n",
       "    .dataframe tbody tr th {\n",
       "        vertical-align: top;\n",
       "    }\n",
       "\n",
       "    .dataframe thead th {\n",
       "        text-align: right;\n",
       "    }\n",
       "</style>\n",
       "<table border=\"1\" class=\"dataframe\">\n",
       "  <thead>\n",
       "    <tr style=\"text-align: right;\">\n",
       "      <th></th>\n",
       "      <th>name</th>\n",
       "      <th>paradigm</th>\n",
       "      <th>creator</th>\n",
       "      <th>year</th>\n",
       "      <th>tiobe_idx</th>\n",
       "    </tr>\n",
       "  </thead>\n",
       "  <tbody>\n",
       "    <tr>\n",
       "      <th>0</th>\n",
       "      <td>Python</td>\n",
       "      <td>multi</td>\n",
       "      <td>Guido van Rossum</td>\n",
       "      <td>1995</td>\n",
       "      <td>3</td>\n",
       "    </tr>\n",
       "    <tr>\n",
       "      <th>1</th>\n",
       "      <td>Lisp</td>\n",
       "      <td>multi</td>\n",
       "      <td>John McCarthy</td>\n",
       "      <td>1958</td>\n",
       "      <td>33</td>\n",
       "    </tr>\n",
       "    <tr>\n",
       "      <th>2</th>\n",
       "      <td>C++</td>\n",
       "      <td>multi</td>\n",
       "      <td>Bjarne Stroustrup</td>\n",
       "      <td>1985</td>\n",
       "      <td>4</td>\n",
       "    </tr>\n",
       "    <tr>\n",
       "      <th>3</th>\n",
       "      <td>Java</td>\n",
       "      <td>multi</td>\n",
       "      <td>James Gosling</td>\n",
       "      <td>1996</td>\n",
       "      <td>1</td>\n",
       "    </tr>\n",
       "    <tr>\n",
       "      <th>4</th>\n",
       "      <td>Haskell</td>\n",
       "      <td>functional</td>\n",
       "      <td>Lennart Augustsson</td>\n",
       "      <td>1990</td>\n",
       "      <td>40</td>\n",
       "    </tr>\n",
       "    <tr>\n",
       "      <th>5</th>\n",
       "      <td>Prolog</td>\n",
       "      <td>logic</td>\n",
       "      <td>Alain Colmerauer</td>\n",
       "      <td>1972</td>\n",
       "      <td>36</td>\n",
       "    </tr>\n",
       "  </tbody>\n",
       "</table>\n",
       "</div>"
      ],
      "text/plain": [
       "      name    paradigm             creator  year  tiobe_idx\n",
       "0   Python       multi    Guido van Rossum  1995          3\n",
       "1     Lisp       multi       John McCarthy  1958         33\n",
       "2      C++       multi   Bjarne Stroustrup  1985          4\n",
       "3     Java       multi       James Gosling  1996          1\n",
       "4  Haskell  functional  Lennart Augustsson  1990         40\n",
       "5   Prolog       logic    Alain Colmerauer  1972         36"
      ]
     },
     "execution_count": 17,
     "metadata": {},
     "output_type": "execute_result"
    }
   ],
   "source": [
    "# Values of columns can also be set\n",
    "df.columns = ['name','paradigm', 'creator', 'year', 'tiobe_idx']\n",
    "df"
   ]
  },
  {
   "cell_type": "markdown",
   "id": "f21b8dc0",
   "metadata": {},
   "source": [
    "Index `.index`"
   ]
  },
  {
   "cell_type": "code",
   "execution_count": 18,
   "id": "4ee61045",
   "metadata": {},
   "outputs": [
    {
     "data": {
      "text/plain": [
       "Index(['Python', 'Lisp', 'C++', 'Java', 'Haskell', 'Prolog'], dtype='object', name='name')"
      ]
     },
     "execution_count": 18,
     "metadata": {},
     "output_type": "execute_result"
    }
   ],
   "source": [
    "df.set_index(\"name\",inplace=True)\n",
    "df.index"
   ]
  },
  {
   "cell_type": "markdown",
   "id": "bc014378",
   "metadata": {},
   "source": [
    "Series only have index, no column"
   ]
  },
  {
   "cell_type": "code",
   "execution_count": 19,
   "id": "dbb9dd7d",
   "metadata": {},
   "outputs": [
    {
     "data": {
      "text/plain": [
       "RangeIndex(start=0, stop=5, step=1)"
      ]
     },
     "execution_count": 19,
     "metadata": {},
     "output_type": "execute_result"
    }
   ],
   "source": [
    "x = pd.Series(range(100,105))\n",
    "x.index"
   ]
  },
  {
   "cell_type": "code",
   "execution_count": 20,
   "id": "206973f7",
   "metadata": {},
   "outputs": [
    {
     "data": {
      "text/plain": [
       "5    100\n",
       "6    101\n",
       "7    102\n",
       "8    103\n",
       "9    104\n",
       "dtype: int64"
      ]
     },
     "execution_count": 20,
     "metadata": {},
     "output_type": "execute_result"
    }
   ],
   "source": [
    "x.index = x.index + 5\n",
    "x"
   ]
  },
  {
   "cell_type": "markdown",
   "id": "ea8773f2",
   "metadata": {},
   "source": [
    "#### Accessing columns"
   ]
  },
  {
   "cell_type": "code",
   "execution_count": 21,
   "id": "b62232ee",
   "metadata": {},
   "outputs": [
    {
     "data": {
      "text/plain": [
       "name\n",
       "Python       Guido van Rossum\n",
       "Lisp            John McCarthy\n",
       "C++         Bjarne Stroustrup\n",
       "Java            James Gosling\n",
       "Haskell    Lennart Augustsson\n",
       "Prolog       Alain Colmerauer\n",
       "Name: creator, dtype: object"
      ]
     },
     "execution_count": 21,
     "metadata": {},
     "output_type": "execute_result"
    }
   ],
   "source": [
    "df[\"creator\"]"
   ]
  },
  {
   "cell_type": "code",
   "execution_count": 22,
   "id": "66c952cf",
   "metadata": {},
   "outputs": [
    {
     "data": {
      "text/plain": [
       "name\n",
       "Python       Guido van Rossum\n",
       "Lisp            John McCarthy\n",
       "C++         Bjarne Stroustrup\n",
       "Java            James Gosling\n",
       "Haskell    Lennart Augustsson\n",
       "Prolog       Alain Colmerauer\n",
       "Name: creator, dtype: object"
      ]
     },
     "execution_count": 22,
     "metadata": {},
     "output_type": "execute_result"
    }
   ],
   "source": [
    "df.creator"
   ]
  },
  {
   "cell_type": "code",
   "execution_count": 23,
   "id": "75be795f",
   "metadata": {},
   "outputs": [
    {
     "data": {
      "text/plain": [
       "pandas.core.series.Series"
      ]
     },
     "execution_count": 23,
     "metadata": {},
     "output_type": "execute_result"
    }
   ],
   "source": [
    "# Columns or rows are series\n",
    "type(df[\"creator\"])"
   ]
  },
  {
   "cell_type": "code",
   "execution_count": 24,
   "id": "dab51af7",
   "metadata": {},
   "outputs": [
    {
     "data": {
      "text/html": [
       "<div>\n",
       "<style scoped>\n",
       "    .dataframe tbody tr th:only-of-type {\n",
       "        vertical-align: middle;\n",
       "    }\n",
       "\n",
       "    .dataframe tbody tr th {\n",
       "        vertical-align: top;\n",
       "    }\n",
       "\n",
       "    .dataframe thead th {\n",
       "        text-align: right;\n",
       "    }\n",
       "</style>\n",
       "<table border=\"1\" class=\"dataframe\">\n",
       "  <thead>\n",
       "    <tr style=\"text-align: right;\">\n",
       "      <th></th>\n",
       "      <th>creator</th>\n",
       "      <th>year</th>\n",
       "    </tr>\n",
       "    <tr>\n",
       "      <th>name</th>\n",
       "      <th></th>\n",
       "      <th></th>\n",
       "    </tr>\n",
       "  </thead>\n",
       "  <tbody>\n",
       "    <tr>\n",
       "      <th>Python</th>\n",
       "      <td>Guido van Rossum</td>\n",
       "      <td>1995</td>\n",
       "    </tr>\n",
       "    <tr>\n",
       "      <th>Lisp</th>\n",
       "      <td>John McCarthy</td>\n",
       "      <td>1958</td>\n",
       "    </tr>\n",
       "    <tr>\n",
       "      <th>C++</th>\n",
       "      <td>Bjarne Stroustrup</td>\n",
       "      <td>1985</td>\n",
       "    </tr>\n",
       "    <tr>\n",
       "      <th>Java</th>\n",
       "      <td>James Gosling</td>\n",
       "      <td>1996</td>\n",
       "    </tr>\n",
       "    <tr>\n",
       "      <th>Haskell</th>\n",
       "      <td>Lennart Augustsson</td>\n",
       "      <td>1990</td>\n",
       "    </tr>\n",
       "    <tr>\n",
       "      <th>Prolog</th>\n",
       "      <td>Alain Colmerauer</td>\n",
       "      <td>1972</td>\n",
       "    </tr>\n",
       "  </tbody>\n",
       "</table>\n",
       "</div>"
      ],
      "text/plain": [
       "                    creator  year\n",
       "name                             \n",
       "Python     Guido van Rossum  1995\n",
       "Lisp          John McCarthy  1958\n",
       "C++       Bjarne Stroustrup  1985\n",
       "Java          James Gosling  1996\n",
       "Haskell  Lennart Augustsson  1990\n",
       "Prolog     Alain Colmerauer  1972"
      ]
     },
     "execution_count": 24,
     "metadata": {},
     "output_type": "execute_result"
    }
   ],
   "source": [
    "# Multiple columns can be accessed using lists\n",
    "df[[\"creator\",\"year\"]]"
   ]
  },
  {
   "cell_type": "code",
   "execution_count": 25,
   "id": "7b41e1f0",
   "metadata": {},
   "outputs": [
    {
     "data": {
      "text/plain": [
       "pandas.core.frame.DataFrame"
      ]
     },
     "execution_count": 25,
     "metadata": {},
     "output_type": "execute_result"
    }
   ],
   "source": [
    "type(df[[\"creator\",\"year\"]])"
   ]
  },
  {
   "cell_type": "code",
   "execution_count": 26,
   "id": "ba30dd03",
   "metadata": {},
   "outputs": [
    {
     "data": {
      "text/html": [
       "<div>\n",
       "<style scoped>\n",
       "    .dataframe tbody tr th:only-of-type {\n",
       "        vertical-align: middle;\n",
       "    }\n",
       "\n",
       "    .dataframe tbody tr th {\n",
       "        vertical-align: top;\n",
       "    }\n",
       "\n",
       "    .dataframe thead th {\n",
       "        text-align: right;\n",
       "    }\n",
       "</style>\n",
       "<table border=\"1\" class=\"dataframe\">\n",
       "  <thead>\n",
       "    <tr style=\"text-align: right;\">\n",
       "      <th></th>\n",
       "      <th>paradigm</th>\n",
       "      <th>creator</th>\n",
       "      <th>year</th>\n",
       "      <th>tiobe_idx</th>\n",
       "      <th>constant</th>\n",
       "      <th>id</th>\n",
       "    </tr>\n",
       "    <tr>\n",
       "      <th>name</th>\n",
       "      <th></th>\n",
       "      <th></th>\n",
       "      <th></th>\n",
       "      <th></th>\n",
       "      <th></th>\n",
       "      <th></th>\n",
       "    </tr>\n",
       "  </thead>\n",
       "  <tbody>\n",
       "    <tr>\n",
       "      <th>Python</th>\n",
       "      <td>multi</td>\n",
       "      <td>Guido van Rossum</td>\n",
       "      <td>1995</td>\n",
       "      <td>3</td>\n",
       "      <td>Test</td>\n",
       "      <td>0</td>\n",
       "    </tr>\n",
       "    <tr>\n",
       "      <th>Lisp</th>\n",
       "      <td>multi</td>\n",
       "      <td>John McCarthy</td>\n",
       "      <td>1958</td>\n",
       "      <td>33</td>\n",
       "      <td>Test</td>\n",
       "      <td>1</td>\n",
       "    </tr>\n",
       "    <tr>\n",
       "      <th>C++</th>\n",
       "      <td>multi</td>\n",
       "      <td>Bjarne Stroustrup</td>\n",
       "      <td>1985</td>\n",
       "      <td>4</td>\n",
       "      <td>Test</td>\n",
       "      <td>2</td>\n",
       "    </tr>\n",
       "    <tr>\n",
       "      <th>Java</th>\n",
       "      <td>multi</td>\n",
       "      <td>James Gosling</td>\n",
       "      <td>1996</td>\n",
       "      <td>1</td>\n",
       "      <td>Test</td>\n",
       "      <td>3</td>\n",
       "    </tr>\n",
       "    <tr>\n",
       "      <th>Haskell</th>\n",
       "      <td>functional</td>\n",
       "      <td>Lennart Augustsson</td>\n",
       "      <td>1990</td>\n",
       "      <td>40</td>\n",
       "      <td>Test</td>\n",
       "      <td>4</td>\n",
       "    </tr>\n",
       "    <tr>\n",
       "      <th>Prolog</th>\n",
       "      <td>logic</td>\n",
       "      <td>Alain Colmerauer</td>\n",
       "      <td>1972</td>\n",
       "      <td>36</td>\n",
       "      <td>Test</td>\n",
       "      <td>5</td>\n",
       "    </tr>\n",
       "  </tbody>\n",
       "</table>\n",
       "</div>"
      ],
      "text/plain": [
       "           paradigm             creator  year  tiobe_idx constant  id\n",
       "name                                                                 \n",
       "Python        multi    Guido van Rossum  1995          3     Test   0\n",
       "Lisp          multi       John McCarthy  1958         33     Test   1\n",
       "C++           multi   Bjarne Stroustrup  1985          4     Test   2\n",
       "Java          multi       James Gosling  1996          1     Test   3\n",
       "Haskell  functional  Lennart Augustsson  1990         40     Test   4\n",
       "Prolog        logic    Alain Colmerauer  1972         36     Test   5"
      ]
     },
     "execution_count": 26,
     "metadata": {},
     "output_type": "execute_result"
    }
   ],
   "source": [
    "# Values also can be set\n",
    "df[\"constant\"] = \"Test\"\n",
    "df[\"id\"] = np.arange(len(df))\n",
    "df"
   ]
  },
  {
   "cell_type": "markdown",
   "id": "f1b4c439",
   "metadata": {},
   "source": [
    "#### Accessing Rows\n",
    "The same logic applies as with columns, but they must be accessed using .`loc[]` instead of simple square brackets"
   ]
  },
  {
   "cell_type": "code",
   "execution_count": 27,
   "id": "6b91655a",
   "metadata": {},
   "outputs": [
    {
     "data": {
      "text/plain": [
       "paradigm                multi\n",
       "creator      Guido van Rossum\n",
       "year                     1995\n",
       "tiobe_idx                   3\n",
       "constant                 Test\n",
       "id                          0\n",
       "Name: Python, dtype: object"
      ]
     },
     "execution_count": 27,
     "metadata": {},
     "output_type": "execute_result"
    }
   ],
   "source": [
    "df.loc[\"Python\"]"
   ]
  },
  {
   "cell_type": "markdown",
   "id": "075f024f",
   "metadata": {},
   "source": [
    "#### row index for **ndarray** vs. column label for **pd.DataFrame**\n",
    "\n",
    "Caution: \n",
    "* `a[i]` returns the ith row of an ndarray (_i_ is a **row index**)\n",
    "* `df[i]` returns column with the label _i_ of a dataframe (_i_ is a **column label**)!\n",
    "    * If _i_ is not a column label, you get a KeyError!"
   ]
  },
  {
   "cell_type": "code",
   "execution_count": 28,
   "id": "d16d323a",
   "metadata": {},
   "outputs": [
    {
     "name": "stdout",
     "output_type": "stream",
     "text": [
      "Row index for ndarrays...\n",
      "\n",
      "array a:\n",
      " [[0 1 2]\n",
      " [3 4 5]]\n",
      "\n",
      "a[1]:\n"
     ]
    },
    {
     "data": {
      "text/plain": [
       "array([3, 4, 5])"
      ]
     },
     "execution_count": 28,
     "metadata": {},
     "output_type": "execute_result"
    }
   ],
   "source": [
    "print(\"Row index for ndarrays...\\n\")\n",
    "a = np.array(range(6)).reshape(2,3)\n",
    "print(\"array a:\\n\", a)\n",
    "\n",
    "print(\"\\na[1]:\")\n",
    "a[1]"
   ]
  },
  {
   "cell_type": "code",
   "execution_count": 29,
   "id": "4f7adfb2",
   "metadata": {},
   "outputs": [
    {
     "name": "stdout",
     "output_type": "stream",
     "text": [
      "Column labels for dataframes...\n",
      "\n",
      "Our dataframe:\n"
     ]
    },
    {
     "data": {
      "text/html": [
       "<div>\n",
       "<style scoped>\n",
       "    .dataframe tbody tr th:only-of-type {\n",
       "        vertical-align: middle;\n",
       "    }\n",
       "\n",
       "    .dataframe tbody tr th {\n",
       "        vertical-align: top;\n",
       "    }\n",
       "\n",
       "    .dataframe thead th {\n",
       "        text-align: right;\n",
       "    }\n",
       "</style>\n",
       "<table border=\"1\" class=\"dataframe\">\n",
       "  <thead>\n",
       "    <tr style=\"text-align: right;\">\n",
       "      <th></th>\n",
       "      <th>paradigm</th>\n",
       "      <th>creator</th>\n",
       "      <th>year</th>\n",
       "      <th>tiobe_idx</th>\n",
       "      <th>constant</th>\n",
       "      <th>id</th>\n",
       "    </tr>\n",
       "    <tr>\n",
       "      <th>name</th>\n",
       "      <th></th>\n",
       "      <th></th>\n",
       "      <th></th>\n",
       "      <th></th>\n",
       "      <th></th>\n",
       "      <th></th>\n",
       "    </tr>\n",
       "  </thead>\n",
       "  <tbody>\n",
       "    <tr>\n",
       "      <th>Python</th>\n",
       "      <td>multi</td>\n",
       "      <td>Guido van Rossum</td>\n",
       "      <td>1995</td>\n",
       "      <td>3</td>\n",
       "      <td>Test</td>\n",
       "      <td>0</td>\n",
       "    </tr>\n",
       "    <tr>\n",
       "      <th>Lisp</th>\n",
       "      <td>multi</td>\n",
       "      <td>John McCarthy</td>\n",
       "      <td>1958</td>\n",
       "      <td>33</td>\n",
       "      <td>Test</td>\n",
       "      <td>1</td>\n",
       "    </tr>\n",
       "    <tr>\n",
       "      <th>C++</th>\n",
       "      <td>multi</td>\n",
       "      <td>Bjarne Stroustrup</td>\n",
       "      <td>1985</td>\n",
       "      <td>4</td>\n",
       "      <td>Test</td>\n",
       "      <td>2</td>\n",
       "    </tr>\n",
       "    <tr>\n",
       "      <th>Java</th>\n",
       "      <td>multi</td>\n",
       "      <td>James Gosling</td>\n",
       "      <td>1996</td>\n",
       "      <td>1</td>\n",
       "      <td>Test</td>\n",
       "      <td>3</td>\n",
       "    </tr>\n",
       "    <tr>\n",
       "      <th>Haskell</th>\n",
       "      <td>functional</td>\n",
       "      <td>Lennart Augustsson</td>\n",
       "      <td>1990</td>\n",
       "      <td>40</td>\n",
       "      <td>Test</td>\n",
       "      <td>4</td>\n",
       "    </tr>\n",
       "    <tr>\n",
       "      <th>Prolog</th>\n",
       "      <td>logic</td>\n",
       "      <td>Alain Colmerauer</td>\n",
       "      <td>1972</td>\n",
       "      <td>36</td>\n",
       "      <td>Test</td>\n",
       "      <td>5</td>\n",
       "    </tr>\n",
       "  </tbody>\n",
       "</table>\n",
       "</div>"
      ],
      "text/plain": [
       "           paradigm             creator  year  tiobe_idx constant  id\n",
       "name                                                                 \n",
       "Python        multi    Guido van Rossum  1995          3     Test   0\n",
       "Lisp          multi       John McCarthy  1958         33     Test   1\n",
       "C++           multi   Bjarne Stroustrup  1985          4     Test   2\n",
       "Java          multi       James Gosling  1996          1     Test   3\n",
       "Haskell  functional  Lennart Augustsson  1990         40     Test   4\n",
       "Prolog        logic    Alain Colmerauer  1972         36     Test   5"
      ]
     },
     "metadata": {},
     "output_type": "display_data"
    },
    {
     "name": "stdout",
     "output_type": "stream",
     "text": [
      "\n",
      "df[1]:\n",
      "Exception (KeyError): 1\n"
     ]
    }
   ],
   "source": [
    "print(\"Column labels for dataframes...\\n\")\n",
    "\n",
    "print(\"Our dataframe:\")\n",
    "display(df)\n",
    "\n",
    "print(\"\\ndf[1]:\")\n",
    "try:\n",
    "    print(df[1])\n",
    "except Exception as e:\n",
    "    print(f\"Exception ({type(e).__name__}):\",  e)"
   ]
  },
  {
   "cell_type": "code",
   "execution_count": 30,
   "id": "3d7f3381",
   "metadata": {},
   "outputs": [
    {
     "name": "stdout",
     "output_type": "stream",
     "text": [
      "Column labels for dataframes...\n",
      "\n",
      "A dataframe:\n"
     ]
    },
    {
     "data": {
      "text/html": [
       "<div>\n",
       "<style scoped>\n",
       "    .dataframe tbody tr th:only-of-type {\n",
       "        vertical-align: middle;\n",
       "    }\n",
       "\n",
       "    .dataframe tbody tr th {\n",
       "        vertical-align: top;\n",
       "    }\n",
       "\n",
       "    .dataframe thead th {\n",
       "        text-align: right;\n",
       "    }\n",
       "</style>\n",
       "<table border=\"1\" class=\"dataframe\">\n",
       "  <thead>\n",
       "    <tr style=\"text-align: right;\">\n",
       "      <th></th>\n",
       "      <th>0</th>\n",
       "      <th>1</th>\n",
       "      <th>2</th>\n",
       "    </tr>\n",
       "  </thead>\n",
       "  <tbody>\n",
       "    <tr>\n",
       "      <th>0</th>\n",
       "      <td>0</td>\n",
       "      <td>1</td>\n",
       "      <td>2</td>\n",
       "    </tr>\n",
       "    <tr>\n",
       "      <th>1</th>\n",
       "      <td>3</td>\n",
       "      <td>4</td>\n",
       "      <td>5</td>\n",
       "    </tr>\n",
       "  </tbody>\n",
       "</table>\n",
       "</div>"
      ],
      "text/plain": [
       "   0  1  2\n",
       "0  0  1  2\n",
       "1  3  4  5"
      ]
     },
     "metadata": {},
     "output_type": "display_data"
    },
    {
     "name": "stdout",
     "output_type": "stream",
     "text": [
      "\n",
      "d[1]:\n",
      "0    1\n",
      "1    4\n",
      "Name: 1, dtype: int32\n"
     ]
    }
   ],
   "source": [
    "print(\"Column labels for dataframes...\\n\")\n",
    "\n",
    "d = pd.DataFrame(a)\n",
    "print(\"A dataframe:\")\n",
    "display(d)\n",
    "\n",
    "print(\"\\nd[1]:\")\n",
    "try:\n",
    "    print(d[1])\n",
    "except Exception as e:\n",
    "    print(f\"Exception ({type(e).__name__}):\",  e)"
   ]
  },
  {
   "cell_type": "markdown",
   "id": "dc52b8e2",
   "metadata": {},
   "source": [
    "#### .loc[] vs. .iloc[]\n",
    "\n",
    "* `loc` can also be used to access 2-dimensional ranges, not just single rows\n",
    "    * But it uses **labels** for selecting the rows and columns\n",
    "    * And it **includes both endpoints of a slice**!\n",
    "* `iloc` is the pandas equivalent of numpy array indexing\n",
    "    * uses **integer indices** starting from 0: index _i_ accesses the _i_th row/column\n",
    "    * like regular python and numpy indexing, **includes start, but excludes endpoint**\n",
    "\n",
    "Commonalities:\n",
    "* Usage: `.(i)loc[rowindexer, columnindexer]`, where columnindexer is optional. The **indexers** can be\n",
    "    * single values (like `1`)\n",
    "    * lists or ranges (like `[1, 3]`)\n",
    "    * slices (even the labels for .loc!) (like `1:3`)\n",
    "* Caution: .iloc and .loc are **not methods** --- they take square brackets [ ], not ()!!!"
   ]
  },
  {
   "cell_type": "code",
   "execution_count": 31,
   "id": "6dd417c2",
   "metadata": {},
   "outputs": [
    {
     "data": {
      "text/html": [
       "<div>\n",
       "<style scoped>\n",
       "    .dataframe tbody tr th:only-of-type {\n",
       "        vertical-align: middle;\n",
       "    }\n",
       "\n",
       "    .dataframe tbody tr th {\n",
       "        vertical-align: top;\n",
       "    }\n",
       "\n",
       "    .dataframe thead th {\n",
       "        text-align: right;\n",
       "    }\n",
       "</style>\n",
       "<table border=\"1\" class=\"dataframe\">\n",
       "  <thead>\n",
       "    <tr style=\"text-align: right;\">\n",
       "      <th></th>\n",
       "      <th>paradigm</th>\n",
       "      <th>creator</th>\n",
       "      <th>year</th>\n",
       "      <th>tiobe_idx</th>\n",
       "      <th>constant</th>\n",
       "      <th>id</th>\n",
       "    </tr>\n",
       "    <tr>\n",
       "      <th>name</th>\n",
       "      <th></th>\n",
       "      <th></th>\n",
       "      <th></th>\n",
       "      <th></th>\n",
       "      <th></th>\n",
       "      <th></th>\n",
       "    </tr>\n",
       "  </thead>\n",
       "  <tbody>\n",
       "    <tr>\n",
       "      <th>Python</th>\n",
       "      <td>multi</td>\n",
       "      <td>Guido van Rossum</td>\n",
       "      <td>1995</td>\n",
       "      <td>3</td>\n",
       "      <td>Test</td>\n",
       "      <td>0</td>\n",
       "    </tr>\n",
       "    <tr>\n",
       "      <th>Lisp</th>\n",
       "      <td>multi</td>\n",
       "      <td>John McCarthy</td>\n",
       "      <td>1958</td>\n",
       "      <td>33</td>\n",
       "      <td>Test</td>\n",
       "      <td>1</td>\n",
       "    </tr>\n",
       "    <tr>\n",
       "      <th>C++</th>\n",
       "      <td>multi</td>\n",
       "      <td>Bjarne Stroustrup</td>\n",
       "      <td>1985</td>\n",
       "      <td>4</td>\n",
       "      <td>Test</td>\n",
       "      <td>2</td>\n",
       "    </tr>\n",
       "    <tr>\n",
       "      <th>Java</th>\n",
       "      <td>multi</td>\n",
       "      <td>James Gosling</td>\n",
       "      <td>1996</td>\n",
       "      <td>1</td>\n",
       "      <td>Test</td>\n",
       "      <td>3</td>\n",
       "    </tr>\n",
       "    <tr>\n",
       "      <th>Haskell</th>\n",
       "      <td>functional</td>\n",
       "      <td>Lennart Augustsson</td>\n",
       "      <td>1990</td>\n",
       "      <td>40</td>\n",
       "      <td>Test</td>\n",
       "      <td>4</td>\n",
       "    </tr>\n",
       "    <tr>\n",
       "      <th>Prolog</th>\n",
       "      <td>logic</td>\n",
       "      <td>Alain Colmerauer</td>\n",
       "      <td>1972</td>\n",
       "      <td>36</td>\n",
       "      <td>Test</td>\n",
       "      <td>5</td>\n",
       "    </tr>\n",
       "  </tbody>\n",
       "</table>\n",
       "</div>"
      ],
      "text/plain": [
       "           paradigm             creator  year  tiobe_idx constant  id\n",
       "name                                                                 \n",
       "Python        multi    Guido van Rossum  1995          3     Test   0\n",
       "Lisp          multi       John McCarthy  1958         33     Test   1\n",
       "C++           multi   Bjarne Stroustrup  1985          4     Test   2\n",
       "Java          multi       James Gosling  1996          1     Test   3\n",
       "Haskell  functional  Lennart Augustsson  1990         40     Test   4\n",
       "Prolog        logic    Alain Colmerauer  1972         36     Test   5"
      ]
     },
     "execution_count": 31,
     "metadata": {},
     "output_type": "execute_result"
    }
   ],
   "source": [
    "df"
   ]
  },
  {
   "cell_type": "code",
   "execution_count": 32,
   "id": "bbfc529b",
   "metadata": {},
   "outputs": [
    {
     "data": {
      "text/html": [
       "<div>\n",
       "<style scoped>\n",
       "    .dataframe tbody tr th:only-of-type {\n",
       "        vertical-align: middle;\n",
       "    }\n",
       "\n",
       "    .dataframe tbody tr th {\n",
       "        vertical-align: top;\n",
       "    }\n",
       "\n",
       "    .dataframe thead th {\n",
       "        text-align: right;\n",
       "    }\n",
       "</style>\n",
       "<table border=\"1\" class=\"dataframe\">\n",
       "  <thead>\n",
       "    <tr style=\"text-align: right;\">\n",
       "      <th></th>\n",
       "      <th>year</th>\n",
       "      <th>tiobe_idx</th>\n",
       "    </tr>\n",
       "    <tr>\n",
       "      <th>name</th>\n",
       "      <th></th>\n",
       "      <th></th>\n",
       "    </tr>\n",
       "  </thead>\n",
       "  <tbody>\n",
       "    <tr>\n",
       "      <th>Lisp</th>\n",
       "      <td>1958</td>\n",
       "      <td>33</td>\n",
       "    </tr>\n",
       "    <tr>\n",
       "      <th>Java</th>\n",
       "      <td>1996</td>\n",
       "      <td>1</td>\n",
       "    </tr>\n",
       "  </tbody>\n",
       "</table>\n",
       "</div>"
      ],
      "text/plain": [
       "      year  tiobe_idx\n",
       "name                 \n",
       "Lisp  1958         33\n",
       "Java  1996          1"
      ]
     },
     "execution_count": 32,
     "metadata": {},
     "output_type": "execute_result"
    }
   ],
   "source": [
    "df.loc[[\"Lisp\",\"Java\"],[\"year\",\"tiobe_idx\"]]"
   ]
  },
  {
   "cell_type": "code",
   "execution_count": 33,
   "id": "751d4737",
   "metadata": {},
   "outputs": [
    {
     "data": {
      "text/html": [
       "<div>\n",
       "<style scoped>\n",
       "    .dataframe tbody tr th:only-of-type {\n",
       "        vertical-align: middle;\n",
       "    }\n",
       "\n",
       "    .dataframe tbody tr th {\n",
       "        vertical-align: top;\n",
       "    }\n",
       "\n",
       "    .dataframe thead th {\n",
       "        text-align: right;\n",
       "    }\n",
       "</style>\n",
       "<table border=\"1\" class=\"dataframe\">\n",
       "  <thead>\n",
       "    <tr style=\"text-align: right;\">\n",
       "      <th></th>\n",
       "      <th>year</th>\n",
       "      <th>tiobe_idx</th>\n",
       "    </tr>\n",
       "    <tr>\n",
       "      <th>name</th>\n",
       "      <th></th>\n",
       "      <th></th>\n",
       "    </tr>\n",
       "  </thead>\n",
       "  <tbody>\n",
       "    <tr>\n",
       "      <th>Lisp</th>\n",
       "      <td>1958</td>\n",
       "      <td>33</td>\n",
       "    </tr>\n",
       "    <tr>\n",
       "      <th>Java</th>\n",
       "      <td>1996</td>\n",
       "      <td>1</td>\n",
       "    </tr>\n",
       "  </tbody>\n",
       "</table>\n",
       "</div>"
      ],
      "text/plain": [
       "      year  tiobe_idx\n",
       "name                 \n",
       "Lisp  1958         33\n",
       "Java  1996          1"
      ]
     },
     "execution_count": 33,
     "metadata": {},
     "output_type": "execute_result"
    }
   ],
   "source": [
    "df.iloc[[1,3],[2,3]]"
   ]
  },
  {
   "cell_type": "markdown",
   "id": "da843c7c",
   "metadata": {},
   "source": [
    "`Multipple rows, single column = Series`"
   ]
  },
  {
   "cell_type": "code",
   "execution_count": 34,
   "id": "e0539268",
   "metadata": {},
   "outputs": [
    {
     "data": {
      "text/plain": [
       "name\n",
       "Lisp    1958\n",
       "Java    1996\n",
       "Name: year, dtype: int64"
      ]
     },
     "execution_count": 34,
     "metadata": {},
     "output_type": "execute_result"
    }
   ],
   "source": [
    "df.loc[[\"Lisp\",\"Java\"],\"year\"]"
   ]
  },
  {
   "cell_type": "code",
   "execution_count": 35,
   "id": "3196d40d",
   "metadata": {},
   "outputs": [
    {
     "data": {
      "text/plain": [
       "name\n",
       "Lisp    1958\n",
       "Java    1996\n",
       "Name: year, dtype: int64"
      ]
     },
     "execution_count": 35,
     "metadata": {},
     "output_type": "execute_result"
    }
   ],
   "source": [
    "df.iloc[[1,3],2]"
   ]
  },
  {
   "cell_type": "markdown",
   "id": "30366953",
   "metadata": {},
   "source": [
    "`Multiple rows, single column as a list = dataframe`"
   ]
  },
  {
   "cell_type": "code",
   "execution_count": 36,
   "id": "e03c2529",
   "metadata": {},
   "outputs": [
    {
     "data": {
      "text/html": [
       "<div>\n",
       "<style scoped>\n",
       "    .dataframe tbody tr th:only-of-type {\n",
       "        vertical-align: middle;\n",
       "    }\n",
       "\n",
       "    .dataframe tbody tr th {\n",
       "        vertical-align: top;\n",
       "    }\n",
       "\n",
       "    .dataframe thead th {\n",
       "        text-align: right;\n",
       "    }\n",
       "</style>\n",
       "<table border=\"1\" class=\"dataframe\">\n",
       "  <thead>\n",
       "    <tr style=\"text-align: right;\">\n",
       "      <th></th>\n",
       "      <th>year</th>\n",
       "    </tr>\n",
       "    <tr>\n",
       "      <th>name</th>\n",
       "      <th></th>\n",
       "    </tr>\n",
       "  </thead>\n",
       "  <tbody>\n",
       "    <tr>\n",
       "      <th>Lisp</th>\n",
       "      <td>1958</td>\n",
       "    </tr>\n",
       "    <tr>\n",
       "      <th>Java</th>\n",
       "      <td>1996</td>\n",
       "    </tr>\n",
       "  </tbody>\n",
       "</table>\n",
       "</div>"
      ],
      "text/plain": [
       "      year\n",
       "name      \n",
       "Lisp  1958\n",
       "Java  1996"
      ]
     },
     "execution_count": 36,
     "metadata": {},
     "output_type": "execute_result"
    }
   ],
   "source": [
    "df.loc[[\"Lisp\",\"Java\"],[\"year\"]]"
   ]
  },
  {
   "cell_type": "code",
   "execution_count": 37,
   "id": "5e5cb480",
   "metadata": {},
   "outputs": [
    {
     "data": {
      "text/html": [
       "<div>\n",
       "<style scoped>\n",
       "    .dataframe tbody tr th:only-of-type {\n",
       "        vertical-align: middle;\n",
       "    }\n",
       "\n",
       "    .dataframe tbody tr th {\n",
       "        vertical-align: top;\n",
       "    }\n",
       "\n",
       "    .dataframe thead th {\n",
       "        text-align: right;\n",
       "    }\n",
       "</style>\n",
       "<table border=\"1\" class=\"dataframe\">\n",
       "  <thead>\n",
       "    <tr style=\"text-align: right;\">\n",
       "      <th></th>\n",
       "      <th>creator</th>\n",
       "    </tr>\n",
       "    <tr>\n",
       "      <th>name</th>\n",
       "      <th></th>\n",
       "    </tr>\n",
       "  </thead>\n",
       "  <tbody>\n",
       "    <tr>\n",
       "      <th>Lisp</th>\n",
       "      <td>John McCarthy</td>\n",
       "    </tr>\n",
       "    <tr>\n",
       "      <th>Java</th>\n",
       "      <td>James Gosling</td>\n",
       "    </tr>\n",
       "  </tbody>\n",
       "</table>\n",
       "</div>"
      ],
      "text/plain": [
       "            creator\n",
       "name               \n",
       "Lisp  John McCarthy\n",
       "Java  James Gosling"
      ]
     },
     "execution_count": 37,
     "metadata": {},
     "output_type": "execute_result"
    }
   ],
   "source": [
    "df.iloc[[1, 3], [1]]"
   ]
  },
  {
   "cell_type": "markdown",
   "id": "35cca8ad",
   "metadata": {},
   "source": [
    "`Single row, single column = cell`"
   ]
  },
  {
   "cell_type": "code",
   "execution_count": 38,
   "id": "d7cd0e02",
   "metadata": {},
   "outputs": [
    {
     "data": {
      "text/plain": [
       "1958"
      ]
     },
     "execution_count": 38,
     "metadata": {},
     "output_type": "execute_result"
    }
   ],
   "source": [
    "df.loc[\"Lisp\",\"year\"]"
   ]
  },
  {
   "cell_type": "code",
   "execution_count": 39,
   "id": "393bf9fa",
   "metadata": {},
   "outputs": [
    {
     "data": {
      "text/plain": [
       "'multi'"
      ]
     },
     "execution_count": 39,
     "metadata": {},
     "output_type": "execute_result"
    }
   ],
   "source": [
    "df.iloc[0,0]"
   ]
  },
  {
   "cell_type": "markdown",
   "id": "425993b5",
   "metadata": {},
   "source": [
    "Using Slices"
   ]
  },
  {
   "cell_type": "code",
   "execution_count": 40,
   "id": "39c8e1f2",
   "metadata": {},
   "outputs": [
    {
     "data": {
      "text/html": [
       "<div>\n",
       "<style scoped>\n",
       "    .dataframe tbody tr th:only-of-type {\n",
       "        vertical-align: middle;\n",
       "    }\n",
       "\n",
       "    .dataframe tbody tr th {\n",
       "        vertical-align: top;\n",
       "    }\n",
       "\n",
       "    .dataframe thead th {\n",
       "        text-align: right;\n",
       "    }\n",
       "</style>\n",
       "<table border=\"1\" class=\"dataframe\">\n",
       "  <thead>\n",
       "    <tr style=\"text-align: right;\">\n",
       "      <th></th>\n",
       "      <th>creator</th>\n",
       "      <th>year</th>\n",
       "      <th>tiobe_idx</th>\n",
       "    </tr>\n",
       "    <tr>\n",
       "      <th>name</th>\n",
       "      <th></th>\n",
       "      <th></th>\n",
       "      <th></th>\n",
       "    </tr>\n",
       "  </thead>\n",
       "  <tbody>\n",
       "    <tr>\n",
       "      <th>Lisp</th>\n",
       "      <td>John McCarthy</td>\n",
       "      <td>1958</td>\n",
       "      <td>33</td>\n",
       "    </tr>\n",
       "    <tr>\n",
       "      <th>C++</th>\n",
       "      <td>Bjarne Stroustrup</td>\n",
       "      <td>1985</td>\n",
       "      <td>4</td>\n",
       "    </tr>\n",
       "    <tr>\n",
       "      <th>Java</th>\n",
       "      <td>James Gosling</td>\n",
       "      <td>1996</td>\n",
       "      <td>1</td>\n",
       "    </tr>\n",
       "  </tbody>\n",
       "</table>\n",
       "</div>"
      ],
      "text/plain": [
       "                creator  year  tiobe_idx\n",
       "name                                    \n",
       "Lisp      John McCarthy  1958         33\n",
       "C++   Bjarne Stroustrup  1985          4\n",
       "Java      James Gosling  1996          1"
      ]
     },
     "execution_count": 40,
     "metadata": {},
     "output_type": "execute_result"
    }
   ],
   "source": [
    "df.loc[\"Lisp\":\"Java\",\"creator\":\"tiobe_idx\"]"
   ]
  },
  {
   "cell_type": "code",
   "execution_count": 41,
   "id": "91a448dc",
   "metadata": {},
   "outputs": [
    {
     "data": {
      "text/html": [
       "<div>\n",
       "<style scoped>\n",
       "    .dataframe tbody tr th:only-of-type {\n",
       "        vertical-align: middle;\n",
       "    }\n",
       "\n",
       "    .dataframe tbody tr th {\n",
       "        vertical-align: top;\n",
       "    }\n",
       "\n",
       "    .dataframe thead th {\n",
       "        text-align: right;\n",
       "    }\n",
       "</style>\n",
       "<table border=\"1\" class=\"dataframe\">\n",
       "  <thead>\n",
       "    <tr style=\"text-align: right;\">\n",
       "      <th></th>\n",
       "      <th>creator</th>\n",
       "      <th>year</th>\n",
       "    </tr>\n",
       "    <tr>\n",
       "      <th>name</th>\n",
       "      <th></th>\n",
       "      <th></th>\n",
       "    </tr>\n",
       "  </thead>\n",
       "  <tbody>\n",
       "    <tr>\n",
       "      <th>Python</th>\n",
       "      <td>Guido van Rossum</td>\n",
       "      <td>1995</td>\n",
       "    </tr>\n",
       "    <tr>\n",
       "      <th>Lisp</th>\n",
       "      <td>John McCarthy</td>\n",
       "      <td>1958</td>\n",
       "    </tr>\n",
       "    <tr>\n",
       "      <th>C++</th>\n",
       "      <td>Bjarne Stroustrup</td>\n",
       "      <td>1985</td>\n",
       "    </tr>\n",
       "  </tbody>\n",
       "</table>\n",
       "</div>"
      ],
      "text/plain": [
       "                  creator  year\n",
       "name                           \n",
       "Python   Guido van Rossum  1995\n",
       "Lisp        John McCarthy  1958\n",
       "C++     Bjarne Stroustrup  1985"
      ]
     },
     "execution_count": 41,
     "metadata": {},
     "output_type": "execute_result"
    }
   ],
   "source": [
    "df.iloc[:3,1:3]"
   ]
  },
  {
   "cell_type": "markdown",
   "id": "a8276f94",
   "metadata": {},
   "source": [
    "#### Caution: do not mix up .loc and .iloc especially with numeric indexes!"
   ]
  },
  {
   "cell_type": "code",
   "execution_count": 42,
   "id": "66382ea8",
   "metadata": {},
   "outputs": [
    {
     "name": "stdout",
     "output_type": "stream",
     "text": [
      "A dataframe with numeric labels:\n"
     ]
    },
    {
     "data": {
      "text/html": [
       "<div>\n",
       "<style scoped>\n",
       "    .dataframe tbody tr th:only-of-type {\n",
       "        vertical-align: middle;\n",
       "    }\n",
       "\n",
       "    .dataframe tbody tr th {\n",
       "        vertical-align: top;\n",
       "    }\n",
       "\n",
       "    .dataframe thead th {\n",
       "        text-align: right;\n",
       "    }\n",
       "</style>\n",
       "<table border=\"1\" class=\"dataframe\">\n",
       "  <thead>\n",
       "    <tr style=\"text-align: right;\">\n",
       "      <th></th>\n",
       "      <th>0</th>\n",
       "      <th>1</th>\n",
       "      <th>2</th>\n",
       "    </tr>\n",
       "  </thead>\n",
       "  <tbody>\n",
       "    <tr>\n",
       "      <th>1</th>\n",
       "      <td>1</td>\n",
       "      <td>2</td>\n",
       "      <td>3</td>\n",
       "    </tr>\n",
       "    <tr>\n",
       "      <th>2</th>\n",
       "      <td>4</td>\n",
       "      <td>5</td>\n",
       "      <td>6</td>\n",
       "    </tr>\n",
       "  </tbody>\n",
       "</table>\n",
       "</div>"
      ],
      "text/plain": [
       "   0  1  2\n",
       "1  1  2  3\n",
       "2  4  5  6"
      ]
     },
     "execution_count": 42,
     "metadata": {},
     "output_type": "execute_result"
    }
   ],
   "source": [
    "print(\"A dataframe with numeric labels:\")\n",
    "d = pd.DataFrame([[1, 2, 3], [4, 5, 6]], index=[1, 2])\n",
    "d"
   ]
  },
  {
   "cell_type": "code",
   "execution_count": 43,
   "id": "173c543d",
   "metadata": {},
   "outputs": [
    {
     "name": "stdout",
     "output_type": "stream",
     "text": [
      ".iloc[1] selects row index 1:\n"
     ]
    },
    {
     "data": {
      "text/plain": [
       "0    4\n",
       "1    5\n",
       "2    6\n",
       "Name: 2, dtype: int64"
      ]
     },
     "execution_count": 43,
     "metadata": {},
     "output_type": "execute_result"
    }
   ],
   "source": [
    "print(\".iloc[1] selects row index 1:\")\n",
    "d.iloc[1]"
   ]
  },
  {
   "cell_type": "code",
   "execution_count": 44,
   "id": "fabfd334",
   "metadata": {},
   "outputs": [
    {
     "name": "stdout",
     "output_type": "stream",
     "text": [
      ".loc[1] selects row with label 1:\n"
     ]
    },
    {
     "data": {
      "text/plain": [
       "0    1\n",
       "1    2\n",
       "2    3\n",
       "Name: 1, dtype: int64"
      ]
     },
     "execution_count": 44,
     "metadata": {},
     "output_type": "execute_result"
    }
   ],
   "source": [
    "print(\".loc[1] selects row with label 1:\")\n",
    "d.loc[1]"
   ]
  },
  {
   "cell_type": "markdown",
   "id": "4fb3da9c",
   "metadata": {},
   "source": [
    "#### Conditions and boolean masks\n",
    "\n",
    "* The way we worked with numpy arrays and conditions used as boolean masks carries over to pandas, as well.\n",
    "\n",
    "* But caution: `.all()` and `.any()` methods on DataFrames use **axis=0 by default**!"
   ]
  },
  {
   "cell_type": "code",
   "execution_count": 45,
   "id": "d5e1f787",
   "metadata": {},
   "outputs": [
    {
     "data": {
      "text/html": [
       "<div>\n",
       "<style scoped>\n",
       "    .dataframe tbody tr th:only-of-type {\n",
       "        vertical-align: middle;\n",
       "    }\n",
       "\n",
       "    .dataframe tbody tr th {\n",
       "        vertical-align: top;\n",
       "    }\n",
       "\n",
       "    .dataframe thead th {\n",
       "        text-align: right;\n",
       "    }\n",
       "</style>\n",
       "<table border=\"1\" class=\"dataframe\">\n",
       "  <thead>\n",
       "    <tr style=\"text-align: right;\">\n",
       "      <th></th>\n",
       "      <th>col0</th>\n",
       "      <th>col1</th>\n",
       "      <th>col2</th>\n",
       "    </tr>\n",
       "  </thead>\n",
       "  <tbody>\n",
       "    <tr>\n",
       "      <th>row0</th>\n",
       "      <td>3</td>\n",
       "      <td>two</td>\n",
       "      <td>1</td>\n",
       "    </tr>\n",
       "    <tr>\n",
       "      <th>row1</th>\n",
       "      <td>3</td>\n",
       "      <td>3</td>\n",
       "      <td>3</td>\n",
       "    </tr>\n",
       "  </tbody>\n",
       "</table>\n",
       "</div>"
      ],
      "text/plain": [
       "      col0 col1  col2\n",
       "row0     3  two     1\n",
       "row1     3    3     3"
      ]
     },
     "execution_count": 45,
     "metadata": {},
     "output_type": "execute_result"
    }
   ],
   "source": [
    "d2 = pd.DataFrame([[3,\"two\",1],[3,3,3]],\n",
    "                  columns=[f'col{i}' for i in range(3)],\n",
    "                  index=[f'row{i}' for i in range(2)])\n",
    "d2"
   ]
  },
  {
   "cell_type": "code",
   "execution_count": 46,
   "id": "97501f2e",
   "metadata": {},
   "outputs": [
    {
     "name": "stdout",
     "output_type": "stream",
     "text": [
      "      col0   col1   col2\n",
      "row0  True  False  False\n",
      "row1  True   True   True\n"
     ]
    }
   ],
   "source": [
    "print(d2 == 3)"
   ]
  },
  {
   "cell_type": "code",
   "execution_count": 47,
   "id": "fbeec84e",
   "metadata": {},
   "outputs": [
    {
     "name": "stdout",
     "output_type": "stream",
     "text": [
      "      col0 col1  col2\n",
      "row0     3  NaN   NaN\n",
      "row1     3    3   3.0\n"
     ]
    }
   ],
   "source": [
    "print(d2[d2 == 3])"
   ]
  },
  {
   "cell_type": "code",
   "execution_count": 48,
   "id": "191ab923",
   "metadata": {},
   "outputs": [
    {
     "name": "stdout",
     "output_type": "stream",
     "text": [
      "      col0 col1  col2\n",
      "row0     3  two   NaN\n",
      "row1     3    3   3.0\n"
     ]
    }
   ],
   "source": [
    "print(d2[(d2 == 3) | (d2 == \"two\")])"
   ]
  },
  {
   "cell_type": "markdown",
   "id": "b26267ff",
   "metadata": {},
   "source": [
    "Using .all() and .any():"
   ]
  },
  {
   "cell_type": "code",
   "execution_count": 49,
   "id": "c293896f",
   "metadata": {},
   "outputs": [
    {
     "data": {
      "text/html": [
       "<div>\n",
       "<style scoped>\n",
       "    .dataframe tbody tr th:only-of-type {\n",
       "        vertical-align: middle;\n",
       "    }\n",
       "\n",
       "    .dataframe tbody tr th {\n",
       "        vertical-align: top;\n",
       "    }\n",
       "\n",
       "    .dataframe thead th {\n",
       "        text-align: right;\n",
       "    }\n",
       "</style>\n",
       "<table border=\"1\" class=\"dataframe\">\n",
       "  <thead>\n",
       "    <tr style=\"text-align: right;\">\n",
       "      <th></th>\n",
       "      <th>col0</th>\n",
       "      <th>col1</th>\n",
       "      <th>col2</th>\n",
       "    </tr>\n",
       "  </thead>\n",
       "  <tbody>\n",
       "    <tr>\n",
       "      <th>row0</th>\n",
       "      <td>True</td>\n",
       "      <td>False</td>\n",
       "      <td>False</td>\n",
       "    </tr>\n",
       "    <tr>\n",
       "      <th>row1</th>\n",
       "      <td>True</td>\n",
       "      <td>True</td>\n",
       "      <td>True</td>\n",
       "    </tr>\n",
       "  </tbody>\n",
       "</table>\n",
       "</div>"
      ],
      "text/plain": [
       "      col0   col1   col2\n",
       "row0  True  False  False\n",
       "row1  True   True   True"
      ]
     },
     "execution_count": 49,
     "metadata": {},
     "output_type": "execute_result"
    }
   ],
   "source": [
    "d2 == 3"
   ]
  },
  {
   "cell_type": "code",
   "execution_count": 50,
   "id": "b15d0138",
   "metadata": {},
   "outputs": [
    {
     "data": {
      "text/plain": [
       "col0     True\n",
       "col1    False\n",
       "col2    False\n",
       "dtype: bool"
      ]
     },
     "execution_count": 50,
     "metadata": {},
     "output_type": "execute_result"
    }
   ],
   "source": [
    "(d2 == 3).all()"
   ]
  },
  {
   "cell_type": "code",
   "execution_count": 51,
   "id": "e3226dce",
   "metadata": {},
   "outputs": [
    {
     "data": {
      "text/plain": [
       "row0    False\n",
       "row1     True\n",
       "dtype: bool"
      ]
     },
     "execution_count": 51,
     "metadata": {},
     "output_type": "execute_result"
    }
   ],
   "source": [
    "(d2 == 3).all(axis=1)"
   ]
  },
  {
   "cell_type": "code",
   "execution_count": 52,
   "id": "451b8b3a",
   "metadata": {},
   "outputs": [
    {
     "name": "stdout",
     "output_type": "stream",
     "text": [
      "      col0 col1  col2\n",
      "row1     3    3     3\n"
     ]
    }
   ],
   "source": [
    "# Rows when all values are 3\n",
    "print(d2[(d2 == 3).all(axis=1)])"
   ]
  },
  {
   "cell_type": "code",
   "execution_count": 53,
   "id": "39fd173c",
   "metadata": {},
   "outputs": [
    {
     "name": "stdout",
     "output_type": "stream",
     "text": [
      "      col0 col1  col2\n",
      "row0     3  two     1\n",
      "      col0 col1  col2\n",
      "row0     3  two     1\n"
     ]
    }
   ],
   "source": [
    "# Rows when not all values are 3\n",
    "print(d2[~ (d2 == 3).all(axis=1)])\n",
    "print(d2[(d2 != 3).any(axis=1)])"
   ]
  },
  {
   "cell_type": "markdown",
   "id": "62148fbb",
   "metadata": {},
   "source": [
    "Boolean column selection is a bit more contrived..."
   ]
  },
  {
   "cell_type": "code",
   "execution_count": 54,
   "id": "40bd38fd",
   "metadata": {},
   "outputs": [
    {
     "name": "stdout",
     "output_type": "stream",
     "text": [
      "      col0\n",
      "row0     3\n",
      "row1     3\n"
     ]
    }
   ],
   "source": [
    "# Columns where all cell values are 3\n",
    "print( d2[ d2.columns[ (d2 == 3).all()] ])"
   ]
  },
  {
   "cell_type": "code",
   "execution_count": 55,
   "id": "140cd213",
   "metadata": {},
   "outputs": [
    {
     "data": {
      "text/html": [
       "<div>\n",
       "<style scoped>\n",
       "    .dataframe tbody tr th:only-of-type {\n",
       "        vertical-align: middle;\n",
       "    }\n",
       "\n",
       "    .dataframe tbody tr th {\n",
       "        vertical-align: top;\n",
       "    }\n",
       "\n",
       "    .dataframe thead th {\n",
       "        text-align: right;\n",
       "    }\n",
       "</style>\n",
       "<table border=\"1\" class=\"dataframe\">\n",
       "  <thead>\n",
       "    <tr style=\"text-align: right;\">\n",
       "      <th></th>\n",
       "      <th>col0</th>\n",
       "    </tr>\n",
       "  </thead>\n",
       "  <tbody>\n",
       "    <tr>\n",
       "      <th>row0</th>\n",
       "      <td>3</td>\n",
       "    </tr>\n",
       "    <tr>\n",
       "      <th>row1</th>\n",
       "      <td>3</td>\n",
       "    </tr>\n",
       "  </tbody>\n",
       "</table>\n",
       "</div>"
      ],
      "text/plain": [
       "     col0\n",
       "row0    3\n",
       "row1    3"
      ]
     },
     "execution_count": 55,
     "metadata": {},
     "output_type": "execute_result"
    }
   ],
   "source": [
    "# Columns where all cell values are 3 (using transposition)\n",
    "d2.T[ (d2.T == 3).all(axis=1) ].T"
   ]
  },
  {
   "cell_type": "markdown",
   "id": "6426552f",
   "metadata": {},
   "source": [
    "#### Descriptive and Basic info"
   ]
  },
  {
   "cell_type": "code",
   "execution_count": 56,
   "id": "17dbb472",
   "metadata": {},
   "outputs": [
    {
     "data": {
      "text/html": [
       "<div>\n",
       "<style scoped>\n",
       "    .dataframe tbody tr th:only-of-type {\n",
       "        vertical-align: middle;\n",
       "    }\n",
       "\n",
       "    .dataframe tbody tr th {\n",
       "        vertical-align: top;\n",
       "    }\n",
       "\n",
       "    .dataframe thead th {\n",
       "        text-align: right;\n",
       "    }\n",
       "</style>\n",
       "<table border=\"1\" class=\"dataframe\">\n",
       "  <thead>\n",
       "    <tr style=\"text-align: right;\">\n",
       "      <th></th>\n",
       "      <th>year</th>\n",
       "      <th>tiobe_idx</th>\n",
       "      <th>id</th>\n",
       "    </tr>\n",
       "  </thead>\n",
       "  <tbody>\n",
       "    <tr>\n",
       "      <th>count</th>\n",
       "      <td>6.000000</td>\n",
       "      <td>6.000000</td>\n",
       "      <td>6.000000</td>\n",
       "    </tr>\n",
       "    <tr>\n",
       "      <th>mean</th>\n",
       "      <td>1982.666667</td>\n",
       "      <td>19.500000</td>\n",
       "      <td>2.500000</td>\n",
       "    </tr>\n",
       "    <tr>\n",
       "      <th>std</th>\n",
       "      <td>14.908610</td>\n",
       "      <td>18.598387</td>\n",
       "      <td>1.870829</td>\n",
       "    </tr>\n",
       "    <tr>\n",
       "      <th>min</th>\n",
       "      <td>1958.000000</td>\n",
       "      <td>1.000000</td>\n",
       "      <td>0.000000</td>\n",
       "    </tr>\n",
       "    <tr>\n",
       "      <th>25%</th>\n",
       "      <td>1975.250000</td>\n",
       "      <td>3.250000</td>\n",
       "      <td>1.250000</td>\n",
       "    </tr>\n",
       "    <tr>\n",
       "      <th>50%</th>\n",
       "      <td>1987.500000</td>\n",
       "      <td>18.500000</td>\n",
       "      <td>2.500000</td>\n",
       "    </tr>\n",
       "    <tr>\n",
       "      <th>75%</th>\n",
       "      <td>1993.750000</td>\n",
       "      <td>35.250000</td>\n",
       "      <td>3.750000</td>\n",
       "    </tr>\n",
       "    <tr>\n",
       "      <th>max</th>\n",
       "      <td>1996.000000</td>\n",
       "      <td>40.000000</td>\n",
       "      <td>5.000000</td>\n",
       "    </tr>\n",
       "  </tbody>\n",
       "</table>\n",
       "</div>"
      ],
      "text/plain": [
       "              year  tiobe_idx        id\n",
       "count     6.000000   6.000000  6.000000\n",
       "mean   1982.666667  19.500000  2.500000\n",
       "std      14.908610  18.598387  1.870829\n",
       "min    1958.000000   1.000000  0.000000\n",
       "25%    1975.250000   3.250000  1.250000\n",
       "50%    1987.500000  18.500000  2.500000\n",
       "75%    1993.750000  35.250000  3.750000\n",
       "max    1996.000000  40.000000  5.000000"
      ]
     },
     "execution_count": 56,
     "metadata": {},
     "output_type": "execute_result"
    }
   ],
   "source": [
    "df.describe()"
   ]
  },
  {
   "cell_type": "code",
   "execution_count": 57,
   "id": "08037f27",
   "metadata": {},
   "outputs": [
    {
     "data": {
      "text/html": [
       "<div>\n",
       "<style scoped>\n",
       "    .dataframe tbody tr th:only-of-type {\n",
       "        vertical-align: middle;\n",
       "    }\n",
       "\n",
       "    .dataframe tbody tr th {\n",
       "        vertical-align: top;\n",
       "    }\n",
       "\n",
       "    .dataframe thead th {\n",
       "        text-align: right;\n",
       "    }\n",
       "</style>\n",
       "<table border=\"1\" class=\"dataframe\">\n",
       "  <thead>\n",
       "    <tr style=\"text-align: right;\">\n",
       "      <th></th>\n",
       "      <th>paradigm</th>\n",
       "      <th>creator</th>\n",
       "      <th>year</th>\n",
       "      <th>tiobe_idx</th>\n",
       "      <th>constant</th>\n",
       "      <th>id</th>\n",
       "    </tr>\n",
       "  </thead>\n",
       "  <tbody>\n",
       "    <tr>\n",
       "      <th>count</th>\n",
       "      <td>6</td>\n",
       "      <td>6</td>\n",
       "      <td>6.000000</td>\n",
       "      <td>6.000000</td>\n",
       "      <td>6</td>\n",
       "      <td>6.000000</td>\n",
       "    </tr>\n",
       "    <tr>\n",
       "      <th>unique</th>\n",
       "      <td>3</td>\n",
       "      <td>6</td>\n",
       "      <td>NaN</td>\n",
       "      <td>NaN</td>\n",
       "      <td>1</td>\n",
       "      <td>NaN</td>\n",
       "    </tr>\n",
       "    <tr>\n",
       "      <th>top</th>\n",
       "      <td>multi</td>\n",
       "      <td>Guido van Rossum</td>\n",
       "      <td>NaN</td>\n",
       "      <td>NaN</td>\n",
       "      <td>Test</td>\n",
       "      <td>NaN</td>\n",
       "    </tr>\n",
       "    <tr>\n",
       "      <th>freq</th>\n",
       "      <td>4</td>\n",
       "      <td>1</td>\n",
       "      <td>NaN</td>\n",
       "      <td>NaN</td>\n",
       "      <td>6</td>\n",
       "      <td>NaN</td>\n",
       "    </tr>\n",
       "    <tr>\n",
       "      <th>mean</th>\n",
       "      <td>NaN</td>\n",
       "      <td>NaN</td>\n",
       "      <td>1982.666667</td>\n",
       "      <td>19.500000</td>\n",
       "      <td>NaN</td>\n",
       "      <td>2.500000</td>\n",
       "    </tr>\n",
       "    <tr>\n",
       "      <th>std</th>\n",
       "      <td>NaN</td>\n",
       "      <td>NaN</td>\n",
       "      <td>14.908610</td>\n",
       "      <td>18.598387</td>\n",
       "      <td>NaN</td>\n",
       "      <td>1.870829</td>\n",
       "    </tr>\n",
       "    <tr>\n",
       "      <th>min</th>\n",
       "      <td>NaN</td>\n",
       "      <td>NaN</td>\n",
       "      <td>1958.000000</td>\n",
       "      <td>1.000000</td>\n",
       "      <td>NaN</td>\n",
       "      <td>0.000000</td>\n",
       "    </tr>\n",
       "    <tr>\n",
       "      <th>25%</th>\n",
       "      <td>NaN</td>\n",
       "      <td>NaN</td>\n",
       "      <td>1975.250000</td>\n",
       "      <td>3.250000</td>\n",
       "      <td>NaN</td>\n",
       "      <td>1.250000</td>\n",
       "    </tr>\n",
       "    <tr>\n",
       "      <th>50%</th>\n",
       "      <td>NaN</td>\n",
       "      <td>NaN</td>\n",
       "      <td>1987.500000</td>\n",
       "      <td>18.500000</td>\n",
       "      <td>NaN</td>\n",
       "      <td>2.500000</td>\n",
       "    </tr>\n",
       "    <tr>\n",
       "      <th>75%</th>\n",
       "      <td>NaN</td>\n",
       "      <td>NaN</td>\n",
       "      <td>1993.750000</td>\n",
       "      <td>35.250000</td>\n",
       "      <td>NaN</td>\n",
       "      <td>3.750000</td>\n",
       "    </tr>\n",
       "    <tr>\n",
       "      <th>max</th>\n",
       "      <td>NaN</td>\n",
       "      <td>NaN</td>\n",
       "      <td>1996.000000</td>\n",
       "      <td>40.000000</td>\n",
       "      <td>NaN</td>\n",
       "      <td>5.000000</td>\n",
       "    </tr>\n",
       "  </tbody>\n",
       "</table>\n",
       "</div>"
      ],
      "text/plain": [
       "       paradigm           creator         year  tiobe_idx constant        id\n",
       "count         6                 6     6.000000   6.000000        6  6.000000\n",
       "unique        3                 6          NaN        NaN        1       NaN\n",
       "top       multi  Guido van Rossum          NaN        NaN     Test       NaN\n",
       "freq          4                 1          NaN        NaN        6       NaN\n",
       "mean        NaN               NaN  1982.666667  19.500000      NaN  2.500000\n",
       "std         NaN               NaN    14.908610  18.598387      NaN  1.870829\n",
       "min         NaN               NaN  1958.000000   1.000000      NaN  0.000000\n",
       "25%         NaN               NaN  1975.250000   3.250000      NaN  1.250000\n",
       "50%         NaN               NaN  1987.500000  18.500000      NaN  2.500000\n",
       "75%         NaN               NaN  1993.750000  35.250000      NaN  3.750000\n",
       "max         NaN               NaN  1996.000000  40.000000      NaN  5.000000"
      ]
     },
     "execution_count": 57,
     "metadata": {},
     "output_type": "execute_result"
    }
   ],
   "source": [
    "# If there are numerical columns then only those columns' statistics are included by default --\n",
    "# the include parameter can be used to produce all:\n",
    "df.describe(include=\"all\")"
   ]
  },
  {
   "cell_type": "markdown",
   "id": "a56e998d",
   "metadata": {},
   "source": [
    ".describe() also works for series, e.g., taking a column:"
   ]
  },
  {
   "cell_type": "code",
   "execution_count": 58,
   "id": "94c150c6",
   "metadata": {},
   "outputs": [
    {
     "data": {
      "text/plain": [
       "count       6.000000\n",
       "mean     1982.666667\n",
       "std        14.908610\n",
       "min      1958.000000\n",
       "25%      1975.250000\n",
       "50%      1987.500000\n",
       "75%      1993.750000\n",
       "max      1996.000000\n",
       "Name: year, dtype: float64"
      ]
     },
     "execution_count": 58,
     "metadata": {},
     "output_type": "execute_result"
    }
   ],
   "source": [
    "df['year'].describe()"
   ]
  },
  {
   "cell_type": "markdown",
   "id": "e27ac8ef",
   "metadata": {},
   "source": [
    "Basic (and less basic) descriptives of dataframes and series can also be accessed via dedicated aggregation methods like `.min()`, `.max()`, `.mean()`, `.median()`, `.std()`, `.count()`, etc.\n",
    "\n",
    "-> Unlike their numpy counterparts, argumentless versions of pandas methods do NOT work on flattened values, but assume `axis=0` by default!"
   ]
  },
  {
   "cell_type": "code",
   "execution_count": 59,
   "id": "d3adc62e",
   "metadata": {},
   "outputs": [
    {
     "data": {
      "text/plain": [
       "paradigm     6\n",
       "creator      6\n",
       "year         6\n",
       "tiobe_idx    6\n",
       "constant     6\n",
       "id           6\n",
       "dtype: int64"
      ]
     },
     "execution_count": 59,
     "metadata": {},
     "output_type": "execute_result"
    }
   ],
   "source": [
    "df.count()"
   ]
  },
  {
   "cell_type": "code",
   "execution_count": 60,
   "id": "4de34819",
   "metadata": {},
   "outputs": [
    {
     "data": {
      "text/plain": [
       "name\n",
       "Python     6\n",
       "Lisp       6\n",
       "C++        6\n",
       "Java       6\n",
       "Haskell    6\n",
       "Prolog     6\n",
       "dtype: int64"
      ]
     },
     "execution_count": 60,
     "metadata": {},
     "output_type": "execute_result"
    }
   ],
   "source": [
    "df.count(axis=1)"
   ]
  },
  {
   "cell_type": "code",
   "execution_count": 61,
   "id": "25fb463c",
   "metadata": {},
   "outputs": [
    {
     "name": "stderr",
     "output_type": "stream",
     "text": [
      "C:\\Users\\malir\\AppData\\Local\\Temp\\ipykernel_6536\\3698961737.py:1: FutureWarning: Dropping of nuisance columns in DataFrame reductions (with 'numeric_only=None') is deprecated; in a future version this will raise TypeError.  Select only valid columns before calling the reduction.\n",
      "  df.mean()\n"
     ]
    },
    {
     "data": {
      "text/plain": [
       "year         1982.666667\n",
       "tiobe_idx      19.500000\n",
       "id              2.500000\n",
       "dtype: float64"
      ]
     },
     "execution_count": 61,
     "metadata": {},
     "output_type": "execute_result"
    }
   ],
   "source": [
    "df.mean()"
   ]
  },
  {
   "cell_type": "markdown",
   "id": "27a8ed81",
   "metadata": {},
   "source": [
    "#### Unique values and value counts\n",
    "In many cases, it is useful to see the unique values, sometimes together with the number of times they occur.\n",
    "* `.unique()`\n",
    "* `.nunique()`\n",
    "* `.value_counts()`"
   ]
  },
  {
   "cell_type": "code",
   "execution_count": 65,
   "id": "562ffb21",
   "metadata": {},
   "outputs": [
    {
     "data": {
      "text/plain": [
       "array(['multi', 'functional', 'logic'], dtype=object)"
      ]
     },
     "execution_count": 65,
     "metadata": {},
     "output_type": "execute_result"
    }
   ],
   "source": [
    "df.paradigm.unique()"
   ]
  },
  {
   "cell_type": "code",
   "execution_count": 70,
   "id": "6663d4a3",
   "metadata": {},
   "outputs": [
    {
     "data": {
      "text/plain": [
       "3"
      ]
     },
     "execution_count": 70,
     "metadata": {},
     "output_type": "execute_result"
    }
   ],
   "source": [
    "df.paradigm.nunique()"
   ]
  },
  {
   "cell_type": "code",
   "execution_count": 69,
   "id": "10433836",
   "metadata": {},
   "outputs": [
    {
     "data": {
      "text/plain": [
       "multi         4\n",
       "functional    1\n",
       "logic         1\n",
       "Name: paradigm, dtype: int64"
      ]
     },
     "execution_count": 69,
     "metadata": {},
     "output_type": "execute_result"
    }
   ],
   "source": [
    "df.paradigm.value_counts()"
   ]
  },
  {
   "cell_type": "markdown",
   "id": "9d3219a3",
   "metadata": {},
   "source": [
    "#### Types"
   ]
  },
  {
   "cell_type": "code",
   "execution_count": 71,
   "id": "a006701c",
   "metadata": {},
   "outputs": [
    {
     "name": "stdout",
     "output_type": "stream",
     "text": [
      "<class 'pandas.core.frame.DataFrame'>\n",
      "Index: 6 entries, Python to Prolog\n",
      "Data columns (total 6 columns):\n",
      " #   Column     Non-Null Count  Dtype \n",
      "---  ------     --------------  ----- \n",
      " 0   paradigm   6 non-null      object\n",
      " 1   creator    6 non-null      object\n",
      " 2   year       6 non-null      int64 \n",
      " 3   tiobe_idx  6 non-null      int64 \n",
      " 4   constant   6 non-null      object\n",
      " 5   id         6 non-null      int32 \n",
      "dtypes: int32(1), int64(2), object(3)\n",
      "memory usage: 484.0+ bytes\n"
     ]
    }
   ],
   "source": [
    "df.info()"
   ]
  },
  {
   "cell_type": "code",
   "execution_count": 73,
   "id": "ee4ce7ff",
   "metadata": {},
   "outputs": [
    {
     "data": {
      "text/plain": [
       "paradigm     object\n",
       "creator      object\n",
       "year          int64\n",
       "tiobe_idx     int64\n",
       "constant     object\n",
       "id            int32\n",
       "dtype: object"
      ]
     },
     "execution_count": 73,
     "metadata": {},
     "output_type": "execute_result"
    }
   ],
   "source": [
    "df.dtypes"
   ]
  },
  {
   "cell_type": "code",
   "execution_count": 74,
   "id": "ca42e9d0",
   "metadata": {},
   "outputs": [
    {
     "data": {
      "text/plain": [
       "dtype('int64')"
      ]
     },
     "execution_count": 74,
     "metadata": {},
     "output_type": "execute_result"
    }
   ],
   "source": [
    "df.year.dtype"
   ]
  },
  {
   "cell_type": "markdown",
   "id": "4fc8d2ee",
   "metadata": {},
   "source": [
    "As we see, the datatype logic is similar to numpy arrays.However, pandas is much more lenient and exercises more coercion."
   ]
  },
  {
   "cell_type": "code",
   "execution_count": 75,
   "id": "ab761dd8",
   "metadata": {},
   "outputs": [
    {
     "name": "stdout",
     "output_type": "stream",
     "text": [
      "array of dtype int32\n",
      "[1 1 2] \n",
      "\n",
      "trying to set a value to a string:\n",
      "Exception (ValueError) invalid literal for int() with base 10: 'one'\n"
     ]
    }
   ],
   "source": [
    "a = np.array([1, 1, 2])\n",
    "print(\"array of dtype\", a.dtype)\n",
    "print(a, \"\\n\\ntrying to set a value to a string:\")\n",
    "try:\n",
    "    a[0] = \"one\"\n",
    "except Exception as e:\n",
    "    print(f\"Exception ({type(e).__name__})\", e)"
   ]
  },
  {
   "cell_type": "code",
   "execution_count": 76,
   "id": "535cbb9e",
   "metadata": {},
   "outputs": [
    {
     "name": "stdout",
     "output_type": "stream",
     "text": [
      "dataframe with dtypes...\n"
     ]
    },
    {
     "data": {
      "text/plain": [
       "0    int32\n",
       "1    int32\n",
       "2    int32\n",
       "dtype: object"
      ]
     },
     "metadata": {},
     "output_type": "display_data"
    },
    {
     "name": "stdout",
     "output_type": "stream",
     "text": [
      "\n"
     ]
    },
    {
     "data": {
      "text/html": [
       "<div>\n",
       "<style scoped>\n",
       "    .dataframe tbody tr th:only-of-type {\n",
       "        vertical-align: middle;\n",
       "    }\n",
       "\n",
       "    .dataframe tbody tr th {\n",
       "        vertical-align: top;\n",
       "    }\n",
       "\n",
       "    .dataframe thead th {\n",
       "        text-align: right;\n",
       "    }\n",
       "</style>\n",
       "<table border=\"1\" class=\"dataframe\">\n",
       "  <thead>\n",
       "    <tr style=\"text-align: right;\">\n",
       "      <th></th>\n",
       "      <th>0</th>\n",
       "      <th>1</th>\n",
       "      <th>2</th>\n",
       "    </tr>\n",
       "  </thead>\n",
       "  <tbody>\n",
       "    <tr>\n",
       "      <th>0</th>\n",
       "      <td>0</td>\n",
       "      <td>1</td>\n",
       "      <td>2</td>\n",
       "    </tr>\n",
       "    <tr>\n",
       "      <th>1</th>\n",
       "      <td>3</td>\n",
       "      <td>4</td>\n",
       "      <td>5</td>\n",
       "    </tr>\n",
       "  </tbody>\n",
       "</table>\n",
       "</div>"
      ],
      "text/plain": [
       "   0  1  2\n",
       "0  0  1  2\n",
       "1  3  4  5"
      ]
     },
     "metadata": {},
     "output_type": "display_data"
    },
    {
     "name": "stdout",
     "output_type": "stream",
     "text": [
      "\n",
      "setting one value to a string:\n"
     ]
    },
    {
     "data": {
      "text/html": [
       "<div>\n",
       "<style scoped>\n",
       "    .dataframe tbody tr th:only-of-type {\n",
       "        vertical-align: middle;\n",
       "    }\n",
       "\n",
       "    .dataframe tbody tr th {\n",
       "        vertical-align: top;\n",
       "    }\n",
       "\n",
       "    .dataframe thead th {\n",
       "        text-align: right;\n",
       "    }\n",
       "</style>\n",
       "<table border=\"1\" class=\"dataframe\">\n",
       "  <thead>\n",
       "    <tr style=\"text-align: right;\">\n",
       "      <th></th>\n",
       "      <th>0</th>\n",
       "      <th>1</th>\n",
       "      <th>2</th>\n",
       "    </tr>\n",
       "  </thead>\n",
       "  <tbody>\n",
       "    <tr>\n",
       "      <th>0</th>\n",
       "      <td>one</td>\n",
       "      <td>1</td>\n",
       "      <td>2</td>\n",
       "    </tr>\n",
       "    <tr>\n",
       "      <th>1</th>\n",
       "      <td>3</td>\n",
       "      <td>4</td>\n",
       "      <td>5</td>\n",
       "    </tr>\n",
       "  </tbody>\n",
       "</table>\n",
       "</div>"
      ],
      "text/plain": [
       "     0  1  2\n",
       "0  one  1  2\n",
       "1    3  4  5"
      ]
     },
     "metadata": {},
     "output_type": "display_data"
    },
    {
     "name": "stdout",
     "output_type": "stream",
     "text": [
      "\n",
      "now the dataframe dtypes...\n"
     ]
    },
    {
     "data": {
      "text/plain": [
       "0    object\n",
       "1     int32\n",
       "2     int32\n",
       "dtype: object"
      ]
     },
     "metadata": {},
     "output_type": "display_data"
    }
   ],
   "source": [
    "d = pd.DataFrame(np.array(range(6)).reshape(2,3))\n",
    "print(\"dataframe with dtypes...\")\n",
    "display(d.dtypes)\n",
    "print()\n",
    "display(d)\n",
    "print(\"\\nsetting one value to a string:\")\n",
    "d.iloc[0,0] = \"one\"\n",
    "display(d)\n",
    "print(\"\\nnow the dataframe dtypes...\")\n",
    "display(d.dtypes)\n"
   ]
  },
  {
   "cell_type": "markdown",
   "id": "7918fd4c",
   "metadata": {},
   "source": [
    "Also, individual values are not coerced into the umbrella dtype:"
   ]
  },
  {
   "cell_type": "code",
   "execution_count": 77,
   "id": "633790ca",
   "metadata": {},
   "outputs": [
    {
     "name": "stdout",
     "output_type": "stream",
     "text": [
      "A numpy array:\n",
      "['1' 'one' '3.0']\n",
      "\n",
      "\t 1 \t <class 'numpy.str_'>\n",
      "\t one \t <class 'numpy.str_'>\n",
      "\t 3.0 \t <class 'numpy.str_'>\n"
     ]
    }
   ],
   "source": [
    "print(\"A numpy array:\")\n",
    "a = np.array([1, \"one\", 3.0])\n",
    "print(a)\n",
    "print()\n",
    "for item in a:\n",
    "    print(\"\\t\", item, \"\\t\", type(item))"
   ]
  },
  {
   "cell_type": "code",
   "execution_count": 78,
   "id": "c491726e",
   "metadata": {},
   "outputs": [
    {
     "name": "stdout",
     "output_type": "stream",
     "text": [
      "A Series:\n",
      "0      1\n",
      "1    one\n",
      "2    3.0\n",
      "dtype: object\n",
      "\n",
      "\t 1 \t <class 'int'>\n",
      "\t one \t <class 'str'>\n",
      "\t 3.0 \t <class 'float'>\n"
     ]
    }
   ],
   "source": [
    "print(\"A Series:\")\n",
    "a = pd.Series([1, \"one\", 3.0])\n",
    "print(a)\n",
    "print()\n",
    "for item in a.values:\n",
    "    print(\"\\t\", item, \"\\t\", type(item))"
   ]
  },
  {
   "cell_type": "markdown",
   "id": "fc2099d2",
   "metadata": {},
   "source": [
    "But caution: this also means that the column dtype is not updated even if all of its members are now of a different type:"
   ]
  },
  {
   "cell_type": "code",
   "execution_count": 79,
   "id": "728fe853",
   "metadata": {},
   "outputs": [
    {
     "name": "stdout",
     "output_type": "stream",
     "text": [
      "Now all items of the series are numeric...\n",
      "0      1\n",
      "1      2\n",
      "2    3.0\n",
      "dtype: object\n",
      "\n",
      "\t 1 \t <class 'int'>\n",
      "\t 2 \t <class 'int'>\n",
      "\t 3.0 \t <class 'float'>\n"
     ]
    }
   ],
   "source": [
    "a.iloc[1] = 2\n",
    "print(\"Now all items of the series are numeric...\")\n",
    "print(a)\n",
    "print()\n",
    "for item in a.values:\n",
    "    print(\"\\t\", item, \"\\t\", type(item))"
   ]
  },
  {
   "cell_type": "markdown",
   "id": "1afef31b",
   "metadata": {},
   "source": [
    "#### Datafram And Series Manipulation"
   ]
  },
  {
   "cell_type": "code",
   "execution_count": 82,
   "id": "2355af5f",
   "metadata": {},
   "outputs": [
    {
     "data": {
      "text/html": [
       "<div>\n",
       "<style scoped>\n",
       "    .dataframe tbody tr th:only-of-type {\n",
       "        vertical-align: middle;\n",
       "    }\n",
       "\n",
       "    .dataframe tbody tr th {\n",
       "        vertical-align: top;\n",
       "    }\n",
       "\n",
       "    .dataframe thead th {\n",
       "        text-align: right;\n",
       "    }\n",
       "</style>\n",
       "<table border=\"1\" class=\"dataframe\">\n",
       "  <thead>\n",
       "    <tr style=\"text-align: right;\">\n",
       "      <th></th>\n",
       "      <th>0</th>\n",
       "      <th>1</th>\n",
       "      <th>2</th>\n",
       "    </tr>\n",
       "  </thead>\n",
       "  <tbody>\n",
       "    <tr>\n",
       "      <th>0</th>\n",
       "      <td>0</td>\n",
       "      <td>1</td>\n",
       "      <td>2</td>\n",
       "    </tr>\n",
       "    <tr>\n",
       "      <th>1</th>\n",
       "      <td>3</td>\n",
       "      <td>4</td>\n",
       "      <td>5</td>\n",
       "    </tr>\n",
       "  </tbody>\n",
       "</table>\n",
       "</div>"
      ],
      "text/plain": [
       "   0  1  2\n",
       "0  0  1  2\n",
       "1  3  4  5"
      ]
     },
     "execution_count": 82,
     "metadata": {},
     "output_type": "execute_result"
    }
   ],
   "source": [
    "d = pd.DataFrame(np.arange(6).reshape(2,3))\n",
    "d"
   ]
  },
  {
   "cell_type": "code",
   "execution_count": 83,
   "id": "df9793ad",
   "metadata": {},
   "outputs": [
    {
     "data": {
      "text/html": [
       "<div>\n",
       "<style scoped>\n",
       "    .dataframe tbody tr th:only-of-type {\n",
       "        vertical-align: middle;\n",
       "    }\n",
       "\n",
       "    .dataframe tbody tr th {\n",
       "        vertical-align: top;\n",
       "    }\n",
       "\n",
       "    .dataframe thead th {\n",
       "        text-align: right;\n",
       "    }\n",
       "</style>\n",
       "<table border=\"1\" class=\"dataframe\">\n",
       "  <thead>\n",
       "    <tr style=\"text-align: right;\">\n",
       "      <th></th>\n",
       "      <th>0</th>\n",
       "      <th>1</th>\n",
       "      <th>2</th>\n",
       "    </tr>\n",
       "  </thead>\n",
       "  <tbody>\n",
       "    <tr>\n",
       "      <th>0</th>\n",
       "      <td>100</td>\n",
       "      <td>1</td>\n",
       "      <td>2</td>\n",
       "    </tr>\n",
       "    <tr>\n",
       "      <th>1</th>\n",
       "      <td>3</td>\n",
       "      <td>4</td>\n",
       "      <td>5</td>\n",
       "    </tr>\n",
       "  </tbody>\n",
       "</table>\n",
       "</div>"
      ],
      "text/plain": [
       "     0  1  2\n",
       "0  100  1  2\n",
       "1    3  4  5"
      ]
     },
     "metadata": {},
     "output_type": "display_data"
    },
    {
     "data": {
      "text/html": [
       "<div>\n",
       "<style scoped>\n",
       "    .dataframe tbody tr th:only-of-type {\n",
       "        vertical-align: middle;\n",
       "    }\n",
       "\n",
       "    .dataframe tbody tr th {\n",
       "        vertical-align: top;\n",
       "    }\n",
       "\n",
       "    .dataframe thead th {\n",
       "        text-align: right;\n",
       "    }\n",
       "</style>\n",
       "<table border=\"1\" class=\"dataframe\">\n",
       "  <thead>\n",
       "    <tr style=\"text-align: right;\">\n",
       "      <th></th>\n",
       "      <th>0</th>\n",
       "      <th>1</th>\n",
       "      <th>2</th>\n",
       "    </tr>\n",
       "  </thead>\n",
       "  <tbody>\n",
       "    <tr>\n",
       "      <th>0</th>\n",
       "      <td>0</td>\n",
       "      <td>1</td>\n",
       "      <td>2</td>\n",
       "    </tr>\n",
       "    <tr>\n",
       "      <th>1</th>\n",
       "      <td>3</td>\n",
       "      <td>4</td>\n",
       "      <td>5</td>\n",
       "    </tr>\n",
       "  </tbody>\n",
       "</table>\n",
       "</div>"
      ],
      "text/plain": [
       "   0  1  2\n",
       "0  0  1  2\n",
       "1  3  4  5"
      ]
     },
     "metadata": {},
     "output_type": "display_data"
    }
   ],
   "source": [
    "d2 = d.copy()\n",
    "d2.iloc[0,0] = 100\n",
    "display(d2)\n",
    "display(d)"
   ]
  },
  {
   "cell_type": "code",
   "execution_count": 84,
   "id": "f766e4b1",
   "metadata": {},
   "outputs": [
    {
     "data": {
      "text/html": [
       "<div>\n",
       "<style scoped>\n",
       "    .dataframe tbody tr th:only-of-type {\n",
       "        vertical-align: middle;\n",
       "    }\n",
       "\n",
       "    .dataframe tbody tr th {\n",
       "        vertical-align: top;\n",
       "    }\n",
       "\n",
       "    .dataframe thead th {\n",
       "        text-align: right;\n",
       "    }\n",
       "</style>\n",
       "<table border=\"1\" class=\"dataframe\">\n",
       "  <thead>\n",
       "    <tr style=\"text-align: right;\">\n",
       "      <th></th>\n",
       "      <th>0</th>\n",
       "      <th>1</th>\n",
       "      <th>2</th>\n",
       "    </tr>\n",
       "  </thead>\n",
       "  <tbody>\n",
       "    <tr>\n",
       "      <th>0</th>\n",
       "      <td>100</td>\n",
       "      <td>1</td>\n",
       "      <td>2</td>\n",
       "    </tr>\n",
       "    <tr>\n",
       "      <th>1</th>\n",
       "      <td>3</td>\n",
       "      <td>4</td>\n",
       "      <td>5</td>\n",
       "    </tr>\n",
       "  </tbody>\n",
       "</table>\n",
       "</div>"
      ],
      "text/plain": [
       "     0  1  2\n",
       "0  100  1  2\n",
       "1    3  4  5"
      ]
     },
     "metadata": {},
     "output_type": "display_data"
    },
    {
     "data": {
      "text/html": [
       "<div>\n",
       "<style scoped>\n",
       "    .dataframe tbody tr th:only-of-type {\n",
       "        vertical-align: middle;\n",
       "    }\n",
       "\n",
       "    .dataframe tbody tr th {\n",
       "        vertical-align: top;\n",
       "    }\n",
       "\n",
       "    .dataframe thead th {\n",
       "        text-align: right;\n",
       "    }\n",
       "</style>\n",
       "<table border=\"1\" class=\"dataframe\">\n",
       "  <thead>\n",
       "    <tr style=\"text-align: right;\">\n",
       "      <th></th>\n",
       "      <th>0</th>\n",
       "      <th>1</th>\n",
       "      <th>2</th>\n",
       "    </tr>\n",
       "  </thead>\n",
       "  <tbody>\n",
       "    <tr>\n",
       "      <th>0</th>\n",
       "      <td>100</td>\n",
       "      <td>1</td>\n",
       "      <td>2</td>\n",
       "    </tr>\n",
       "    <tr>\n",
       "      <th>1</th>\n",
       "      <td>3</td>\n",
       "      <td>4</td>\n",
       "      <td>5</td>\n",
       "    </tr>\n",
       "  </tbody>\n",
       "</table>\n",
       "</div>"
      ],
      "text/plain": [
       "     0  1  2\n",
       "0  100  1  2\n",
       "1    3  4  5"
      ]
     },
     "metadata": {},
     "output_type": "display_data"
    }
   ],
   "source": [
    "d2 = d\n",
    "d2.iloc[0,0] = 100\n",
    "display(d2)\n",
    "display(d)"
   ]
  },
  {
   "cell_type": "code",
   "execution_count": 85,
   "id": "64e31661",
   "metadata": {},
   "outputs": [
    {
     "data": {
      "text/html": [
       "<div>\n",
       "<style scoped>\n",
       "    .dataframe tbody tr th:only-of-type {\n",
       "        vertical-align: middle;\n",
       "    }\n",
       "\n",
       "    .dataframe tbody tr th {\n",
       "        vertical-align: top;\n",
       "    }\n",
       "\n",
       "    .dataframe thead th {\n",
       "        text-align: right;\n",
       "    }\n",
       "</style>\n",
       "<table border=\"1\" class=\"dataframe\">\n",
       "  <thead>\n",
       "    <tr style=\"text-align: right;\">\n",
       "      <th></th>\n",
       "      <th>0</th>\n",
       "      <th>1</th>\n",
       "      <th>2</th>\n",
       "      <th>3</th>\n",
       "      <th>4</th>\n",
       "    </tr>\n",
       "  </thead>\n",
       "  <tbody>\n",
       "    <tr>\n",
       "      <th>0</th>\n",
       "      <td>0</td>\n",
       "      <td>1</td>\n",
       "      <td>2</td>\n",
       "      <td>3</td>\n",
       "      <td>4</td>\n",
       "    </tr>\n",
       "    <tr>\n",
       "      <th>1</th>\n",
       "      <td>5</td>\n",
       "      <td>6</td>\n",
       "      <td>7</td>\n",
       "      <td>8</td>\n",
       "      <td>9</td>\n",
       "    </tr>\n",
       "    <tr>\n",
       "      <th>2</th>\n",
       "      <td>10</td>\n",
       "      <td>11</td>\n",
       "      <td>12</td>\n",
       "      <td>13</td>\n",
       "      <td>14</td>\n",
       "    </tr>\n",
       "  </tbody>\n",
       "</table>\n",
       "</div>"
      ],
      "text/plain": [
       "    0   1   2   3   4\n",
       "0   0   1   2   3   4\n",
       "1   5   6   7   8   9\n",
       "2  10  11  12  13  14"
      ]
     },
     "execution_count": 85,
     "metadata": {},
     "output_type": "execute_result"
    }
   ],
   "source": [
    "d = pd.DataFrame(np.arange(15).reshape(3,5))\n",
    "d"
   ]
  },
  {
   "cell_type": "code",
   "execution_count": 86,
   "id": "a5d9223e",
   "metadata": {},
   "outputs": [
    {
     "data": {
      "text/html": [
       "<div>\n",
       "<style scoped>\n",
       "    .dataframe tbody tr th:only-of-type {\n",
       "        vertical-align: middle;\n",
       "    }\n",
       "\n",
       "    .dataframe tbody tr th {\n",
       "        vertical-align: top;\n",
       "    }\n",
       "\n",
       "    .dataframe thead th {\n",
       "        text-align: right;\n",
       "    }\n",
       "</style>\n",
       "<table border=\"1\" class=\"dataframe\">\n",
       "  <thead>\n",
       "    <tr style=\"text-align: right;\">\n",
       "      <th></th>\n",
       "      <th>0</th>\n",
       "      <th>1</th>\n",
       "      <th>2</th>\n",
       "      <th>3</th>\n",
       "      <th>4</th>\n",
       "    </tr>\n",
       "  </thead>\n",
       "  <tbody>\n",
       "    <tr>\n",
       "      <th>0</th>\n",
       "      <td>100</td>\n",
       "      <td>101</td>\n",
       "      <td>102</td>\n",
       "      <td>103</td>\n",
       "      <td>104</td>\n",
       "    </tr>\n",
       "    <tr>\n",
       "      <th>1</th>\n",
       "      <td>105</td>\n",
       "      <td>106</td>\n",
       "      <td>107</td>\n",
       "      <td>108</td>\n",
       "      <td>109</td>\n",
       "    </tr>\n",
       "  </tbody>\n",
       "</table>\n",
       "</div>"
      ],
      "text/plain": [
       "     0    1    2    3    4\n",
       "0  100  101  102  103  104\n",
       "1  105  106  107  108  109"
      ]
     },
     "execution_count": 86,
     "metadata": {},
     "output_type": "execute_result"
    }
   ],
   "source": [
    "d2 = pd.DataFrame(np.arange(100,110).reshape(2,5))\n",
    "d2"
   ]
  },
  {
   "cell_type": "markdown",
   "id": "8a9a2d1f",
   "metadata": {},
   "source": [
    "By default, as always, `axis=0` is assumed = concatenation of rows:"
   ]
  },
  {
   "cell_type": "code",
   "execution_count": 87,
   "id": "a3134997",
   "metadata": {},
   "outputs": [
    {
     "data": {
      "text/html": [
       "<div>\n",
       "<style scoped>\n",
       "    .dataframe tbody tr th:only-of-type {\n",
       "        vertical-align: middle;\n",
       "    }\n",
       "\n",
       "    .dataframe tbody tr th {\n",
       "        vertical-align: top;\n",
       "    }\n",
       "\n",
       "    .dataframe thead th {\n",
       "        text-align: right;\n",
       "    }\n",
       "</style>\n",
       "<table border=\"1\" class=\"dataframe\">\n",
       "  <thead>\n",
       "    <tr style=\"text-align: right;\">\n",
       "      <th></th>\n",
       "      <th>0</th>\n",
       "      <th>1</th>\n",
       "      <th>2</th>\n",
       "      <th>3</th>\n",
       "      <th>4</th>\n",
       "    </tr>\n",
       "  </thead>\n",
       "  <tbody>\n",
       "    <tr>\n",
       "      <th>0</th>\n",
       "      <td>0</td>\n",
       "      <td>1</td>\n",
       "      <td>2</td>\n",
       "      <td>3</td>\n",
       "      <td>4</td>\n",
       "    </tr>\n",
       "    <tr>\n",
       "      <th>1</th>\n",
       "      <td>5</td>\n",
       "      <td>6</td>\n",
       "      <td>7</td>\n",
       "      <td>8</td>\n",
       "      <td>9</td>\n",
       "    </tr>\n",
       "    <tr>\n",
       "      <th>2</th>\n",
       "      <td>10</td>\n",
       "      <td>11</td>\n",
       "      <td>12</td>\n",
       "      <td>13</td>\n",
       "      <td>14</td>\n",
       "    </tr>\n",
       "    <tr>\n",
       "      <th>0</th>\n",
       "      <td>100</td>\n",
       "      <td>101</td>\n",
       "      <td>102</td>\n",
       "      <td>103</td>\n",
       "      <td>104</td>\n",
       "    </tr>\n",
       "    <tr>\n",
       "      <th>1</th>\n",
       "      <td>105</td>\n",
       "      <td>106</td>\n",
       "      <td>107</td>\n",
       "      <td>108</td>\n",
       "      <td>109</td>\n",
       "    </tr>\n",
       "  </tbody>\n",
       "</table>\n",
       "</div>"
      ],
      "text/plain": [
       "     0    1    2    3    4\n",
       "0    0    1    2    3    4\n",
       "1    5    6    7    8    9\n",
       "2   10   11   12   13   14\n",
       "0  100  101  102  103  104\n",
       "1  105  106  107  108  109"
      ]
     },
     "execution_count": 87,
     "metadata": {},
     "output_type": "execute_result"
    }
   ],
   "source": [
    "pd.concat([d,d2])"
   ]
  },
  {
   "cell_type": "markdown",
   "id": "07b299bf",
   "metadata": {},
   "source": [
    "To concatenate along columns"
   ]
  },
  {
   "cell_type": "code",
   "execution_count": 88,
   "id": "f8043576",
   "metadata": {},
   "outputs": [
    {
     "data": {
      "text/html": [
       "<div>\n",
       "<style scoped>\n",
       "    .dataframe tbody tr th:only-of-type {\n",
       "        vertical-align: middle;\n",
       "    }\n",
       "\n",
       "    .dataframe tbody tr th {\n",
       "        vertical-align: top;\n",
       "    }\n",
       "\n",
       "    .dataframe thead th {\n",
       "        text-align: right;\n",
       "    }\n",
       "</style>\n",
       "<table border=\"1\" class=\"dataframe\">\n",
       "  <thead>\n",
       "    <tr style=\"text-align: right;\">\n",
       "      <th></th>\n",
       "      <th>0</th>\n",
       "      <th>1</th>\n",
       "      <th>2</th>\n",
       "      <th>3</th>\n",
       "      <th>4</th>\n",
       "      <th>0</th>\n",
       "      <th>1</th>\n",
       "      <th>2</th>\n",
       "      <th>3</th>\n",
       "      <th>4</th>\n",
       "    </tr>\n",
       "  </thead>\n",
       "  <tbody>\n",
       "    <tr>\n",
       "      <th>0</th>\n",
       "      <td>0</td>\n",
       "      <td>1</td>\n",
       "      <td>2</td>\n",
       "      <td>3</td>\n",
       "      <td>4</td>\n",
       "      <td>100.0</td>\n",
       "      <td>101.0</td>\n",
       "      <td>102.0</td>\n",
       "      <td>103.0</td>\n",
       "      <td>104.0</td>\n",
       "    </tr>\n",
       "    <tr>\n",
       "      <th>1</th>\n",
       "      <td>5</td>\n",
       "      <td>6</td>\n",
       "      <td>7</td>\n",
       "      <td>8</td>\n",
       "      <td>9</td>\n",
       "      <td>105.0</td>\n",
       "      <td>106.0</td>\n",
       "      <td>107.0</td>\n",
       "      <td>108.0</td>\n",
       "      <td>109.0</td>\n",
       "    </tr>\n",
       "    <tr>\n",
       "      <th>2</th>\n",
       "      <td>10</td>\n",
       "      <td>11</td>\n",
       "      <td>12</td>\n",
       "      <td>13</td>\n",
       "      <td>14</td>\n",
       "      <td>NaN</td>\n",
       "      <td>NaN</td>\n",
       "      <td>NaN</td>\n",
       "      <td>NaN</td>\n",
       "      <td>NaN</td>\n",
       "    </tr>\n",
       "  </tbody>\n",
       "</table>\n",
       "</div>"
      ],
      "text/plain": [
       "    0   1   2   3   4      0      1      2      3      4\n",
       "0   0   1   2   3   4  100.0  101.0  102.0  103.0  104.0\n",
       "1   5   6   7   8   9  105.0  106.0  107.0  108.0  109.0\n",
       "2  10  11  12  13  14    NaN    NaN    NaN    NaN    NaN"
      ]
     },
     "execution_count": 88,
     "metadata": {},
     "output_type": "execute_result"
    }
   ],
   "source": [
    "pd.concat([d,d2],axis=1)"
   ]
  },
  {
   "cell_type": "markdown",
   "id": "f4de704b",
   "metadata": {},
   "source": [
    "* Note that `concat` observes the labels of the other axis.\n",
    "* It also observes the order of the concatenated arguments.\n",
    "* Series can also be concatenated:"
   ]
  },
  {
   "cell_type": "code",
   "execution_count": 89,
   "id": "164c4d2f",
   "metadata": {},
   "outputs": [
    {
     "data": {
      "text/plain": [
       "0      0\n",
       "1      5\n",
       "2     10\n",
       "0    100\n",
       "1    105\n",
       "Name: 0, dtype: int32"
      ]
     },
     "execution_count": 89,
     "metadata": {},
     "output_type": "execute_result"
    }
   ],
   "source": [
    "pd.concat([d[0],d2[0]])"
   ]
  },
  {
   "cell_type": "markdown",
   "id": "0998f622",
   "metadata": {},
   "source": [
    "#### Elementwise Operations\n",
    "Most basic operations are elementwise, as in the case of numpy arrays."
   ]
  },
  {
   "cell_type": "code",
   "execution_count": 93,
   "id": "ef61b106",
   "metadata": {},
   "outputs": [
    {
     "data": {
      "text/html": [
       "<div>\n",
       "<style scoped>\n",
       "    .dataframe tbody tr th:only-of-type {\n",
       "        vertical-align: middle;\n",
       "    }\n",
       "\n",
       "    .dataframe tbody tr th {\n",
       "        vertical-align: top;\n",
       "    }\n",
       "\n",
       "    .dataframe thead th {\n",
       "        text-align: right;\n",
       "    }\n",
       "</style>\n",
       "<table border=\"1\" class=\"dataframe\">\n",
       "  <thead>\n",
       "    <tr style=\"text-align: right;\">\n",
       "      <th></th>\n",
       "      <th>0</th>\n",
       "      <th>1</th>\n",
       "      <th>2</th>\n",
       "    </tr>\n",
       "  </thead>\n",
       "  <tbody>\n",
       "    <tr>\n",
       "      <th>0</th>\n",
       "      <td>2.0</td>\n",
       "      <td>2.0</td>\n",
       "      <td>2.0</td>\n",
       "    </tr>\n",
       "    <tr>\n",
       "      <th>1</th>\n",
       "      <td>2.0</td>\n",
       "      <td>2.0</td>\n",
       "      <td>2.0</td>\n",
       "    </tr>\n",
       "  </tbody>\n",
       "</table>\n",
       "</div>"
      ],
      "text/plain": [
       "     0    1    2\n",
       "0  2.0  2.0  2.0\n",
       "1  2.0  2.0  2.0"
      ]
     },
     "execution_count": 93,
     "metadata": {},
     "output_type": "execute_result"
    }
   ],
   "source": [
    "d = pd.DataFrame(np.ones(6).reshape(2,3))\n",
    "d + 1"
   ]
  },
  {
   "cell_type": "markdown",
   "id": "42e1c481",
   "metadata": {},
   "source": [
    "There are of course likewise also methods that work elementwise, e.g., `.abs()`"
   ]
  },
  {
   "cell_type": "code",
   "execution_count": 94,
   "id": "cb2e2aa8",
   "metadata": {},
   "outputs": [
    {
     "data": {
      "text/html": [
       "<div>\n",
       "<style scoped>\n",
       "    .dataframe tbody tr th:only-of-type {\n",
       "        vertical-align: middle;\n",
       "    }\n",
       "\n",
       "    .dataframe tbody tr th {\n",
       "        vertical-align: top;\n",
       "    }\n",
       "\n",
       "    .dataframe thead th {\n",
       "        text-align: right;\n",
       "    }\n",
       "</style>\n",
       "<table border=\"1\" class=\"dataframe\">\n",
       "  <thead>\n",
       "    <tr style=\"text-align: right;\">\n",
       "      <th></th>\n",
       "      <th>0</th>\n",
       "      <th>1</th>\n",
       "      <th>2</th>\n",
       "    </tr>\n",
       "  </thead>\n",
       "  <tbody>\n",
       "    <tr>\n",
       "      <th>0</th>\n",
       "      <td>1.0</td>\n",
       "      <td>-2.0</td>\n",
       "      <td>-2.0</td>\n",
       "    </tr>\n",
       "    <tr>\n",
       "      <th>1</th>\n",
       "      <td>1.0</td>\n",
       "      <td>1.0</td>\n",
       "      <td>1.0</td>\n",
       "    </tr>\n",
       "  </tbody>\n",
       "</table>\n",
       "</div>"
      ],
      "text/plain": [
       "     0    1    2\n",
       "0  1.0 -2.0 -2.0\n",
       "1  1.0  1.0  1.0"
      ]
     },
     "execution_count": 94,
     "metadata": {},
     "output_type": "execute_result"
    }
   ],
   "source": [
    "d.iloc[0,1:] = -2\n",
    "d"
   ]
  },
  {
   "cell_type": "code",
   "execution_count": 95,
   "id": "7137659c",
   "metadata": {},
   "outputs": [
    {
     "data": {
      "text/html": [
       "<div>\n",
       "<style scoped>\n",
       "    .dataframe tbody tr th:only-of-type {\n",
       "        vertical-align: middle;\n",
       "    }\n",
       "\n",
       "    .dataframe tbody tr th {\n",
       "        vertical-align: top;\n",
       "    }\n",
       "\n",
       "    .dataframe thead th {\n",
       "        text-align: right;\n",
       "    }\n",
       "</style>\n",
       "<table border=\"1\" class=\"dataframe\">\n",
       "  <thead>\n",
       "    <tr style=\"text-align: right;\">\n",
       "      <th></th>\n",
       "      <th>0</th>\n",
       "      <th>1</th>\n",
       "      <th>2</th>\n",
       "    </tr>\n",
       "  </thead>\n",
       "  <tbody>\n",
       "    <tr>\n",
       "      <th>0</th>\n",
       "      <td>1.0</td>\n",
       "      <td>2.0</td>\n",
       "      <td>2.0</td>\n",
       "    </tr>\n",
       "    <tr>\n",
       "      <th>1</th>\n",
       "      <td>1.0</td>\n",
       "      <td>1.0</td>\n",
       "      <td>1.0</td>\n",
       "    </tr>\n",
       "  </tbody>\n",
       "</table>\n",
       "</div>"
      ],
      "text/plain": [
       "     0    1    2\n",
       "0  1.0  2.0  2.0\n",
       "1  1.0  1.0  1.0"
      ]
     },
     "execution_count": 95,
     "metadata": {},
     "output_type": "execute_result"
    }
   ],
   "source": [
    "d.abs()"
   ]
  },
  {
   "cell_type": "markdown",
   "id": "ac796034",
   "metadata": {},
   "source": [
    "#### Aggregation/Reduction methods and mapping values"
   ]
  },
  {
   "cell_type": "code",
   "execution_count": 100,
   "id": "7a3644f0",
   "metadata": {},
   "outputs": [
    {
     "data": {
      "text/html": [
       "<div>\n",
       "<style scoped>\n",
       "    .dataframe tbody tr th:only-of-type {\n",
       "        vertical-align: middle;\n",
       "    }\n",
       "\n",
       "    .dataframe tbody tr th {\n",
       "        vertical-align: top;\n",
       "    }\n",
       "\n",
       "    .dataframe thead th {\n",
       "        text-align: right;\n",
       "    }\n",
       "</style>\n",
       "<table border=\"1\" class=\"dataframe\">\n",
       "  <thead>\n",
       "    <tr style=\"text-align: right;\">\n",
       "      <th></th>\n",
       "      <th>0</th>\n",
       "      <th>1</th>\n",
       "      <th>2</th>\n",
       "      <th>3</th>\n",
       "      <th>4</th>\n",
       "    </tr>\n",
       "  </thead>\n",
       "  <tbody>\n",
       "    <tr>\n",
       "      <th>0</th>\n",
       "      <td>0</td>\n",
       "      <td>1</td>\n",
       "      <td>2</td>\n",
       "      <td>3</td>\n",
       "      <td>4</td>\n",
       "    </tr>\n",
       "    <tr>\n",
       "      <th>1</th>\n",
       "      <td>5</td>\n",
       "      <td>6</td>\n",
       "      <td>7</td>\n",
       "      <td>8</td>\n",
       "      <td>9</td>\n",
       "    </tr>\n",
       "    <tr>\n",
       "      <th>2</th>\n",
       "      <td>10</td>\n",
       "      <td>11</td>\n",
       "      <td>12</td>\n",
       "      <td>13</td>\n",
       "      <td>14</td>\n",
       "    </tr>\n",
       "  </tbody>\n",
       "</table>\n",
       "</div>"
      ],
      "text/plain": [
       "    0   1   2   3   4\n",
       "0   0   1   2   3   4\n",
       "1   5   6   7   8   9\n",
       "2  10  11  12  13  14"
      ]
     },
     "execution_count": 100,
     "metadata": {},
     "output_type": "execute_result"
    }
   ],
   "source": [
    "d = pd.DataFrame(np.arange(15).reshape(3,5))\n",
    "d"
   ]
  },
  {
   "cell_type": "code",
   "execution_count": 101,
   "id": "c09b7bdf",
   "metadata": {},
   "outputs": [
    {
     "data": {
      "text/plain": [
       "0    15\n",
       "1    18\n",
       "2    21\n",
       "3    24\n",
       "4    27\n",
       "dtype: int64"
      ]
     },
     "execution_count": 101,
     "metadata": {},
     "output_type": "execute_result"
    }
   ],
   "source": [
    "d.sum()"
   ]
  },
  {
   "cell_type": "code",
   "execution_count": 102,
   "id": "686aae9f",
   "metadata": {},
   "outputs": [
    {
     "data": {
      "text/plain": [
       "0    10\n",
       "1    35\n",
       "2    60\n",
       "dtype: int64"
      ]
     },
     "execution_count": 102,
     "metadata": {},
     "output_type": "execute_result"
    }
   ],
   "source": [
    "d.sum(1)"
   ]
  },
  {
   "cell_type": "code",
   "execution_count": 103,
   "id": "cded256d",
   "metadata": {},
   "outputs": [
    {
     "data": {
      "text/plain": [
       "0    5.0\n",
       "1    6.0\n",
       "2    7.0\n",
       "3    8.0\n",
       "4    9.0\n",
       "dtype: float64"
      ]
     },
     "execution_count": 103,
     "metadata": {},
     "output_type": "execute_result"
    }
   ],
   "source": [
    "d.mean()"
   ]
  },
  {
   "cell_type": "code",
   "execution_count": 104,
   "id": "3d2eefed",
   "metadata": {},
   "outputs": [
    {
     "data": {
      "text/plain": [
       "7.0"
      ]
     },
     "execution_count": 104,
     "metadata": {},
     "output_type": "execute_result"
    }
   ],
   "source": [
    "d.mean().mean()"
   ]
  },
  {
   "cell_type": "markdown",
   "id": "e013548b",
   "metadata": {},
   "source": [
    "Series and DataFrames have dedicated methods to efficiently apply functions to cells or parts.\n",
    "\n",
    "Methods for Series:\n",
    "* `.map()` to apply a function to each cell\n",
    "\n",
    "Methods for DataFrames:\n",
    "* `.applymap()` to apply a function to each cell\n",
    "* `.apply()`\n",
    "    * `axis=0` to apply a function to each column (default!)\n",
    "    * `axis=1` to apply a function to each row"
   ]
  },
  {
   "cell_type": "code",
   "execution_count": 105,
   "id": "9185c662",
   "metadata": {},
   "outputs": [
    {
     "data": {
      "text/plain": [
       "0      one\n",
       "1      two\n",
       "2    three\n",
       "3       go\n",
       "dtype: object"
      ]
     },
     "execution_count": 105,
     "metadata": {},
     "output_type": "execute_result"
    }
   ],
   "source": [
    "s = pd.Series([\"one\", \"two\", \"three\", \"go\"])\n",
    "s"
   ]
  },
  {
   "cell_type": "code",
   "execution_count": 106,
   "id": "1cdb8655",
   "metadata": {},
   "outputs": [
    {
     "data": {
      "text/plain": [
       "0    on\n",
       "1    tw\n",
       "2    th\n",
       "3    go\n",
       "dtype: object"
      ]
     },
     "execution_count": 106,
     "metadata": {},
     "output_type": "execute_result"
    }
   ],
   "source": [
    "s.map(lambda x:x[:2])"
   ]
  },
  {
   "cell_type": "code",
   "execution_count": 107,
   "id": "0fab056f",
   "metadata": {},
   "outputs": [
    {
     "data": {
      "text/html": [
       "<div>\n",
       "<style scoped>\n",
       "    .dataframe tbody tr th:only-of-type {\n",
       "        vertical-align: middle;\n",
       "    }\n",
       "\n",
       "    .dataframe tbody tr th {\n",
       "        vertical-align: top;\n",
       "    }\n",
       "\n",
       "    .dataframe thead th {\n",
       "        text-align: right;\n",
       "    }\n",
       "</style>\n",
       "<table border=\"1\" class=\"dataframe\">\n",
       "  <thead>\n",
       "    <tr style=\"text-align: right;\">\n",
       "      <th></th>\n",
       "      <th>Col1</th>\n",
       "      <th>Col2</th>\n",
       "      <th>Col3</th>\n",
       "    </tr>\n",
       "  </thead>\n",
       "  <tbody>\n",
       "    <tr>\n",
       "      <th>0</th>\n",
       "      <td>0</td>\n",
       "      <td>1</td>\n",
       "      <td>2</td>\n",
       "    </tr>\n",
       "    <tr>\n",
       "      <th>1</th>\n",
       "      <td>3</td>\n",
       "      <td>4</td>\n",
       "      <td>5</td>\n",
       "    </tr>\n",
       "    <tr>\n",
       "      <th>2</th>\n",
       "      <td>6</td>\n",
       "      <td>7</td>\n",
       "      <td>8</td>\n",
       "    </tr>\n",
       "    <tr>\n",
       "      <th>3</th>\n",
       "      <td>9</td>\n",
       "      <td>10</td>\n",
       "      <td>11</td>\n",
       "    </tr>\n",
       "    <tr>\n",
       "      <th>4</th>\n",
       "      <td>12</td>\n",
       "      <td>13</td>\n",
       "      <td>14</td>\n",
       "    </tr>\n",
       "  </tbody>\n",
       "</table>\n",
       "</div>"
      ],
      "text/plain": [
       "   Col1  Col2  Col3\n",
       "0     0     1     2\n",
       "1     3     4     5\n",
       "2     6     7     8\n",
       "3     9    10    11\n",
       "4    12    13    14"
      ]
     },
     "execution_count": 107,
     "metadata": {},
     "output_type": "execute_result"
    }
   ],
   "source": [
    "d = pd.DataFrame(np.arange(15).reshape(5,3), columns=[\"Col1\", \"Col2\", \"Col3\"])\n",
    "d"
   ]
  },
  {
   "cell_type": "markdown",
   "id": "8e3aeff5",
   "metadata": {},
   "source": [
    "Some predefined functions can be accessed in pandas using text, incl. \"sum\", \"mean\", \"std\", \"count\", \"nunique\"..."
   ]
  },
  {
   "cell_type": "code",
   "execution_count": 108,
   "id": "e57e8cd8",
   "metadata": {},
   "outputs": [
    {
     "data": {
      "text/plain": [
       "Col1    30\n",
       "Col2    35\n",
       "Col3    40\n",
       "dtype: int64"
      ]
     },
     "execution_count": 108,
     "metadata": {},
     "output_type": "execute_result"
    }
   ],
   "source": [
    "d.apply(\"sum\",axis=0)"
   ]
  },
  {
   "cell_type": "code",
   "execution_count": 109,
   "id": "7faa835c",
   "metadata": {},
   "outputs": [
    {
     "data": {
      "text/plain": [
       "0     3\n",
       "1    12\n",
       "2    21\n",
       "3    30\n",
       "4    39\n",
       "dtype: int64"
      ]
     },
     "execution_count": 109,
     "metadata": {},
     "output_type": "execute_result"
    }
   ],
   "source": [
    "d.apply(\"sum\",axis=1)"
   ]
  },
  {
   "cell_type": "code",
   "execution_count": 115,
   "id": "560ac0b7",
   "metadata": {},
   "outputs": [
    {
     "data": {
      "text/plain": [
       "0     1\n",
       "1     4\n",
       "2     7\n",
       "3    10\n",
       "4    13\n",
       "dtype: int32"
      ]
     },
     "execution_count": 115,
     "metadata": {},
     "output_type": "execute_result"
    }
   ],
   "source": [
    "d.apply(lambda col:col[\"Col2\"],axis=1)"
   ]
  },
  {
   "cell_type": "markdown",
   "id": "b847cfef",
   "metadata": {},
   "source": [
    "Pandas also has efficient dtype-specific Series methods, e.g.,\n",
    "* `.dt.` methods for datetime manipulation\n",
    "* `.str.` methods for string manipulation"
   ]
  },
  {
   "cell_type": "code",
   "execution_count": 116,
   "id": "240b89b8",
   "metadata": {},
   "outputs": [
    {
     "data": {
      "text/plain": [
       "0      one\n",
       "1      two\n",
       "2    three\n",
       "3       go\n",
       "dtype: object"
      ]
     },
     "execution_count": 116,
     "metadata": {},
     "output_type": "execute_result"
    }
   ],
   "source": [
    "s"
   ]
  },
  {
   "cell_type": "code",
   "execution_count": 117,
   "id": "3df032c6",
   "metadata": {},
   "outputs": [
    {
     "data": {
      "text/plain": [
       "'one-two-three-go'"
      ]
     },
     "execution_count": 117,
     "metadata": {},
     "output_type": "execute_result"
    }
   ],
   "source": [
    "s.str.cat(sep=\"-\")"
   ]
  },
  {
   "cell_type": "markdown",
   "id": "869344ab",
   "metadata": {},
   "source": [
    "#### Arrays and lists from series and dataframes\n",
    "We have already seen that, e.g., `.unique()` returns an array. There are in general ways to get lists and arrays from dataframes and series:\n",
    "\n",
    "* `.tolist()` for lists from Series\n",
    "* `.values` for arrays from Series and DataFrames"
   ]
  },
  {
   "cell_type": "code",
   "execution_count": 118,
   "id": "4d62427d",
   "metadata": {},
   "outputs": [
    {
     "data": {
      "text/plain": [
       "array([['multi', 'Guido van Rossum', 1995, 3, 'Test', 0],\n",
       "       ['multi', 'John McCarthy', 1958, 33, 'Test', 1],\n",
       "       ['multi', 'Bjarne Stroustrup', 1985, 4, 'Test', 2],\n",
       "       ['multi', 'James Gosling', 1996, 1, 'Test', 3],\n",
       "       ['functional', 'Lennart Augustsson', 1990, 40, 'Test', 4],\n",
       "       ['logic', 'Alain Colmerauer', 1972, 36, 'Test', 5]], dtype=object)"
      ]
     },
     "execution_count": 118,
     "metadata": {},
     "output_type": "execute_result"
    }
   ],
   "source": [
    "df.values"
   ]
  },
  {
   "cell_type": "code",
   "execution_count": 119,
   "id": "aab377a9",
   "metadata": {},
   "outputs": [
    {
     "data": {
      "text/plain": [
       "[1995, 1958, 1985, 1996, 1990, 1972]"
      ]
     },
     "execution_count": 119,
     "metadata": {},
     "output_type": "execute_result"
    }
   ],
   "source": [
    "df.year.tolist()"
   ]
  },
  {
   "cell_type": "markdown",
   "id": "dc0e0fdf",
   "metadata": {},
   "source": [
    "#### Sorting"
   ]
  },
  {
   "cell_type": "markdown",
   "id": "88bd2945",
   "metadata": {},
   "source": [
    "We can sort dataframes and series\n",
    "* by values -> `.sort_values()`\n",
    "* by index (or columns) -> `.sort_index()`\n",
    "\n",
    "Both can have arguments:\n",
    "* `axis=0` for rows, `axis=1` for columns\n",
    "* `ascending=True` (default) for ascending or `True` for decreasing values\n",
    "* `by` (sort_values) / `level` (sort_index, optional): one or more columns / index levels (when dealing with MultiIndexes) to use for sorting.\n",
    "* `inplace`, as usual"
   ]
  },
  {
   "cell_type": "code",
   "execution_count": 120,
   "id": "1041e123",
   "metadata": {},
   "outputs": [
    {
     "data": {
      "text/html": [
       "<div>\n",
       "<style scoped>\n",
       "    .dataframe tbody tr th:only-of-type {\n",
       "        vertical-align: middle;\n",
       "    }\n",
       "\n",
       "    .dataframe tbody tr th {\n",
       "        vertical-align: top;\n",
       "    }\n",
       "\n",
       "    .dataframe thead th {\n",
       "        text-align: right;\n",
       "    }\n",
       "</style>\n",
       "<table border=\"1\" class=\"dataframe\">\n",
       "  <thead>\n",
       "    <tr style=\"text-align: right;\">\n",
       "      <th></th>\n",
       "      <th>paradigm</th>\n",
       "      <th>creator</th>\n",
       "      <th>year</th>\n",
       "      <th>tiobe_idx</th>\n",
       "      <th>constant</th>\n",
       "      <th>id</th>\n",
       "    </tr>\n",
       "    <tr>\n",
       "      <th>name</th>\n",
       "      <th></th>\n",
       "      <th></th>\n",
       "      <th></th>\n",
       "      <th></th>\n",
       "      <th></th>\n",
       "      <th></th>\n",
       "    </tr>\n",
       "  </thead>\n",
       "  <tbody>\n",
       "    <tr>\n",
       "      <th>Java</th>\n",
       "      <td>multi</td>\n",
       "      <td>James Gosling</td>\n",
       "      <td>1996</td>\n",
       "      <td>1</td>\n",
       "      <td>Test</td>\n",
       "      <td>3</td>\n",
       "    </tr>\n",
       "    <tr>\n",
       "      <th>Python</th>\n",
       "      <td>multi</td>\n",
       "      <td>Guido van Rossum</td>\n",
       "      <td>1995</td>\n",
       "      <td>3</td>\n",
       "      <td>Test</td>\n",
       "      <td>0</td>\n",
       "    </tr>\n",
       "    <tr>\n",
       "      <th>Haskell</th>\n",
       "      <td>functional</td>\n",
       "      <td>Lennart Augustsson</td>\n",
       "      <td>1990</td>\n",
       "      <td>40</td>\n",
       "      <td>Test</td>\n",
       "      <td>4</td>\n",
       "    </tr>\n",
       "    <tr>\n",
       "      <th>C++</th>\n",
       "      <td>multi</td>\n",
       "      <td>Bjarne Stroustrup</td>\n",
       "      <td>1985</td>\n",
       "      <td>4</td>\n",
       "      <td>Test</td>\n",
       "      <td>2</td>\n",
       "    </tr>\n",
       "    <tr>\n",
       "      <th>Prolog</th>\n",
       "      <td>logic</td>\n",
       "      <td>Alain Colmerauer</td>\n",
       "      <td>1972</td>\n",
       "      <td>36</td>\n",
       "      <td>Test</td>\n",
       "      <td>5</td>\n",
       "    </tr>\n",
       "    <tr>\n",
       "      <th>Lisp</th>\n",
       "      <td>multi</td>\n",
       "      <td>John McCarthy</td>\n",
       "      <td>1958</td>\n",
       "      <td>33</td>\n",
       "      <td>Test</td>\n",
       "      <td>1</td>\n",
       "    </tr>\n",
       "  </tbody>\n",
       "</table>\n",
       "</div>"
      ],
      "text/plain": [
       "           paradigm             creator  year  tiobe_idx constant  id\n",
       "name                                                                 \n",
       "Java          multi       James Gosling  1996          1     Test   3\n",
       "Python        multi    Guido van Rossum  1995          3     Test   0\n",
       "Haskell  functional  Lennart Augustsson  1990         40     Test   4\n",
       "C++           multi   Bjarne Stroustrup  1985          4     Test   2\n",
       "Prolog        logic    Alain Colmerauer  1972         36     Test   5\n",
       "Lisp          multi       John McCarthy  1958         33     Test   1"
      ]
     },
     "execution_count": 120,
     "metadata": {},
     "output_type": "execute_result"
    }
   ],
   "source": [
    "df.sort_values(by=\"year\",ascending=False)"
   ]
  },
  {
   "cell_type": "code",
   "execution_count": 121,
   "id": "5630ae1b",
   "metadata": {},
   "outputs": [
    {
     "data": {
      "text/html": [
       "<div>\n",
       "<style scoped>\n",
       "    .dataframe tbody tr th:only-of-type {\n",
       "        vertical-align: middle;\n",
       "    }\n",
       "\n",
       "    .dataframe tbody tr th {\n",
       "        vertical-align: top;\n",
       "    }\n",
       "\n",
       "    .dataframe thead th {\n",
       "        text-align: right;\n",
       "    }\n",
       "</style>\n",
       "<table border=\"1\" class=\"dataframe\">\n",
       "  <thead>\n",
       "    <tr style=\"text-align: right;\">\n",
       "      <th></th>\n",
       "      <th>paradigm</th>\n",
       "      <th>creator</th>\n",
       "      <th>year</th>\n",
       "      <th>tiobe_idx</th>\n",
       "      <th>constant</th>\n",
       "      <th>id</th>\n",
       "    </tr>\n",
       "    <tr>\n",
       "      <th>name</th>\n",
       "      <th></th>\n",
       "      <th></th>\n",
       "      <th></th>\n",
       "      <th></th>\n",
       "      <th></th>\n",
       "      <th></th>\n",
       "    </tr>\n",
       "  </thead>\n",
       "  <tbody>\n",
       "    <tr>\n",
       "      <th>C++</th>\n",
       "      <td>multi</td>\n",
       "      <td>Bjarne Stroustrup</td>\n",
       "      <td>1985</td>\n",
       "      <td>4</td>\n",
       "      <td>Test</td>\n",
       "      <td>2</td>\n",
       "    </tr>\n",
       "    <tr>\n",
       "      <th>Haskell</th>\n",
       "      <td>functional</td>\n",
       "      <td>Lennart Augustsson</td>\n",
       "      <td>1990</td>\n",
       "      <td>40</td>\n",
       "      <td>Test</td>\n",
       "      <td>4</td>\n",
       "    </tr>\n",
       "    <tr>\n",
       "      <th>Java</th>\n",
       "      <td>multi</td>\n",
       "      <td>James Gosling</td>\n",
       "      <td>1996</td>\n",
       "      <td>1</td>\n",
       "      <td>Test</td>\n",
       "      <td>3</td>\n",
       "    </tr>\n",
       "    <tr>\n",
       "      <th>Lisp</th>\n",
       "      <td>multi</td>\n",
       "      <td>John McCarthy</td>\n",
       "      <td>1958</td>\n",
       "      <td>33</td>\n",
       "      <td>Test</td>\n",
       "      <td>1</td>\n",
       "    </tr>\n",
       "    <tr>\n",
       "      <th>Prolog</th>\n",
       "      <td>logic</td>\n",
       "      <td>Alain Colmerauer</td>\n",
       "      <td>1972</td>\n",
       "      <td>36</td>\n",
       "      <td>Test</td>\n",
       "      <td>5</td>\n",
       "    </tr>\n",
       "    <tr>\n",
       "      <th>Python</th>\n",
       "      <td>multi</td>\n",
       "      <td>Guido van Rossum</td>\n",
       "      <td>1995</td>\n",
       "      <td>3</td>\n",
       "      <td>Test</td>\n",
       "      <td>0</td>\n",
       "    </tr>\n",
       "  </tbody>\n",
       "</table>\n",
       "</div>"
      ],
      "text/plain": [
       "           paradigm             creator  year  tiobe_idx constant  id\n",
       "name                                                                 \n",
       "C++           multi   Bjarne Stroustrup  1985          4     Test   2\n",
       "Haskell  functional  Lennart Augustsson  1990         40     Test   4\n",
       "Java          multi       James Gosling  1996          1     Test   3\n",
       "Lisp          multi       John McCarthy  1958         33     Test   1\n",
       "Prolog        logic    Alain Colmerauer  1972         36     Test   5\n",
       "Python        multi    Guido van Rossum  1995          3     Test   0"
      ]
     },
     "execution_count": 121,
     "metadata": {},
     "output_type": "execute_result"
    }
   ],
   "source": [
    "df.sort_index()"
   ]
  },
  {
   "cell_type": "markdown",
   "id": "6b543f55",
   "metadata": {},
   "source": [
    "#### Types of missing (NA) Data"
   ]
  },
  {
   "cell_type": "code",
   "execution_count": 124,
   "id": "e983aec4",
   "metadata": {},
   "outputs": [
    {
     "name": "stdout",
     "output_type": "stream",
     "text": [
      "None \t <class 'NoneType'>\n",
      "nan \t <class 'float'>\n",
      "NaT \t <class 'pandas._libs.tslibs.nattype.NaTType'>\n"
     ]
    }
   ],
   "source": [
    "for x in [None,np.NaN,pd.NaT]:\n",
    "    print(x,'\\t',type(x))"
   ]
  },
  {
   "cell_type": "code",
   "execution_count": 125,
   "id": "d252b864",
   "metadata": {},
   "outputs": [
    {
     "name": "stdout",
     "output_type": "stream",
     "text": [
      "True\n",
      "True\n",
      "\n",
      "False\n",
      "True\n",
      "\n",
      "False\n",
      "True\n"
     ]
    }
   ],
   "source": [
    "print(None == None)\n",
    "print(None is None)\n",
    "print()\n",
    "\n",
    "print(np.NaN == np.NaN)\n",
    "print(np.NaN is np.NaN)\n",
    "print()\n",
    "\n",
    "print(pd.NaT == pd.NaT)\n",
    "print(pd.NaT is pd.NaT)"
   ]
  },
  {
   "cell_type": "code",
   "execution_count": 126,
   "id": "e7522ef2",
   "metadata": {},
   "outputs": [
    {
     "name": "stdout",
     "output_type": "stream",
     "text": [
      "True\n",
      "False\n"
     ]
    }
   ],
   "source": [
    "print(np.NaN is np.NaN)\n",
    "print(np.NaN is None)"
   ]
  },
  {
   "cell_type": "code",
   "execution_count": 127,
   "id": "fab50d45",
   "metadata": {},
   "outputs": [
    {
     "name": "stdout",
     "output_type": "stream",
     "text": [
      "True\n",
      "False\n"
     ]
    }
   ],
   "source": [
    "print( pd.NaT is pd.NaT )\n",
    "print( pd.NaT is np.datetime64(\"NaT\") )"
   ]
  },
  {
   "cell_type": "markdown",
   "id": "a3347cc1",
   "metadata": {},
   "source": [
    "Pandas takes care of using the column-appropriate type of missing value:\n",
    "\n",
    "* NaN for numeric columns\n",
    "* NaT for datetime columns\n",
    "* None for other kinds of columns"
   ]
  },
  {
   "cell_type": "markdown",
   "id": "6b3916ef",
   "metadata": {},
   "source": [
    "#### `.dropna()`"
   ]
  },
  {
   "cell_type": "code",
   "execution_count": 129,
   "id": "9e298add",
   "metadata": {},
   "outputs": [
    {
     "data": {
      "text/html": [
       "<div>\n",
       "<style scoped>\n",
       "    .dataframe tbody tr th:only-of-type {\n",
       "        vertical-align: middle;\n",
       "    }\n",
       "\n",
       "    .dataframe tbody tr th {\n",
       "        vertical-align: top;\n",
       "    }\n",
       "\n",
       "    .dataframe thead th {\n",
       "        text-align: right;\n",
       "    }\n",
       "</style>\n",
       "<table border=\"1\" class=\"dataframe\">\n",
       "  <thead>\n",
       "    <tr style=\"text-align: right;\">\n",
       "      <th></th>\n",
       "      <th>paradigm</th>\n",
       "      <th>creator</th>\n",
       "      <th>year</th>\n",
       "      <th>tiobe_idx</th>\n",
       "      <th>constant</th>\n",
       "      <th>id</th>\n",
       "    </tr>\n",
       "  </thead>\n",
       "  <tbody>\n",
       "    <tr>\n",
       "      <th>count</th>\n",
       "      <td>6</td>\n",
       "      <td>6</td>\n",
       "      <td>6.000000</td>\n",
       "      <td>6.000000</td>\n",
       "      <td>6</td>\n",
       "      <td>6.000000</td>\n",
       "    </tr>\n",
       "    <tr>\n",
       "      <th>unique</th>\n",
       "      <td>3</td>\n",
       "      <td>6</td>\n",
       "      <td>NaN</td>\n",
       "      <td>NaN</td>\n",
       "      <td>1</td>\n",
       "      <td>NaN</td>\n",
       "    </tr>\n",
       "    <tr>\n",
       "      <th>top</th>\n",
       "      <td>multi</td>\n",
       "      <td>Guido van Rossum</td>\n",
       "      <td>NaN</td>\n",
       "      <td>NaN</td>\n",
       "      <td>Test</td>\n",
       "      <td>NaN</td>\n",
       "    </tr>\n",
       "    <tr>\n",
       "      <th>freq</th>\n",
       "      <td>4</td>\n",
       "      <td>1</td>\n",
       "      <td>NaN</td>\n",
       "      <td>NaN</td>\n",
       "      <td>6</td>\n",
       "      <td>NaN</td>\n",
       "    </tr>\n",
       "    <tr>\n",
       "      <th>mean</th>\n",
       "      <td>NaN</td>\n",
       "      <td>NaN</td>\n",
       "      <td>1982.666667</td>\n",
       "      <td>19.500000</td>\n",
       "      <td>NaN</td>\n",
       "      <td>2.500000</td>\n",
       "    </tr>\n",
       "    <tr>\n",
       "      <th>std</th>\n",
       "      <td>NaN</td>\n",
       "      <td>NaN</td>\n",
       "      <td>14.908610</td>\n",
       "      <td>18.598387</td>\n",
       "      <td>NaN</td>\n",
       "      <td>1.870829</td>\n",
       "    </tr>\n",
       "    <tr>\n",
       "      <th>min</th>\n",
       "      <td>NaN</td>\n",
       "      <td>NaN</td>\n",
       "      <td>1958.000000</td>\n",
       "      <td>1.000000</td>\n",
       "      <td>NaN</td>\n",
       "      <td>0.000000</td>\n",
       "    </tr>\n",
       "    <tr>\n",
       "      <th>25%</th>\n",
       "      <td>NaN</td>\n",
       "      <td>NaN</td>\n",
       "      <td>1975.250000</td>\n",
       "      <td>3.250000</td>\n",
       "      <td>NaN</td>\n",
       "      <td>1.250000</td>\n",
       "    </tr>\n",
       "    <tr>\n",
       "      <th>50%</th>\n",
       "      <td>NaN</td>\n",
       "      <td>NaN</td>\n",
       "      <td>1987.500000</td>\n",
       "      <td>18.500000</td>\n",
       "      <td>NaN</td>\n",
       "      <td>2.500000</td>\n",
       "    </tr>\n",
       "    <tr>\n",
       "      <th>75%</th>\n",
       "      <td>NaN</td>\n",
       "      <td>NaN</td>\n",
       "      <td>1993.750000</td>\n",
       "      <td>35.250000</td>\n",
       "      <td>NaN</td>\n",
       "      <td>3.750000</td>\n",
       "    </tr>\n",
       "    <tr>\n",
       "      <th>max</th>\n",
       "      <td>NaN</td>\n",
       "      <td>NaN</td>\n",
       "      <td>1996.000000</td>\n",
       "      <td>40.000000</td>\n",
       "      <td>NaN</td>\n",
       "      <td>5.000000</td>\n",
       "    </tr>\n",
       "  </tbody>\n",
       "</table>\n",
       "</div>"
      ],
      "text/plain": [
       "       paradigm           creator         year  tiobe_idx constant        id\n",
       "count         6                 6     6.000000   6.000000        6  6.000000\n",
       "unique        3                 6          NaN        NaN        1       NaN\n",
       "top       multi  Guido van Rossum          NaN        NaN     Test       NaN\n",
       "freq          4                 1          NaN        NaN        6       NaN\n",
       "mean        NaN               NaN  1982.666667  19.500000      NaN  2.500000\n",
       "std         NaN               NaN    14.908610  18.598387      NaN  1.870829\n",
       "min         NaN               NaN  1958.000000   1.000000      NaN  0.000000\n",
       "25%         NaN               NaN  1975.250000   3.250000      NaN  1.250000\n",
       "50%         NaN               NaN  1987.500000  18.500000      NaN  2.500000\n",
       "75%         NaN               NaN  1993.750000  35.250000      NaN  3.750000\n",
       "max         NaN               NaN  1996.000000  40.000000      NaN  5.000000"
      ]
     },
     "execution_count": 129,
     "metadata": {},
     "output_type": "execute_result"
    }
   ],
   "source": [
    "df.describe(include='all')"
   ]
  },
  {
   "cell_type": "code",
   "execution_count": 130,
   "id": "8e656dc7",
   "metadata": {},
   "outputs": [
    {
     "data": {
      "text/html": [
       "<div>\n",
       "<style scoped>\n",
       "    .dataframe tbody tr th:only-of-type {\n",
       "        vertical-align: middle;\n",
       "    }\n",
       "\n",
       "    .dataframe tbody tr th {\n",
       "        vertical-align: top;\n",
       "    }\n",
       "\n",
       "    .dataframe thead th {\n",
       "        text-align: right;\n",
       "    }\n",
       "</style>\n",
       "<table border=\"1\" class=\"dataframe\">\n",
       "  <thead>\n",
       "    <tr style=\"text-align: right;\">\n",
       "      <th></th>\n",
       "      <th>paradigm</th>\n",
       "      <th>creator</th>\n",
       "      <th>year</th>\n",
       "      <th>tiobe_idx</th>\n",
       "      <th>constant</th>\n",
       "      <th>id</th>\n",
       "    </tr>\n",
       "  </thead>\n",
       "  <tbody>\n",
       "    <tr>\n",
       "      <th>count</th>\n",
       "      <td>6</td>\n",
       "      <td>6</td>\n",
       "      <td>6.0</td>\n",
       "      <td>6.0</td>\n",
       "      <td>6</td>\n",
       "      <td>6.0</td>\n",
       "    </tr>\n",
       "  </tbody>\n",
       "</table>\n",
       "</div>"
      ],
      "text/plain": [
       "      paradigm creator  year  tiobe_idx constant   id\n",
       "count        6       6   6.0        6.0        6  6.0"
      ]
     },
     "execution_count": 130,
     "metadata": {},
     "output_type": "execute_result"
    }
   ],
   "source": [
    "df.describe(include='all').dropna()"
   ]
  },
  {
   "cell_type": "markdown",
   "id": "158d80ac",
   "metadata": {},
   "source": [
    "As we have seen in the case of numpy arrays, we have options to perform operations along a particular axis.\n",
    "\n",
    "* The default axis pandas uses in almost all methods and functions is axis 0 (rows)\n",
    "* axis 1 (columns) must be specified using the `axis` argument"
   ]
  },
  {
   "cell_type": "code",
   "execution_count": 135,
   "id": "1641bba4",
   "metadata": {},
   "outputs": [],
   "source": [
    "d = pd.DataFrame(np.ones(6).reshape(2,3))\n",
    "d.loc[0,1] = \"string!\"\n",
    "## artificially create a datetime column\n",
    "d[2] = \"1990-01-01\"\n",
    "d[2] = pd.to_datetime(d[2])"
   ]
  },
  {
   "cell_type": "code",
   "execution_count": 136,
   "id": "f2f3c228",
   "metadata": {},
   "outputs": [
    {
     "name": "stdout",
     "output_type": "stream",
     "text": [
      "A dataframe:\n"
     ]
    },
    {
     "data": {
      "text/html": [
       "<div>\n",
       "<style scoped>\n",
       "    .dataframe tbody tr th:only-of-type {\n",
       "        vertical-align: middle;\n",
       "    }\n",
       "\n",
       "    .dataframe tbody tr th {\n",
       "        vertical-align: top;\n",
       "    }\n",
       "\n",
       "    .dataframe thead th {\n",
       "        text-align: right;\n",
       "    }\n",
       "</style>\n",
       "<table border=\"1\" class=\"dataframe\">\n",
       "  <thead>\n",
       "    <tr style=\"text-align: right;\">\n",
       "      <th></th>\n",
       "      <th>0</th>\n",
       "      <th>1</th>\n",
       "      <th>2</th>\n",
       "    </tr>\n",
       "  </thead>\n",
       "  <tbody>\n",
       "    <tr>\n",
       "      <th>0</th>\n",
       "      <td>1.0</td>\n",
       "      <td>string!</td>\n",
       "      <td>1990-01-01</td>\n",
       "    </tr>\n",
       "    <tr>\n",
       "      <th>1</th>\n",
       "      <td>1.0</td>\n",
       "      <td>1.0</td>\n",
       "      <td>1990-01-01</td>\n",
       "    </tr>\n",
       "  </tbody>\n",
       "</table>\n",
       "</div>"
      ],
      "text/plain": [
       "     0        1          2\n",
       "0  1.0  string! 1990-01-01\n",
       "1  1.0      1.0 1990-01-01"
      ]
     },
     "metadata": {},
     "output_type": "display_data"
    },
    {
     "name": "stdout",
     "output_type": "stream",
     "text": [
      "\n",
      "Its types:\n",
      "0           float64\n",
      "1            object\n",
      "2    datetime64[ns]\n",
      "dtype: object\n",
      "\n",
      "After setting row 1 to [None, None, None]:\n"
     ]
    },
    {
     "data": {
      "text/html": [
       "<div>\n",
       "<style scoped>\n",
       "    .dataframe tbody tr th:only-of-type {\n",
       "        vertical-align: middle;\n",
       "    }\n",
       "\n",
       "    .dataframe tbody tr th {\n",
       "        vertical-align: top;\n",
       "    }\n",
       "\n",
       "    .dataframe thead th {\n",
       "        text-align: right;\n",
       "    }\n",
       "</style>\n",
       "<table border=\"1\" class=\"dataframe\">\n",
       "  <thead>\n",
       "    <tr style=\"text-align: right;\">\n",
       "      <th></th>\n",
       "      <th>0</th>\n",
       "      <th>1</th>\n",
       "      <th>2</th>\n",
       "    </tr>\n",
       "  </thead>\n",
       "  <tbody>\n",
       "    <tr>\n",
       "      <th>0</th>\n",
       "      <td>1.0</td>\n",
       "      <td>string!</td>\n",
       "      <td>1990-01-01</td>\n",
       "    </tr>\n",
       "    <tr>\n",
       "      <th>1</th>\n",
       "      <td>NaN</td>\n",
       "      <td>None</td>\n",
       "      <td>NaT</td>\n",
       "    </tr>\n",
       "  </tbody>\n",
       "</table>\n",
       "</div>"
      ],
      "text/plain": [
       "     0        1          2\n",
       "0  1.0  string! 1990-01-01\n",
       "1  NaN     None        NaT"
      ]
     },
     "metadata": {},
     "output_type": "display_data"
    },
    {
     "name": "stdout",
     "output_type": "stream",
     "text": [
      "\n",
      "and the dtypes:\n"
     ]
    },
    {
     "data": {
      "text/plain": [
       "0           float64\n",
       "1            object\n",
       "2    datetime64[ns]\n",
       "dtype: object"
      ]
     },
     "metadata": {},
     "output_type": "display_data"
    }
   ],
   "source": [
    "print(\"A dataframe:\")\n",
    "display(d)\n",
    "\n",
    "print(\"\\nIts types:\")\n",
    "print(d.dtypes)\n",
    "\n",
    "d.iloc[1] = [None, None, None]\n",
    "print(\"\\nAfter setting row 1 to [None, None, None]:\")\n",
    "display(d)\n",
    "print(\"\\nand the dtypes:\")\n",
    "display(d.dtypes)"
   ]
  },
  {
   "cell_type": "code",
   "execution_count": 137,
   "id": "f037519e",
   "metadata": {},
   "outputs": [
    {
     "name": "stdout",
     "output_type": "stream",
     "text": [
      "A dataframe:\n"
     ]
    },
    {
     "data": {
      "text/html": [
       "<div>\n",
       "<style scoped>\n",
       "    .dataframe tbody tr th:only-of-type {\n",
       "        vertical-align: middle;\n",
       "    }\n",
       "\n",
       "    .dataframe tbody tr th {\n",
       "        vertical-align: top;\n",
       "    }\n",
       "\n",
       "    .dataframe thead th {\n",
       "        text-align: right;\n",
       "    }\n",
       "</style>\n",
       "<table border=\"1\" class=\"dataframe\">\n",
       "  <thead>\n",
       "    <tr style=\"text-align: right;\">\n",
       "      <th></th>\n",
       "      <th>0</th>\n",
       "      <th>1</th>\n",
       "      <th>2</th>\n",
       "    </tr>\n",
       "  </thead>\n",
       "  <tbody>\n",
       "    <tr>\n",
       "      <th>0</th>\n",
       "      <td>1.0</td>\n",
       "      <td>0</td>\n",
       "      <td>1990-01-01</td>\n",
       "    </tr>\n",
       "    <tr>\n",
       "      <th>1</th>\n",
       "      <td>two</td>\n",
       "      <td>1</td>\n",
       "      <td>NaT</td>\n",
       "    </tr>\n",
       "  </tbody>\n",
       "</table>\n",
       "</div>"
      ],
      "text/plain": [
       "     0  1          2\n",
       "0  1.0  0 1990-01-01\n",
       "1  two  1        NaT"
      ]
     },
     "execution_count": 137,
     "metadata": {},
     "output_type": "execute_result"
    }
   ],
   "source": [
    "print(\"A dataframe:\")\n",
    "d[1] = {0: 0, 1: 1}\n",
    "d.loc[1,0] = \"two\"\n",
    "d"
   ]
  },
  {
   "cell_type": "code",
   "execution_count": 138,
   "id": "38cd8141",
   "metadata": {},
   "outputs": [
    {
     "name": "stdout",
     "output_type": "stream",
     "text": [
      ".dropna():\n"
     ]
    },
    {
     "data": {
      "text/html": [
       "<div>\n",
       "<style scoped>\n",
       "    .dataframe tbody tr th:only-of-type {\n",
       "        vertical-align: middle;\n",
       "    }\n",
       "\n",
       "    .dataframe tbody tr th {\n",
       "        vertical-align: top;\n",
       "    }\n",
       "\n",
       "    .dataframe thead th {\n",
       "        text-align: right;\n",
       "    }\n",
       "</style>\n",
       "<table border=\"1\" class=\"dataframe\">\n",
       "  <thead>\n",
       "    <tr style=\"text-align: right;\">\n",
       "      <th></th>\n",
       "      <th>0</th>\n",
       "      <th>1</th>\n",
       "      <th>2</th>\n",
       "    </tr>\n",
       "  </thead>\n",
       "  <tbody>\n",
       "    <tr>\n",
       "      <th>0</th>\n",
       "      <td>1.0</td>\n",
       "      <td>0</td>\n",
       "      <td>1990-01-01</td>\n",
       "    </tr>\n",
       "  </tbody>\n",
       "</table>\n",
       "</div>"
      ],
      "text/plain": [
       "     0  1          2\n",
       "0  1.0  0 1990-01-01"
      ]
     },
     "metadata": {},
     "output_type": "display_data"
    },
    {
     "name": "stdout",
     "output_type": "stream",
     "text": [
      "\n",
      "equivalent to .dropna(axis=0):\n"
     ]
    },
    {
     "data": {
      "text/html": [
       "<div>\n",
       "<style scoped>\n",
       "    .dataframe tbody tr th:only-of-type {\n",
       "        vertical-align: middle;\n",
       "    }\n",
       "\n",
       "    .dataframe tbody tr th {\n",
       "        vertical-align: top;\n",
       "    }\n",
       "\n",
       "    .dataframe thead th {\n",
       "        text-align: right;\n",
       "    }\n",
       "</style>\n",
       "<table border=\"1\" class=\"dataframe\">\n",
       "  <thead>\n",
       "    <tr style=\"text-align: right;\">\n",
       "      <th></th>\n",
       "      <th>0</th>\n",
       "      <th>1</th>\n",
       "      <th>2</th>\n",
       "    </tr>\n",
       "  </thead>\n",
       "  <tbody>\n",
       "    <tr>\n",
       "      <th>0</th>\n",
       "      <td>1.0</td>\n",
       "      <td>0</td>\n",
       "      <td>1990-01-01</td>\n",
       "    </tr>\n",
       "  </tbody>\n",
       "</table>\n",
       "</div>"
      ],
      "text/plain": [
       "     0  1          2\n",
       "0  1.0  0 1990-01-01"
      ]
     },
     "metadata": {},
     "output_type": "display_data"
    },
    {
     "name": "stdout",
     "output_type": "stream",
     "text": [
      "\n",
      ".dropna(axis=1):\n"
     ]
    },
    {
     "data": {
      "text/html": [
       "<div>\n",
       "<style scoped>\n",
       "    .dataframe tbody tr th:only-of-type {\n",
       "        vertical-align: middle;\n",
       "    }\n",
       "\n",
       "    .dataframe tbody tr th {\n",
       "        vertical-align: top;\n",
       "    }\n",
       "\n",
       "    .dataframe thead th {\n",
       "        text-align: right;\n",
       "    }\n",
       "</style>\n",
       "<table border=\"1\" class=\"dataframe\">\n",
       "  <thead>\n",
       "    <tr style=\"text-align: right;\">\n",
       "      <th></th>\n",
       "      <th>0</th>\n",
       "      <th>1</th>\n",
       "    </tr>\n",
       "  </thead>\n",
       "  <tbody>\n",
       "    <tr>\n",
       "      <th>0</th>\n",
       "      <td>1.0</td>\n",
       "      <td>0</td>\n",
       "    </tr>\n",
       "    <tr>\n",
       "      <th>1</th>\n",
       "      <td>two</td>\n",
       "      <td>1</td>\n",
       "    </tr>\n",
       "  </tbody>\n",
       "</table>\n",
       "</div>"
      ],
      "text/plain": [
       "     0  1\n",
       "0  1.0  0\n",
       "1  two  1"
      ]
     },
     "metadata": {},
     "output_type": "display_data"
    }
   ],
   "source": [
    "print(\".dropna():\")\n",
    "display(d.dropna())\n",
    "\n",
    "print(\"\\nequivalent to .dropna(axis=0):\")\n",
    "display(d.dropna(axis=0))\n",
    "\n",
    "print(\"\\n.dropna(axis=1):\")\n",
    "display(d.dropna(axis=1))"
   ]
  },
  {
   "cell_type": "markdown",
   "id": "6824d77a",
   "metadata": {},
   "source": [
    "Sometimes we only want to get rid of rows with absolutely no information, but if only some of the cells are missing, we want to keep it. For that, we can use the `how` argument:\n",
    "* `'any'` : If any NA values are present, drop that row or column. -> This is the default!\n",
    "* `'all'` : If all values are NA, drop that row or column."
   ]
  },
  {
   "cell_type": "code",
   "execution_count": 139,
   "id": "778bbbb6",
   "metadata": {},
   "outputs": [
    {
     "name": "stderr",
     "output_type": "stream",
     "text": [
      "C:\\Users\\malir\\AppData\\Local\\Temp\\ipykernel_6536\\488411369.py:1: FutureWarning: The default dtype for empty Series will be 'object' instead of 'float64' in a future version. Specify a dtype explicitly to silence this warning.\n",
      "  d.loc[2] = None\n"
     ]
    },
    {
     "data": {
      "text/html": [
       "<div>\n",
       "<style scoped>\n",
       "    .dataframe tbody tr th:only-of-type {\n",
       "        vertical-align: middle;\n",
       "    }\n",
       "\n",
       "    .dataframe tbody tr th {\n",
       "        vertical-align: top;\n",
       "    }\n",
       "\n",
       "    .dataframe thead th {\n",
       "        text-align: right;\n",
       "    }\n",
       "</style>\n",
       "<table border=\"1\" class=\"dataframe\">\n",
       "  <thead>\n",
       "    <tr style=\"text-align: right;\">\n",
       "      <th></th>\n",
       "      <th>0</th>\n",
       "      <th>1</th>\n",
       "      <th>2</th>\n",
       "    </tr>\n",
       "  </thead>\n",
       "  <tbody>\n",
       "    <tr>\n",
       "      <th>0</th>\n",
       "      <td>1.0</td>\n",
       "      <td>0.0</td>\n",
       "      <td>1990-01-01</td>\n",
       "    </tr>\n",
       "    <tr>\n",
       "      <th>1</th>\n",
       "      <td>two</td>\n",
       "      <td>1.0</td>\n",
       "      <td>NaT</td>\n",
       "    </tr>\n",
       "    <tr>\n",
       "      <th>2</th>\n",
       "      <td>NaN</td>\n",
       "      <td>NaN</td>\n",
       "      <td>NaT</td>\n",
       "    </tr>\n",
       "  </tbody>\n",
       "</table>\n",
       "</div>"
      ],
      "text/plain": [
       "     0    1          2\n",
       "0  1.0  0.0 1990-01-01\n",
       "1  two  1.0        NaT\n",
       "2  NaN  NaN        NaT"
      ]
     },
     "execution_count": 139,
     "metadata": {},
     "output_type": "execute_result"
    }
   ],
   "source": [
    "d.loc[2] = None\n",
    "d"
   ]
  },
  {
   "cell_type": "code",
   "execution_count": 140,
   "id": "30e15c42",
   "metadata": {},
   "outputs": [
    {
     "name": "stdout",
     "output_type": "stream",
     "text": [
      ".dropna():\n"
     ]
    },
    {
     "data": {
      "text/html": [
       "<div>\n",
       "<style scoped>\n",
       "    .dataframe tbody tr th:only-of-type {\n",
       "        vertical-align: middle;\n",
       "    }\n",
       "\n",
       "    .dataframe tbody tr th {\n",
       "        vertical-align: top;\n",
       "    }\n",
       "\n",
       "    .dataframe thead th {\n",
       "        text-align: right;\n",
       "    }\n",
       "</style>\n",
       "<table border=\"1\" class=\"dataframe\">\n",
       "  <thead>\n",
       "    <tr style=\"text-align: right;\">\n",
       "      <th></th>\n",
       "      <th>0</th>\n",
       "      <th>1</th>\n",
       "      <th>2</th>\n",
       "    </tr>\n",
       "  </thead>\n",
       "  <tbody>\n",
       "    <tr>\n",
       "      <th>0</th>\n",
       "      <td>1.0</td>\n",
       "      <td>0.0</td>\n",
       "      <td>1990-01-01</td>\n",
       "    </tr>\n",
       "  </tbody>\n",
       "</table>\n",
       "</div>"
      ],
      "text/plain": [
       "     0    1          2\n",
       "0  1.0  0.0 1990-01-01"
      ]
     },
     "metadata": {},
     "output_type": "display_data"
    },
    {
     "name": "stdout",
     "output_type": "stream",
     "text": [
      "\n",
      "equivalent to .dropna(how='any'):\n"
     ]
    },
    {
     "data": {
      "text/html": [
       "<div>\n",
       "<style scoped>\n",
       "    .dataframe tbody tr th:only-of-type {\n",
       "        vertical-align: middle;\n",
       "    }\n",
       "\n",
       "    .dataframe tbody tr th {\n",
       "        vertical-align: top;\n",
       "    }\n",
       "\n",
       "    .dataframe thead th {\n",
       "        text-align: right;\n",
       "    }\n",
       "</style>\n",
       "<table border=\"1\" class=\"dataframe\">\n",
       "  <thead>\n",
       "    <tr style=\"text-align: right;\">\n",
       "      <th></th>\n",
       "      <th>0</th>\n",
       "      <th>1</th>\n",
       "      <th>2</th>\n",
       "    </tr>\n",
       "  </thead>\n",
       "  <tbody>\n",
       "    <tr>\n",
       "      <th>0</th>\n",
       "      <td>1.0</td>\n",
       "      <td>0.0</td>\n",
       "      <td>1990-01-01</td>\n",
       "    </tr>\n",
       "  </tbody>\n",
       "</table>\n",
       "</div>"
      ],
      "text/plain": [
       "     0    1          2\n",
       "0  1.0  0.0 1990-01-01"
      ]
     },
     "metadata": {},
     "output_type": "display_data"
    },
    {
     "name": "stdout",
     "output_type": "stream",
     "text": [
      "\n",
      ".dropna(how='all'):\n"
     ]
    },
    {
     "data": {
      "text/html": [
       "<div>\n",
       "<style scoped>\n",
       "    .dataframe tbody tr th:only-of-type {\n",
       "        vertical-align: middle;\n",
       "    }\n",
       "\n",
       "    .dataframe tbody tr th {\n",
       "        vertical-align: top;\n",
       "    }\n",
       "\n",
       "    .dataframe thead th {\n",
       "        text-align: right;\n",
       "    }\n",
       "</style>\n",
       "<table border=\"1\" class=\"dataframe\">\n",
       "  <thead>\n",
       "    <tr style=\"text-align: right;\">\n",
       "      <th></th>\n",
       "      <th>0</th>\n",
       "      <th>1</th>\n",
       "      <th>2</th>\n",
       "    </tr>\n",
       "  </thead>\n",
       "  <tbody>\n",
       "    <tr>\n",
       "      <th>0</th>\n",
       "      <td>1.0</td>\n",
       "      <td>0.0</td>\n",
       "      <td>1990-01-01</td>\n",
       "    </tr>\n",
       "    <tr>\n",
       "      <th>1</th>\n",
       "      <td>two</td>\n",
       "      <td>1.0</td>\n",
       "      <td>NaT</td>\n",
       "    </tr>\n",
       "  </tbody>\n",
       "</table>\n",
       "</div>"
      ],
      "text/plain": [
       "     0    1          2\n",
       "0  1.0  0.0 1990-01-01\n",
       "1  two  1.0        NaT"
      ]
     },
     "metadata": {},
     "output_type": "display_data"
    }
   ],
   "source": [
    "print(\".dropna():\")\n",
    "display(d.dropna())\n",
    "\n",
    "print(\"\\nequivalent to .dropna(how='any'):\")\n",
    "display(d.dropna(how='any'))\n",
    "\n",
    "print(\"\\n.dropna(how='all'):\")\n",
    "display(d.dropna(how='all'))"
   ]
  },
  {
   "cell_type": "markdown",
   "id": "e05f1167",
   "metadata": {},
   "source": [
    "As with many other pandas functions and methods, `.dropna()` takes an `inplace` argument."
   ]
  },
  {
   "cell_type": "markdown",
   "id": "45ac2978",
   "metadata": {},
   "source": [
    "Another useful argument is `subset`, if you only want to check a subset of the **other axis** labels for NA values."
   ]
  },
  {
   "cell_type": "code",
   "execution_count": 141,
   "id": "952bf7c1",
   "metadata": {},
   "outputs": [
    {
     "data": {
      "text/html": [
       "<div>\n",
       "<style scoped>\n",
       "    .dataframe tbody tr th:only-of-type {\n",
       "        vertical-align: middle;\n",
       "    }\n",
       "\n",
       "    .dataframe tbody tr th {\n",
       "        vertical-align: top;\n",
       "    }\n",
       "\n",
       "    .dataframe thead th {\n",
       "        text-align: right;\n",
       "    }\n",
       "</style>\n",
       "<table border=\"1\" class=\"dataframe\">\n",
       "  <thead>\n",
       "    <tr style=\"text-align: right;\">\n",
       "      <th></th>\n",
       "      <th>paradigm</th>\n",
       "      <th>creator</th>\n",
       "      <th>year</th>\n",
       "      <th>tiobe_idx</th>\n",
       "      <th>constant</th>\n",
       "      <th>id</th>\n",
       "    </tr>\n",
       "  </thead>\n",
       "  <tbody>\n",
       "    <tr>\n",
       "      <th>count</th>\n",
       "      <td>6</td>\n",
       "      <td>6</td>\n",
       "      <td>6.000000</td>\n",
       "      <td>6.000000</td>\n",
       "      <td>6</td>\n",
       "      <td>6.000000</td>\n",
       "    </tr>\n",
       "    <tr>\n",
       "      <th>unique</th>\n",
       "      <td>3</td>\n",
       "      <td>6</td>\n",
       "      <td>NaN</td>\n",
       "      <td>NaN</td>\n",
       "      <td>1</td>\n",
       "      <td>NaN</td>\n",
       "    </tr>\n",
       "    <tr>\n",
       "      <th>top</th>\n",
       "      <td>multi</td>\n",
       "      <td>Guido van Rossum</td>\n",
       "      <td>NaN</td>\n",
       "      <td>NaN</td>\n",
       "      <td>Test</td>\n",
       "      <td>NaN</td>\n",
       "    </tr>\n",
       "    <tr>\n",
       "      <th>freq</th>\n",
       "      <td>4</td>\n",
       "      <td>1</td>\n",
       "      <td>NaN</td>\n",
       "      <td>NaN</td>\n",
       "      <td>6</td>\n",
       "      <td>NaN</td>\n",
       "    </tr>\n",
       "    <tr>\n",
       "      <th>mean</th>\n",
       "      <td>NaN</td>\n",
       "      <td>NaN</td>\n",
       "      <td>1982.666667</td>\n",
       "      <td>19.500000</td>\n",
       "      <td>NaN</td>\n",
       "      <td>2.500000</td>\n",
       "    </tr>\n",
       "    <tr>\n",
       "      <th>std</th>\n",
       "      <td>NaN</td>\n",
       "      <td>NaN</td>\n",
       "      <td>14.908610</td>\n",
       "      <td>18.598387</td>\n",
       "      <td>NaN</td>\n",
       "      <td>1.870829</td>\n",
       "    </tr>\n",
       "    <tr>\n",
       "      <th>min</th>\n",
       "      <td>NaN</td>\n",
       "      <td>NaN</td>\n",
       "      <td>1958.000000</td>\n",
       "      <td>1.000000</td>\n",
       "      <td>NaN</td>\n",
       "      <td>0.000000</td>\n",
       "    </tr>\n",
       "    <tr>\n",
       "      <th>25%</th>\n",
       "      <td>NaN</td>\n",
       "      <td>NaN</td>\n",
       "      <td>1975.250000</td>\n",
       "      <td>3.250000</td>\n",
       "      <td>NaN</td>\n",
       "      <td>1.250000</td>\n",
       "    </tr>\n",
       "    <tr>\n",
       "      <th>50%</th>\n",
       "      <td>NaN</td>\n",
       "      <td>NaN</td>\n",
       "      <td>1987.500000</td>\n",
       "      <td>18.500000</td>\n",
       "      <td>NaN</td>\n",
       "      <td>2.500000</td>\n",
       "    </tr>\n",
       "    <tr>\n",
       "      <th>75%</th>\n",
       "      <td>NaN</td>\n",
       "      <td>NaN</td>\n",
       "      <td>1993.750000</td>\n",
       "      <td>35.250000</td>\n",
       "      <td>NaN</td>\n",
       "      <td>3.750000</td>\n",
       "    </tr>\n",
       "    <tr>\n",
       "      <th>max</th>\n",
       "      <td>NaN</td>\n",
       "      <td>NaN</td>\n",
       "      <td>1996.000000</td>\n",
       "      <td>40.000000</td>\n",
       "      <td>NaN</td>\n",
       "      <td>5.000000</td>\n",
       "    </tr>\n",
       "  </tbody>\n",
       "</table>\n",
       "</div>"
      ],
      "text/plain": [
       "       paradigm           creator         year  tiobe_idx constant        id\n",
       "count         6                 6     6.000000   6.000000        6  6.000000\n",
       "unique        3                 6          NaN        NaN        1       NaN\n",
       "top       multi  Guido van Rossum          NaN        NaN     Test       NaN\n",
       "freq          4                 1          NaN        NaN        6       NaN\n",
       "mean        NaN               NaN  1982.666667  19.500000      NaN  2.500000\n",
       "std         NaN               NaN    14.908610  18.598387      NaN  1.870829\n",
       "min         NaN               NaN  1958.000000   1.000000      NaN  0.000000\n",
       "25%         NaN               NaN  1975.250000   3.250000      NaN  1.250000\n",
       "50%         NaN               NaN  1987.500000  18.500000      NaN  2.500000\n",
       "75%         NaN               NaN  1993.750000  35.250000      NaN  3.750000\n",
       "max         NaN               NaN  1996.000000  40.000000      NaN  5.000000"
      ]
     },
     "execution_count": 141,
     "metadata": {},
     "output_type": "execute_result"
    }
   ],
   "source": [
    "df.describe(include=\"all\")"
   ]
  },
  {
   "cell_type": "code",
   "execution_count": 142,
   "id": "6fe8a44e",
   "metadata": {},
   "outputs": [
    {
     "data": {
      "text/html": [
       "<div>\n",
       "<style scoped>\n",
       "    .dataframe tbody tr th:only-of-type {\n",
       "        vertical-align: middle;\n",
       "    }\n",
       "\n",
       "    .dataframe tbody tr th {\n",
       "        vertical-align: top;\n",
       "    }\n",
       "\n",
       "    .dataframe thead th {\n",
       "        text-align: right;\n",
       "    }\n",
       "</style>\n",
       "<table border=\"1\" class=\"dataframe\">\n",
       "  <thead>\n",
       "    <tr style=\"text-align: right;\">\n",
       "      <th></th>\n",
       "      <th>paradigm</th>\n",
       "      <th>creator</th>\n",
       "      <th>year</th>\n",
       "      <th>tiobe_idx</th>\n",
       "      <th>constant</th>\n",
       "      <th>id</th>\n",
       "    </tr>\n",
       "  </thead>\n",
       "  <tbody>\n",
       "    <tr>\n",
       "      <th>count</th>\n",
       "      <td>6</td>\n",
       "      <td>6</td>\n",
       "      <td>6.0</td>\n",
       "      <td>6.0</td>\n",
       "      <td>6</td>\n",
       "      <td>6.0</td>\n",
       "    </tr>\n",
       "    <tr>\n",
       "      <th>unique</th>\n",
       "      <td>3</td>\n",
       "      <td>6</td>\n",
       "      <td>NaN</td>\n",
       "      <td>NaN</td>\n",
       "      <td>1</td>\n",
       "      <td>NaN</td>\n",
       "    </tr>\n",
       "    <tr>\n",
       "      <th>top</th>\n",
       "      <td>multi</td>\n",
       "      <td>Guido van Rossum</td>\n",
       "      <td>NaN</td>\n",
       "      <td>NaN</td>\n",
       "      <td>Test</td>\n",
       "      <td>NaN</td>\n",
       "    </tr>\n",
       "    <tr>\n",
       "      <th>freq</th>\n",
       "      <td>4</td>\n",
       "      <td>1</td>\n",
       "      <td>NaN</td>\n",
       "      <td>NaN</td>\n",
       "      <td>6</td>\n",
       "      <td>NaN</td>\n",
       "    </tr>\n",
       "  </tbody>\n",
       "</table>\n",
       "</div>"
      ],
      "text/plain": [
       "       paradigm           creator  year  tiobe_idx constant   id\n",
       "count         6                 6   6.0        6.0        6  6.0\n",
       "unique        3                 6   NaN        NaN        1  NaN\n",
       "top       multi  Guido van Rossum   NaN        NaN     Test  NaN\n",
       "freq          4                 1   NaN        NaN        6  NaN"
      ]
     },
     "execution_count": 142,
     "metadata": {},
     "output_type": "execute_result"
    }
   ],
   "source": [
    "df.describe(include=\"all\").dropna(subset=[\"creator\"])"
   ]
  },
  {
   "cell_type": "markdown",
   "id": "9b8bb9c8",
   "metadata": {},
   "source": [
    "#### `.fillna()`"
   ]
  },
  {
   "cell_type": "markdown",
   "id": "5ab55607",
   "metadata": {},
   "source": [
    "A versatile filling method\n",
    "* fill with a single value\n",
    "* \"ffill\" or \"bfill\" to forward-or backward fill values from existing values"
   ]
  },
  {
   "cell_type": "code",
   "execution_count": 143,
   "id": "e16bb4e0",
   "metadata": {},
   "outputs": [
    {
     "data": {
      "text/html": [
       "<div>\n",
       "<style scoped>\n",
       "    .dataframe tbody tr th:only-of-type {\n",
       "        vertical-align: middle;\n",
       "    }\n",
       "\n",
       "    .dataframe tbody tr th {\n",
       "        vertical-align: top;\n",
       "    }\n",
       "\n",
       "    .dataframe thead th {\n",
       "        text-align: right;\n",
       "    }\n",
       "</style>\n",
       "<table border=\"1\" class=\"dataframe\">\n",
       "  <thead>\n",
       "    <tr style=\"text-align: right;\">\n",
       "      <th></th>\n",
       "      <th>0</th>\n",
       "      <th>1</th>\n",
       "      <th>2</th>\n",
       "    </tr>\n",
       "  </thead>\n",
       "  <tbody>\n",
       "    <tr>\n",
       "      <th>0</th>\n",
       "      <td>1.0</td>\n",
       "      <td>0.0</td>\n",
       "      <td>1990-01-01 00:00:00</td>\n",
       "    </tr>\n",
       "    <tr>\n",
       "      <th>1</th>\n",
       "      <td>two</td>\n",
       "      <td>1.0</td>\n",
       "      <td>NaT</td>\n",
       "    </tr>\n",
       "    <tr>\n",
       "      <th>2</th>\n",
       "      <td>2</td>\n",
       "      <td>2.0</td>\n",
       "      <td>2</td>\n",
       "    </tr>\n",
       "  </tbody>\n",
       "</table>\n",
       "</div>"
      ],
      "text/plain": [
       "     0    1                    2\n",
       "0  1.0  0.0  1990-01-01 00:00:00\n",
       "1  two  1.0                  NaT\n",
       "2    2  2.0                    2"
      ]
     },
     "execution_count": 143,
     "metadata": {},
     "output_type": "execute_result"
    }
   ],
   "source": [
    "d.loc[2] = 2\n",
    "d"
   ]
  },
  {
   "cell_type": "code",
   "execution_count": 144,
   "id": "433b5542",
   "metadata": {},
   "outputs": [
    {
     "data": {
      "text/html": [
       "<div>\n",
       "<style scoped>\n",
       "    .dataframe tbody tr th:only-of-type {\n",
       "        vertical-align: middle;\n",
       "    }\n",
       "\n",
       "    .dataframe tbody tr th {\n",
       "        vertical-align: top;\n",
       "    }\n",
       "\n",
       "    .dataframe thead th {\n",
       "        text-align: right;\n",
       "    }\n",
       "</style>\n",
       "<table border=\"1\" class=\"dataframe\">\n",
       "  <thead>\n",
       "    <tr style=\"text-align: right;\">\n",
       "      <th></th>\n",
       "      <th>0</th>\n",
       "      <th>1</th>\n",
       "      <th>2</th>\n",
       "    </tr>\n",
       "  </thead>\n",
       "  <tbody>\n",
       "    <tr>\n",
       "      <th>0</th>\n",
       "      <td>1.0</td>\n",
       "      <td>0.0</td>\n",
       "      <td>1990-01-01 00:00:00</td>\n",
       "    </tr>\n",
       "    <tr>\n",
       "      <th>1</th>\n",
       "      <td>two</td>\n",
       "      <td>1.0</td>\n",
       "      <td>Missing</td>\n",
       "    </tr>\n",
       "    <tr>\n",
       "      <th>2</th>\n",
       "      <td>2</td>\n",
       "      <td>2.0</td>\n",
       "      <td>2</td>\n",
       "    </tr>\n",
       "  </tbody>\n",
       "</table>\n",
       "</div>"
      ],
      "text/plain": [
       "     0    1                    2\n",
       "0  1.0  0.0  1990-01-01 00:00:00\n",
       "1  two  1.0              Missing\n",
       "2    2  2.0                    2"
      ]
     },
     "execution_count": 144,
     "metadata": {},
     "output_type": "execute_result"
    }
   ],
   "source": [
    "d.fillna(\"Missing\")"
   ]
  },
  {
   "cell_type": "code",
   "execution_count": 145,
   "id": "6303ff9c",
   "metadata": {},
   "outputs": [
    {
     "data": {
      "text/html": [
       "<div>\n",
       "<style scoped>\n",
       "    .dataframe tbody tr th:only-of-type {\n",
       "        vertical-align: middle;\n",
       "    }\n",
       "\n",
       "    .dataframe tbody tr th {\n",
       "        vertical-align: top;\n",
       "    }\n",
       "\n",
       "    .dataframe thead th {\n",
       "        text-align: right;\n",
       "    }\n",
       "</style>\n",
       "<table border=\"1\" class=\"dataframe\">\n",
       "  <thead>\n",
       "    <tr style=\"text-align: right;\">\n",
       "      <th></th>\n",
       "      <th>0</th>\n",
       "      <th>1</th>\n",
       "      <th>2</th>\n",
       "    </tr>\n",
       "  </thead>\n",
       "  <tbody>\n",
       "    <tr>\n",
       "      <th>0</th>\n",
       "      <td>1.0</td>\n",
       "      <td>0.0</td>\n",
       "      <td>1990-01-01 00:00:00</td>\n",
       "    </tr>\n",
       "    <tr>\n",
       "      <th>1</th>\n",
       "      <td>two</td>\n",
       "      <td>1.0</td>\n",
       "      <td>1990-01-01 00:00:00</td>\n",
       "    </tr>\n",
       "    <tr>\n",
       "      <th>2</th>\n",
       "      <td>2</td>\n",
       "      <td>2.0</td>\n",
       "      <td>2</td>\n",
       "    </tr>\n",
       "  </tbody>\n",
       "</table>\n",
       "</div>"
      ],
      "text/plain": [
       "     0    1                    2\n",
       "0  1.0  0.0  1990-01-01 00:00:00\n",
       "1  two  1.0  1990-01-01 00:00:00\n",
       "2    2  2.0                    2"
      ]
     },
     "metadata": {},
     "output_type": "display_data"
    },
    {
     "data": {
      "text/html": [
       "<div>\n",
       "<style scoped>\n",
       "    .dataframe tbody tr th:only-of-type {\n",
       "        vertical-align: middle;\n",
       "    }\n",
       "\n",
       "    .dataframe tbody tr th {\n",
       "        vertical-align: top;\n",
       "    }\n",
       "\n",
       "    .dataframe thead th {\n",
       "        text-align: right;\n",
       "    }\n",
       "</style>\n",
       "<table border=\"1\" class=\"dataframe\">\n",
       "  <thead>\n",
       "    <tr style=\"text-align: right;\">\n",
       "      <th></th>\n",
       "      <th>0</th>\n",
       "      <th>1</th>\n",
       "      <th>2</th>\n",
       "    </tr>\n",
       "  </thead>\n",
       "  <tbody>\n",
       "    <tr>\n",
       "      <th>0</th>\n",
       "      <td>1.0</td>\n",
       "      <td>0.0</td>\n",
       "      <td>1990-01-01 00:00:00</td>\n",
       "    </tr>\n",
       "    <tr>\n",
       "      <th>1</th>\n",
       "      <td>two</td>\n",
       "      <td>1.0</td>\n",
       "      <td>2</td>\n",
       "    </tr>\n",
       "    <tr>\n",
       "      <th>2</th>\n",
       "      <td>2</td>\n",
       "      <td>2.0</td>\n",
       "      <td>2</td>\n",
       "    </tr>\n",
       "  </tbody>\n",
       "</table>\n",
       "</div>"
      ],
      "text/plain": [
       "     0    1                    2\n",
       "0  1.0  0.0  1990-01-01 00:00:00\n",
       "1  two  1.0                    2\n",
       "2    2  2.0                    2"
      ]
     },
     "metadata": {},
     "output_type": "display_data"
    }
   ],
   "source": [
    "display( d.fillna(method=\"ffill\") )\n",
    "display( d.fillna(method=\"bfill\") )"
   ]
  },
  {
   "cell_type": "code",
   "execution_count": 146,
   "id": "cf8e71d3",
   "metadata": {},
   "outputs": [
    {
     "data": {
      "text/html": [
       "<div>\n",
       "<style scoped>\n",
       "    .dataframe tbody tr th:only-of-type {\n",
       "        vertical-align: middle;\n",
       "    }\n",
       "\n",
       "    .dataframe tbody tr th {\n",
       "        vertical-align: top;\n",
       "    }\n",
       "\n",
       "    .dataframe thead th {\n",
       "        text-align: right;\n",
       "    }\n",
       "</style>\n",
       "<table border=\"1\" class=\"dataframe\">\n",
       "  <thead>\n",
       "    <tr style=\"text-align: right;\">\n",
       "      <th></th>\n",
       "      <th>0</th>\n",
       "      <th>1</th>\n",
       "      <th>2</th>\n",
       "    </tr>\n",
       "  </thead>\n",
       "  <tbody>\n",
       "    <tr>\n",
       "      <th>0</th>\n",
       "      <td>1.0</td>\n",
       "      <td>0.0</td>\n",
       "      <td>1990-01-01 00:00:00</td>\n",
       "    </tr>\n",
       "    <tr>\n",
       "      <th>1</th>\n",
       "      <td>two</td>\n",
       "      <td>1.0</td>\n",
       "      <td>1.0</td>\n",
       "    </tr>\n",
       "    <tr>\n",
       "      <th>2</th>\n",
       "      <td>2.0</td>\n",
       "      <td>2.0</td>\n",
       "      <td>2.0</td>\n",
       "    </tr>\n",
       "  </tbody>\n",
       "</table>\n",
       "</div>"
      ],
      "text/plain": [
       "     0    1                    2\n",
       "0  1.0  0.0  1990-01-01 00:00:00\n",
       "1  two  1.0                  1.0\n",
       "2  2.0  2.0                  2.0"
      ]
     },
     "metadata": {},
     "output_type": "display_data"
    }
   ],
   "source": [
    "display( d.fillna(method=\"ffill\",axis=1) )"
   ]
  },
  {
   "cell_type": "code",
   "execution_count": null,
   "id": "451f8c8e",
   "metadata": {},
   "outputs": [],
   "source": []
  }
 ],
 "metadata": {
  "kernelspec": {
   "display_name": "Python 3 (ipykernel)",
   "language": "python",
   "name": "python3"
  },
  "language_info": {
   "codemirror_mode": {
    "name": "ipython",
    "version": 3
   },
   "file_extension": ".py",
   "mimetype": "text/x-python",
   "name": "python",
   "nbconvert_exporter": "python",
   "pygments_lexer": "ipython3",
   "version": "3.9.13"
  }
 },
 "nbformat": 4,
 "nbformat_minor": 5
}
