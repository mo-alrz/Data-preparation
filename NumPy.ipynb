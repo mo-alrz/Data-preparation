{
 "cells": [
  {
   "cell_type": "code",
   "execution_count": 1,
   "id": "a458cb3a",
   "metadata": {},
   "outputs": [],
   "source": [
    "import numpy as np\n",
    "import pandas as pd"
   ]
  },
  {
   "cell_type": "markdown",
   "id": "9203d164",
   "metadata": {},
   "source": [
    "# NumPy"
   ]
  },
  {
   "cell_type": "code",
   "execution_count": 2,
   "id": "88b00f24",
   "metadata": {},
   "outputs": [
    {
     "data": {
      "text/plain": [
       "array([2, 4, 6])"
      ]
     },
     "metadata": {},
     "output_type": "display_data"
    }
   ],
   "source": [
    "# Creating a one dimensional array\n",
    "a = np.array([2,4,6])\n",
    "display(a)"
   ]
  },
  {
   "cell_type": "code",
   "execution_count": 3,
   "id": "78bf46f9",
   "metadata": {},
   "outputs": [
    {
     "name": "stdout",
     "output_type": "stream",
     "text": [
      "[[1 2]\n",
      " [3 4]\n",
      " [5 6]]\n"
     ]
    }
   ],
   "source": [
    "# Creating a two dimensional array\n",
    "b = np.array([[1,2],\n",
    "              [3,4],\n",
    "              [5,6]])\n",
    "print(b)\n"
   ]
  },
  {
   "cell_type": "code",
   "execution_count": 4,
   "id": "89a61e72",
   "metadata": {},
   "outputs": [
    {
     "name": "stdout",
     "output_type": "stream",
     "text": [
      "(2, 2, 3)\n"
     ]
    }
   ],
   "source": [
    "c = np.array([[[1,2,10],\n",
    "               [2,3,11]],\n",
    "              [[4,5,12],\n",
    "               [6,7,13]]])\n",
    "\n",
    "print(c.shape)"
   ]
  },
  {
   "cell_type": "markdown",
   "id": "e6f25b06",
   "metadata": {},
   "source": [
    "NumPy distinguishes (one-dimensional) vectors and 2-dimensional matrices with 1 width or height:"
   ]
  },
  {
   "cell_type": "code",
   "execution_count": 5,
   "id": "45af6df6",
   "metadata": {},
   "outputs": [
    {
     "name": "stdout",
     "output_type": "stream",
     "text": [
      "(3,)\n",
      "(1, 3)\n"
     ]
    }
   ],
   "source": [
    "a = np.array([1,2,3])\n",
    "print(a.shape)\n",
    "b = np.array([[1,2,3]])\n",
    "print(b.shape)"
   ]
  },
  {
   "cell_type": "markdown",
   "id": "5cbb8e64",
   "metadata": {},
   "source": [
    "Modifying the original object will not modify the array:"
   ]
  },
  {
   "cell_type": "code",
   "execution_count": 6,
   "id": "8109feb2",
   "metadata": {},
   "outputs": [
    {
     "name": "stdout",
     "output_type": "stream",
     "text": [
      "[1, 2, 3]\n",
      "[1 2 3]\n",
      "[1, 2, 10]\n",
      "[1 2 3]\n"
     ]
    }
   ],
   "source": [
    "a = [1,2,3]\n",
    "b = np.array(a)\n",
    "print(a)\n",
    "print(b)\n",
    "a[2] = 10\n",
    "print(a)\n",
    "print(b)"
   ]
  },
  {
   "cell_type": "markdown",
   "id": "e5689a11",
   "metadata": {},
   "source": [
    "#### `np.arange`\n",
    "- Generate evenly spaced values within a given [start, end) half-open interval (= like range(), start is included, end is excluded). \n",
    "- Most important parameters: [start] end [step]"
   ]
  },
  {
   "cell_type": "code",
   "execution_count": 7,
   "id": "97276d6c",
   "metadata": {},
   "outputs": [
    {
     "name": "stdout",
     "output_type": "stream",
     "text": [
      "[0 1 2]\n",
      "[1 2 3]\n",
      "[ 0  4  8 12 16 20]\n"
     ]
    }
   ],
   "source": [
    "a = np.arange(3)\n",
    "b = np.arange(1,4)\n",
    "c = np.arange(0,21,4)\n",
    "print(a)\n",
    "print(b)\n",
    "print(c)"
   ]
  },
  {
   "cell_type": "markdown",
   "id": "b49bede6",
   "metadata": {},
   "source": [
    "#### `np.linspace`\n",
    "- Generate evenly spaced values within closed interval [start, end]. (end can be excluded with endpoint=False)\n",
    "- Most important parameters:    start    end    [num]"
   ]
  },
  {
   "cell_type": "code",
   "execution_count": 8,
   "id": "c0b2a5b9",
   "metadata": {},
   "outputs": [
    {
     "data": {
      "text/plain": [
       "array([ 0.,  5., 10., 15., 20.])"
      ]
     },
     "execution_count": 8,
     "metadata": {},
     "output_type": "execute_result"
    }
   ],
   "source": [
    "np.linspace(0,20,num=5)"
   ]
  },
  {
   "cell_type": "markdown",
   "id": "5db7ff18",
   "metadata": {},
   "source": [
    "#### Random arrays with `np.random`\n",
    "* `rand` = random numbers from a Uniform(low=0, high=1) distribution (-> mean around 0.5)\n",
    "* `randn` = random numbers from a Normal(mean=0, variance=1) distribution. (-> mean around 0)\n",
    "* `randint` = random integer by default between 0 and the specified number.\n",
    "* `permutation` = random permutation of numbers.\n",
    "\n",
    "When not specifying dimensions, `rand`, `randn` and `randint` return a single random number."
   ]
  },
  {
   "cell_type": "markdown",
   "id": "3d2b4bf8",
   "metadata": {},
   "source": [
    "rand"
   ]
  },
  {
   "cell_type": "code",
   "execution_count": 9,
   "id": "fa9bd35e",
   "metadata": {},
   "outputs": [
    {
     "name": "stdout",
     "output_type": "stream",
     "text": [
      "0.8362700251938371\n"
     ]
    }
   ],
   "source": [
    "# A random float between 0 and 1\n",
    "print(np.random.rand())"
   ]
  },
  {
   "cell_type": "code",
   "execution_count": 10,
   "id": "0b167d37",
   "metadata": {},
   "outputs": [
    {
     "data": {
      "text/plain": [
       "array([0.44329777, 0.95834991, 0.55344831, 0.36812165, 0.82375293,\n",
       "       0.06601073, 0.32386298, 0.51623212, 0.62979718, 0.04733893,\n",
       "       0.86282576, 0.66167053, 0.40915178, 0.97156896, 0.64360727,\n",
       "       0.88074579, 0.94336234, 0.02352873, 0.39606023, 0.09429231,\n",
       "       0.55246428, 0.00214997, 0.0931024 , 0.0193509 , 0.38481638,\n",
       "       0.34063557, 0.58899588, 0.37965849, 0.19208272, 0.78632162,\n",
       "       0.18088651, 0.38166723, 0.92818444, 0.39720802, 0.71100254,\n",
       "       0.19733093, 0.57626168, 0.75220759, 0.34569183, 0.6945031 ,\n",
       "       0.6288408 , 0.12518495, 0.89739339, 0.73450573, 0.40482207,\n",
       "       0.61776924, 0.40530786, 0.25977594, 0.37974974, 0.68484932,\n",
       "       0.28851335, 0.54039261, 0.07927197, 0.85055284, 0.48963692,\n",
       "       0.3799561 , 0.52697007, 0.33698597, 0.07941819, 0.01581213,\n",
       "       0.39732789, 0.96605735, 0.69691867, 0.43700668, 0.3854167 ,\n",
       "       0.33588584, 0.9133245 , 0.81856005, 0.31205934, 0.97193267,\n",
       "       0.00899141, 0.02178379, 0.2417586 , 0.05727865, 0.34393123,\n",
       "       0.09936842, 0.7156466 , 0.12165261, 0.49501453, 0.52161425,\n",
       "       0.8824565 , 0.79045694, 0.62576631, 0.940863  , 0.0168019 ,\n",
       "       0.63753997, 0.17926364, 0.59062374, 0.68469265, 0.57541461,\n",
       "       0.61516538, 0.19724731, 0.71603266, 0.05568325, 0.23230141,\n",
       "       0.15403645, 0.70177398, 0.06215462, 0.50494586, 0.80822278])"
      ]
     },
     "execution_count": 10,
     "metadata": {},
     "output_type": "execute_result"
    }
   ],
   "source": [
    "# A random array with uniform distribution over [0,1)\n",
    "np.random.rand(100)"
   ]
  },
  {
   "cell_type": "markdown",
   "id": "27383e01",
   "metadata": {},
   "source": [
    "randn"
   ]
  },
  {
   "cell_type": "code",
   "execution_count": 11,
   "id": "a4d00165",
   "metadata": {},
   "outputs": [
    {
     "name": "stdout",
     "output_type": "stream",
     "text": [
      "1.4410900936765725\n"
     ]
    }
   ],
   "source": [
    "print(np.random.randn())"
   ]
  },
  {
   "cell_type": "code",
   "execution_count": 12,
   "id": "52e0c0c3",
   "metadata": {},
   "outputs": [
    {
     "data": {
      "text/plain": [
       "array([ 1.617285  ,  1.23848729,  1.86617925,  0.95122227, -0.54137515,\n",
       "        0.39097818,  0.16872785, -0.49633292, -0.78525284,  0.86040213,\n",
       "       -0.58754853,  1.22691717,  1.36699776,  0.02539124, -0.98321273,\n",
       "       -0.77609018,  0.9419592 , -2.18034899,  0.03993631, -0.49908261,\n",
       "        0.22306932, -0.88656815, -1.8166429 ,  0.3765828 ,  1.83305652,\n",
       "        1.8241934 , -0.73347114, -0.22724347, -1.92867525, -0.24122329,\n",
       "        0.10057997,  2.27033858, -0.25600732,  0.0975169 , -1.62783638,\n",
       "        1.46241   , -0.09198657, -2.42600337, -1.15646146,  0.61993068,\n",
       "       -0.89040749,  2.03797804,  0.04929783,  1.61407809,  1.16537744,\n",
       "       -0.30086097, -1.82658396, -0.32369486, -0.28164602,  0.75195616,\n",
       "        0.09232619,  1.41981045,  0.5414754 ,  0.42811127, -1.80960709,\n",
       "       -0.64065989,  0.27944128, -1.69846967, -0.71277478,  0.34439434,\n",
       "       -0.05549831, -0.30895541, -0.23886265, -2.17107949, -0.14853166,\n",
       "        0.38385683,  0.30596062,  0.39477566, -0.54349472, -2.49423631,\n",
       "        0.50809428, -0.78781632, -2.14847876,  0.35060277,  3.28456551,\n",
       "        1.08559741, -0.05956743,  1.5566072 ,  0.31230777,  0.1857847 ,\n",
       "        1.72738147, -0.26508975,  0.54775465,  0.25463295, -0.36857987,\n",
       "        0.48282725, -0.00772401, -0.09674578,  0.48124203, -1.27534905,\n",
       "        0.75290324, -0.19390091,  1.59392062, -0.48651222, -0.4964209 ,\n",
       "        0.67864206, -1.78700242,  0.17721866, -1.37023557,  0.43873065])"
      ]
     },
     "execution_count": 12,
     "metadata": {},
     "output_type": "execute_result"
    }
   ],
   "source": [
    "# A random array sampled from standard normal distribution\n",
    "np.random.randn(100)"
   ]
  },
  {
   "cell_type": "markdown",
   "id": "be21c8ae",
   "metadata": {},
   "source": [
    "randint"
   ]
  },
  {
   "cell_type": "code",
   "execution_count": 13,
   "id": "d859b38f",
   "metadata": {},
   "outputs": [
    {
     "data": {
      "text/plain": [
       "5"
      ]
     },
     "execution_count": 13,
     "metadata": {},
     "output_type": "execute_result"
    }
   ],
   "source": [
    "# Generates random integer between 0 and 10\n",
    "np.random.randint(10)"
   ]
  },
  {
   "cell_type": "code",
   "execution_count": 14,
   "id": "22c0f31d",
   "metadata": {},
   "outputs": [
    {
     "data": {
      "text/plain": [
       "array([[7, 9, 9],\n",
       "       [9, 3, 6]])"
      ]
     },
     "execution_count": 14,
     "metadata": {},
     "output_type": "execute_result"
    }
   ],
   "source": [
    "# Array of specified shape with random integer\n",
    "np.random.randint(10,size=(2,3))"
   ]
  },
  {
   "cell_type": "code",
   "execution_count": 15,
   "id": "69557666",
   "metadata": {},
   "outputs": [
    {
     "data": {
      "text/plain": [
       "array([19, 88, 88, 43])"
      ]
     },
     "execution_count": 15,
     "metadata": {},
     "output_type": "execute_result"
    }
   ],
   "source": [
    "# Array of specified shape with random integer between 10 and 100\n",
    "np.random.randint(10,100,size=4)"
   ]
  },
  {
   "cell_type": "markdown",
   "id": "f7186b6c",
   "metadata": {},
   "source": [
    "Permutation"
   ]
  },
  {
   "cell_type": "code",
   "execution_count": 16,
   "id": "9b842b4b",
   "metadata": {},
   "outputs": [
    {
     "data": {
      "text/plain": [
       "array([3, 7, 0, 6, 2, 9, 1, 8, 4, 5])"
      ]
     },
     "execution_count": 16,
     "metadata": {},
     "output_type": "execute_result"
    }
   ],
   "source": [
    "np.random.permutation(10)"
   ]
  },
  {
   "cell_type": "code",
   "execution_count": 17,
   "id": "bfd41923",
   "metadata": {},
   "outputs": [
    {
     "data": {
      "text/plain": [
       "array(['three', 'one', 'four', 'five', 'two'], dtype='<U5')"
      ]
     },
     "execution_count": 17,
     "metadata": {},
     "output_type": "execute_result"
    }
   ],
   "source": [
    "np.random.permutation([\"one\",\"two\",\"three\",\"four\",\"five\"])"
   ]
  },
  {
   "cell_type": "markdown",
   "id": "53f473d5",
   "metadata": {},
   "source": [
    "#### `Seeding`\n",
    "* For reproducible work, it is good practice to generate **random numbers that can be reproduced**.\n",
    "* This is not a contradiction, since computer-generated random numbers are in fact \"pseudo-random\" (generated using an algorithm, hence, reproducible).\n",
    "* Solution: \"**seeding**\". In numpy, this has for a long time been done using \"random states\", although these are now being replaced with random generators.\n",
    "* For a quick overview, see, e.g.: https://towardsdatascience.com/stop-using-numpy-random-seed-581a9972805f"
   ]
  },
  {
   "cell_type": "code",
   "execution_count": 18,
   "id": "7747ee1b",
   "metadata": {},
   "outputs": [
    {
     "name": "stdout",
     "output_type": "stream",
     "text": [
      "92\n",
      "88\n",
      "0\n"
     ]
    }
   ],
   "source": [
    "for _ in range(3):\n",
    "    print(np.random.randint(100))"
   ]
  },
  {
   "cell_type": "code",
   "execution_count": 19,
   "id": "16ccf137",
   "metadata": {},
   "outputs": [
    {
     "name": "stdout",
     "output_type": "stream",
     "text": [
      "51\n",
      "51\n",
      "51\n"
     ]
    }
   ],
   "source": [
    "for _ in range(3):\n",
    "    np.random.seed(42)\n",
    "    print(np.random.randint(100))"
   ]
  },
  {
   "cell_type": "markdown",
   "id": "121fb791",
   "metadata": {},
   "source": [
    "#### `np.ones`, `np.zeros`, `np.full`"
   ]
  },
  {
   "cell_type": "code",
   "execution_count": 20,
   "id": "b70e8f9d",
   "metadata": {},
   "outputs": [
    {
     "name": "stdout",
     "output_type": "stream",
     "text": [
      "[1. 1. 1. 1.]\n",
      "[[1. 1. 1.]\n",
      " [1. 1. 1.]\n",
      " [1. 1. 1.]\n",
      " [1. 1. 1.]]\n",
      "[ True  True  True  True]\n"
     ]
    }
   ],
   "source": [
    "print(np.ones(4))\n",
    "print(np.ones((4,3)))\n",
    "print(np.ones(4, dtype='bool'))"
   ]
  },
  {
   "cell_type": "code",
   "execution_count": 21,
   "id": "45b8071d",
   "metadata": {},
   "outputs": [
    {
     "name": "stdout",
     "output_type": "stream",
     "text": [
      "[0. 0. 0. 0.]\n",
      "[[0. 0. 0.]\n",
      " [0. 0. 0.]\n",
      " [0. 0. 0.]\n",
      " [0. 0. 0.]]\n",
      "[False False False False]\n"
     ]
    }
   ],
   "source": [
    "print(np.zeros(4))\n",
    "print(np.zeros((4,3)))\n",
    "print(np.zeros(4, dtype='bool'))"
   ]
  },
  {
   "cell_type": "code",
   "execution_count": 22,
   "id": "e4dfeae8",
   "metadata": {},
   "outputs": [
    {
     "data": {
      "text/plain": [
       "array([['rabbit', 'rabbit', 'rabbit'],\n",
       "       ['rabbit', 'rabbit', 'rabbit']], dtype='<U6')"
      ]
     },
     "execution_count": 22,
     "metadata": {},
     "output_type": "execute_result"
    }
   ],
   "source": [
    "np.full((2,3),'rabbit')"
   ]
  },
  {
   "cell_type": "markdown",
   "id": "4854491d",
   "metadata": {},
   "source": [
    "What is `dtype='<U6'`? The type of the values in the array:\n",
    "\n",
    "* < = Little Endian\n",
    "* U = Unicode\n",
    "* 6 = length of longest string\n",
    "\n",
    "So caution:"
   ]
  },
  {
   "cell_type": "code",
   "execution_count": 23,
   "id": "c3cfc61f",
   "metadata": {},
   "outputs": [
    {
     "data": {
      "text/plain": [
       "array(['capyba', 'rabbit', 'rabbit', 'rabbit'], dtype='<U6')"
      ]
     },
     "execution_count": 23,
     "metadata": {},
     "output_type": "execute_result"
    }
   ],
   "source": [
    "a = np.full(4, \"rabbit\")\n",
    "a[0] = \"capybara\"\n",
    "a"
   ]
  },
  {
   "cell_type": "markdown",
   "id": "290daedc",
   "metadata": {},
   "source": [
    "#### dtype of numpy arrays\n",
    "\n",
    "A numpy array is **homogeneous** = contains elements of the same type: all elements are either floats or integers or strings etc. \n",
    "\n",
    "The most importanty NumPy types we will meet are\n",
    "\n",
    "- unsigned integer types: uint8,...,uint64\n",
    "- integer types: int8,..., int64\n",
    "- float types: float8,...,float32,\n",
    "- the boolean type: bool\n",
    "- string types for strings of various length. e.g. <U5 for unicode string shorter than 6 chars.\n",
    "- a general \"object\" type for arrays that can contain any Python object.\n",
    "\n",
    "\n",
    "-> The `dtype` of an array can be specified in its constructor."
   ]
  },
  {
   "cell_type": "code",
   "execution_count": 24,
   "id": "b4c85f1a",
   "metadata": {},
   "outputs": [
    {
     "data": {
      "text/plain": [
       "dtype('uint8')"
      ]
     },
     "execution_count": 24,
     "metadata": {},
     "output_type": "execute_result"
    }
   ],
   "source": [
    "c = np.array([1,2,3], np.uint8)\n",
    "c.dtype"
   ]
  },
  {
   "cell_type": "code",
   "execution_count": 25,
   "id": "8f973393",
   "metadata": {},
   "outputs": [
    {
     "data": {
      "text/plain": [
       "dtype('int16')"
      ]
     },
     "execution_count": 25,
     "metadata": {},
     "output_type": "execute_result"
    }
   ],
   "source": [
    "c = np.array([1,2,3], np.int16)\n",
    "c.dtype"
   ]
  },
  {
   "cell_type": "code",
   "execution_count": 26,
   "id": "51c247fa",
   "metadata": {},
   "outputs": [
    {
     "name": "stdout",
     "output_type": "stream",
     "text": [
      "int32\n",
      "float64\n",
      "<U11\n"
     ]
    }
   ],
   "source": [
    "e = np.array([[1,2,3]])\n",
    "print(e.dtype)\n",
    "e = np.array([[1.,2,3]])\n",
    "print(e.dtype)\n",
    "e = np.array([[\"1.\",2,3]])\n",
    "print(e.dtype)"
   ]
  },
  {
   "cell_type": "markdown",
   "id": "d32201a3",
   "metadata": {},
   "source": [
    "A `list` can be heterogeneous but a `ndarray` is homogeneous"
   ]
  },
  {
   "cell_type": "code",
   "execution_count": 27,
   "id": "51b22fee",
   "metadata": {},
   "outputs": [
    {
     "name": "stdout",
     "output_type": "stream",
     "text": [
      "\t 1 \t <class 'int'>\n",
      "\t one \t <class 'str'>\n",
      "\t 1.0 \t <class 'float'>\n"
     ]
    }
   ],
   "source": [
    "mylist = [1, \"one\", 1.0]\n",
    "for item in mylist:\n",
    "    print(\"\\t\", item, \"\\t\", type(item))"
   ]
  },
  {
   "cell_type": "code",
   "execution_count": 28,
   "id": "4cee0600",
   "metadata": {},
   "outputs": [
    {
     "name": "stdout",
     "output_type": "stream",
     "text": [
      "\t 1 \t <class 'numpy.str_'>\n",
      "\t one \t <class 'numpy.str_'>\n",
      "\t 1.0 \t <class 'numpy.str_'>\n"
     ]
    }
   ],
   "source": [
    "myarray = np.array([1, \"one\", 1.0])\n",
    "for item in myarray:\n",
    "    print(\"\\t\", item, \"\\t\", type(item))"
   ]
  },
  {
   "cell_type": "markdown",
   "id": "9ee4f918",
   "metadata": {},
   "source": [
    "#### Setting types -> `dtype` in creation and `astype` to change type"
   ]
  },
  {
   "cell_type": "code",
   "execution_count": 29,
   "id": "47cd58b9",
   "metadata": {},
   "outputs": [
    {
     "name": "stdout",
     "output_type": "stream",
     "text": [
      "[0 1 2 3 4]\n",
      "int32\n",
      "\n",
      "[0. 1. 2. 3. 4.]\n",
      "float64\n"
     ]
    }
   ],
   "source": [
    "a = np.arange(0,5)\n",
    "print(a)\n",
    "print(a.dtype)\n",
    "\n",
    "print()\n",
    "\n",
    "b = np.arange(0,5, dtype=\"float\")\n",
    "print(b)\n",
    "print(b.dtype)"
   ]
  },
  {
   "cell_type": "code",
   "execution_count": 30,
   "id": "0334a237",
   "metadata": {},
   "outputs": [
    {
     "name": "stdout",
     "output_type": "stream",
     "text": [
      "[1. 1. 1. 1. 1.]\n",
      "float64\n",
      "\n",
      "[ True  True  True  True  True]\n",
      "bool\n"
     ]
    }
   ],
   "source": [
    "a = np.ones(5)\n",
    "print(a)\n",
    "print(a.dtype)\n",
    "\n",
    "print()\n",
    "\n",
    "b = a.astype(\"bool\")\n",
    "print(b)\n",
    "print(b.dtype)"
   ]
  },
  {
   "cell_type": "code",
   "execution_count": 31,
   "id": "24e5ce53",
   "metadata": {},
   "outputs": [
    {
     "data": {
      "text/plain": [
       "array(['rabbit', 'rabbit', 'rabbit', 'rabbit'], dtype='<U6')"
      ]
     },
     "execution_count": 31,
     "metadata": {},
     "output_type": "execute_result"
    }
   ],
   "source": [
    "a = np.full(4,'rabbit')\n",
    "a"
   ]
  },
  {
   "cell_type": "code",
   "execution_count": 32,
   "id": "43cf599c",
   "metadata": {},
   "outputs": [
    {
     "data": {
      "text/plain": [
       "array(['r', 'r', 'r', 'r'], dtype='<U1')"
      ]
     },
     "execution_count": 32,
     "metadata": {},
     "output_type": "execute_result"
    }
   ],
   "source": [
    "a = np.full(4,'rabbit',dtype='str')\n",
    "a"
   ]
  },
  {
   "cell_type": "code",
   "execution_count": 33,
   "id": "d8400e78",
   "metadata": {},
   "outputs": [
    {
     "data": {
      "text/plain": [
       "array(['capyba', 'rabbit', 'rabbit', 'rabbit'], dtype='<U6')"
      ]
     },
     "execution_count": 33,
     "metadata": {},
     "output_type": "execute_result"
    }
   ],
   "source": [
    "a = np.full(4,'rabbit')\n",
    "a[0] = 'capybara'\n",
    "a"
   ]
  },
  {
   "cell_type": "code",
   "execution_count": 34,
   "id": "eec9a3c8",
   "metadata": {},
   "outputs": [
    {
     "data": {
      "text/plain": [
       "array(['capybara', 'rabbit', 'rabbit', 'rabbit'], dtype='<U100')"
      ]
     },
     "execution_count": 34,
     "metadata": {},
     "output_type": "execute_result"
    }
   ],
   "source": [
    "a = np.full(4,'rabbit',dtype='<U100')\n",
    "a[0] = 'capybara'\n",
    "a"
   ]
  },
  {
   "cell_type": "code",
   "execution_count": 35,
   "id": "ac6b0034",
   "metadata": {},
   "outputs": [
    {
     "data": {
      "text/plain": [
       "array(['capybara', '1', 'rabbit', 'rabbit'], dtype='<U100')"
      ]
     },
     "execution_count": 35,
     "metadata": {},
     "output_type": "execute_result"
    }
   ],
   "source": [
    "a[1] = 1\n",
    "a"
   ]
  },
  {
   "cell_type": "code",
   "execution_count": 36,
   "id": "60bdc6e9",
   "metadata": {},
   "outputs": [
    {
     "name": "stdout",
     "output_type": "stream",
     "text": [
      "Exception: (ValueError) setting an array element with a sequence\n"
     ]
    }
   ],
   "source": [
    "try:\n",
    "    a[2] = [\"kangaroo\", \"koala\"]\n",
    "except Exception as e:\n",
    "    print(f\"Exception: ({type(e).__name__}) {e}\")"
   ]
  },
  {
   "cell_type": "code",
   "execution_count": 37,
   "id": "9db72c41",
   "metadata": {},
   "outputs": [
    {
     "data": {
      "text/plain": [
       "array(['capybara', list(['kangaroo', 'koala']), 'rabbit', 'rabbit'],\n",
       "      dtype=object)"
      ]
     },
     "execution_count": 37,
     "metadata": {},
     "output_type": "execute_result"
    }
   ],
   "source": [
    "a = np.full(4,'rabbit',dtype='object')\n",
    "a[0] = 'capybara'\n",
    "a[1] = [\"kangaroo\", \"koala\"]\n",
    "a"
   ]
  },
  {
   "cell_type": "markdown",
   "id": "38f26515",
   "metadata": {},
   "source": [
    "An array is N-dimensional (1$\\leq$N). \n",
    "* Its dimensions are called **axes**\n",
    "* The number of axes is called the **rank** of the array.  -> `array.ndim`\n",
    "* The array's **shape** indicates the size of the array in each dimension. -> `array.shape`\n",
    "* The array's **size** is the total number of its elements. -> `array.size`\n",
    "\n",
    "An example:\n",
    "\n",
    "```\n",
    "[[ 0  1  2  3]\n",
    " [ 4  5  6  7]\n",
    " [ 8  9 10 11]]\n",
    "```\n",
    "* 2 axes -> rank = 2\n",
    "* shape = (3,4) \n",
    "    * 3 items on the initial axis (axis 0)\n",
    "    * 4 items (for each item on axis 0) on the next axis (axis 1)\n",
    "* size = 12 -> the number of elements, or cells, in the array"
   ]
  },
  {
   "cell_type": "code",
   "execution_count": 38,
   "id": "70f2c3ff",
   "metadata": {},
   "outputs": [],
   "source": [
    "a = np.array([1,2,3])\n",
    "b = np.random.rand(2,3)"
   ]
  },
  {
   "cell_type": "code",
   "execution_count": 39,
   "id": "2d65b5c3",
   "metadata": {},
   "outputs": [
    {
     "name": "stdout",
     "output_type": "stream",
     "text": [
      "Array a\n"
     ]
    },
    {
     "data": {
      "text/plain": [
       "array([1, 2, 3])"
      ]
     },
     "metadata": {},
     "output_type": "display_data"
    },
    {
     "name": "stdout",
     "output_type": "stream",
     "text": [
      "Rank : 1\n",
      "Shape : (3,)\n",
      "Size : 3\n",
      "------------------\n",
      "Array b\n"
     ]
    },
    {
     "data": {
      "text/plain": [
       "array([[0.95071431, 0.73199394, 0.59865848],\n",
       "       [0.15601864, 0.15599452, 0.05808361]])"
      ]
     },
     "metadata": {},
     "output_type": "display_data"
    },
    {
     "name": "stdout",
     "output_type": "stream",
     "text": [
      "Rank : 2\n",
      "Shape : (2, 3)\n",
      "Size : 6\n",
      "------------------\n"
     ]
    }
   ],
   "source": [
    "for i,array in enumerate([a,b]):\n",
    "    print(f\"Array {['a','b'][i]}\")\n",
    "    display(array)\n",
    "    print('Rank :',array.ndim)\n",
    "    print('Shape :',array.shape)\n",
    "    print('Size :',array.size)\n",
    "    print('------------------')\n",
    "    "
   ]
  },
  {
   "cell_type": "markdown",
   "id": "d77c1bef",
   "metadata": {},
   "source": [
    "#### Reshaping Arryas\n",
    "\n",
    "* CAUTION: reshaping doesn't create a copy = **modifications** of the original array are **reflected** in the new one and vice versa!\n",
    "* Most reshapers are available as functions and methods alike."
   ]
  },
  {
   "cell_type": "code",
   "execution_count": 40,
   "id": "588ab088",
   "metadata": {},
   "outputs": [
    {
     "data": {
      "text/plain": [
       "array([ 0,  1,  2,  3,  4,  5,  6,  7,  8,  9, 10, 11])"
      ]
     },
     "execution_count": 40,
     "metadata": {},
     "output_type": "execute_result"
    }
   ],
   "source": [
    "a = np.arange(12)\n",
    "a"
   ]
  },
  {
   "cell_type": "code",
   "execution_count": 41,
   "id": "7349b525",
   "metadata": {},
   "outputs": [
    {
     "data": {
      "text/plain": [
       "array([[ 0,  1,  2,  3],\n",
       "       [ 4,  5,  6,  7],\n",
       "       [ 8,  9, 10, 11]])"
      ]
     },
     "execution_count": 41,
     "metadata": {},
     "output_type": "execute_result"
    }
   ],
   "source": [
    "a = a.reshape((3,4))\n",
    "a"
   ]
  },
  {
   "cell_type": "markdown",
   "id": "0f7b55d6",
   "metadata": {},
   "source": [
    "-1 means inferring size for dimension from length of array"
   ]
  },
  {
   "cell_type": "code",
   "execution_count": 42,
   "id": "f873c648",
   "metadata": {},
   "outputs": [
    {
     "data": {
      "text/plain": [
       "array([ 0,  1,  2,  3,  4,  5,  6,  7,  8,  9, 10, 11])"
      ]
     },
     "execution_count": 42,
     "metadata": {},
     "output_type": "execute_result"
    }
   ],
   "source": [
    "b = a.reshape(-1)\n",
    "b"
   ]
  },
  {
   "cell_type": "code",
   "execution_count": 43,
   "id": "d3a8c82b",
   "metadata": {},
   "outputs": [
    {
     "data": {
      "text/plain": [
       "array([[ 0],\n",
       "       [ 1],\n",
       "       [ 2],\n",
       "       [ 3],\n",
       "       [ 4],\n",
       "       [ 5],\n",
       "       [ 6],\n",
       "       [ 7],\n",
       "       [ 8],\n",
       "       [ 9],\n",
       "       [10],\n",
       "       [11]])"
      ]
     },
     "execution_count": 43,
     "metadata": {},
     "output_type": "execute_result"
    }
   ],
   "source": [
    "b = a.reshape(-1,1)\n",
    "b"
   ]
  },
  {
   "cell_type": "code",
   "execution_count": 44,
   "id": "6b9c4658",
   "metadata": {},
   "outputs": [
    {
     "data": {
      "text/plain": [
       "array([[[ 0,  1],\n",
       "        [ 2,  3]],\n",
       "\n",
       "       [[ 4,  5],\n",
       "        [ 6,  7]],\n",
       "\n",
       "       [[ 8,  9],\n",
       "        [10, 11]]])"
      ]
     },
     "execution_count": 44,
     "metadata": {},
     "output_type": "execute_result"
    }
   ],
   "source": [
    "b = a.reshape(3,2,-1)\n",
    "b"
   ]
  },
  {
   "cell_type": "code",
   "execution_count": 45,
   "id": "8dab5054",
   "metadata": {},
   "outputs": [
    {
     "data": {
      "text/plain": [
       "array([[ 0,  1,  2,  3],\n",
       "       [ 4,  5,  6,  7],\n",
       "       [ 8,  9, 10, 11]])"
      ]
     },
     "execution_count": 45,
     "metadata": {},
     "output_type": "execute_result"
    }
   ],
   "source": [
    "c = b.reshape(3,-1)\n",
    "c"
   ]
  },
  {
   "cell_type": "code",
   "execution_count": 46,
   "id": "090923d5",
   "metadata": {},
   "outputs": [
    {
     "name": "stdout",
     "output_type": "stream",
     "text": [
      "Modification in one array...\n",
      "[[10  1  2  3]\n",
      " [ 4  5  6  7]\n",
      " [ 8  9 10 11]]\n",
      "\n",
      "...is reflected in the others connected through reshaping:\n",
      "[[[10  1]\n",
      "  [ 2  3]]\n",
      "\n",
      " [[ 4  5]\n",
      "  [ 6  7]]\n",
      "\n",
      " [[ 8  9]\n",
      "  [10 11]]]\n",
      "\n",
      "...all others back to the original:\n",
      "[[10  1  2  3]\n",
      " [ 4  5  6  7]\n",
      " [ 8  9 10 11]]\n"
     ]
    }
   ],
   "source": [
    "print(\"Modification in one array...\")\n",
    "c[0,0] = 10\n",
    "\n",
    "print(c)\n",
    "\n",
    "print(\"\\n...is reflected in the others connected through reshaping:\")\n",
    "print(b)\n",
    "print(\"\\n...all others back to the original:\")\n",
    "print(a)"
   ]
  },
  {
   "cell_type": "markdown",
   "id": "1427032a",
   "metadata": {},
   "source": [
    "`ravel`: return 1D-array"
   ]
  },
  {
   "cell_type": "code",
   "execution_count": 47,
   "id": "ac33a968",
   "metadata": {},
   "outputs": [
    {
     "data": {
      "text/plain": [
       "array([10,  1,  2,  3,  4,  5,  6,  7,  8,  9, 10, 11])"
      ]
     },
     "execution_count": 47,
     "metadata": {},
     "output_type": "execute_result"
    }
   ],
   "source": [
    "d = c.ravel()\n",
    "d"
   ]
  },
  {
   "cell_type": "markdown",
   "id": "ff33e290",
   "metadata": {},
   "source": [
    "`np.flatten`: like ravel, but returns a copy"
   ]
  },
  {
   "cell_type": "code",
   "execution_count": 48,
   "id": "d5782961",
   "metadata": {},
   "outputs": [
    {
     "name": "stdout",
     "output_type": "stream",
     "text": [
      "[10  1  2  3  4  5  6  7  8  9 10 11]\n",
      "Shape: (12,)\n"
     ]
    }
   ],
   "source": [
    "e = c.flatten()\n",
    "print(e)\n",
    "print(\"Shape:\", e.shape)"
   ]
  },
  {
   "cell_type": "markdown",
   "id": "a35add6c",
   "metadata": {},
   "source": [
    "Modification does not carry across flattened arrays:"
   ]
  },
  {
   "cell_type": "code",
   "execution_count": 49,
   "id": "8c4bcb57",
   "metadata": {},
   "outputs": [
    {
     "name": "stdout",
     "output_type": "stream",
     "text": [
      "Modified original:\n",
      "[[500   1   2   3]\n",
      " [  4   5   6   7]\n",
      " [  8   9  10  11]]\n",
      "Shape: (3, 4)\n",
      "\n",
      "...flattened array not affected:\n",
      "[10  1  2  3  4  5  6  7  8  9 10 11]\n",
      "Shape: (12,)\n"
     ]
    }
   ],
   "source": [
    "print(\"Modified original:\")\n",
    "c[0,0] = 500\n",
    "print(c)\n",
    "print(\"Shape:\", c.shape)\n",
    "\n",
    "print(\"\\n...flattened array not affected:\")\n",
    "\n",
    "print(e)\n",
    "print(\"Shape:\", e.shape)"
   ]
  },
  {
   "cell_type": "markdown",
   "id": "821e824d",
   "metadata": {},
   "source": [
    "#### Transposition\n",
    "\n",
    "*   List item\n",
    "*   List item\n",
    "\n",
    "\n",
    "\n",
    "Switch rows and columns with .T or .transpose()\n",
    "\n",
    "* Caution: `.T` is not a method, and is thus _not_ followed by parentheses\n",
    "* As such, if arguments are to be specified (in the case of higher-rank arrays), better to use the .`transpose()` method"
   ]
  },
  {
   "cell_type": "code",
   "execution_count": 50,
   "id": "39ae5acd",
   "metadata": {},
   "outputs": [
    {
     "name": "stdout",
     "output_type": "stream",
     "text": [
      "[[0 1 2]\n",
      " [3 4 5]]\n",
      "[[0 3]\n",
      " [1 4]\n",
      " [2 5]]\n",
      "[[0 3]\n",
      " [1 4]\n",
      " [2 5]]\n"
     ]
    }
   ],
   "source": [
    "a = np.arange(6).reshape(2,3)\n",
    "print(a)\n",
    "b = a.T\n",
    "print(b)\n",
    "c = a.transpose()\n",
    "print(c)"
   ]
  },
  {
   "cell_type": "markdown",
   "id": "5c8aafb7",
   "metadata": {},
   "source": [
    "For arrays with >2 dimensions, the desired **reshuffled axes** can be specified **using a permutation of the indices of the old axes** (simply integers in `.transpose()` method, list of integers for the `axes` kwarg in `np.transpose()`)\n",
    "\n",
    "* `np.transpose(a, axes=(2, 3, 0, 1))`\n",
    "    * 0th axis should be axis 2 of array `a`\n",
    "    * 1st axis should be axis 3 of array `a`\n",
    "    * 2nd axis should be axis 0 of array `a`\n",
    "    * 3rd axis should be axis 1 of array `a`"
   ]
  },
  {
   "cell_type": "code",
   "execution_count": 51,
   "id": "7086e819",
   "metadata": {},
   "outputs": [
    {
     "data": {
      "text/plain": [
       "array([[[ 0,  1,  2,  3],\n",
       "        [ 4,  5,  6,  7],\n",
       "        [ 8,  9, 10, 11]],\n",
       "\n",
       "       [[12, 13, 14, 15],\n",
       "        [16, 17, 18, 19],\n",
       "        [20, 21, 22, 23]]])"
      ]
     },
     "execution_count": 51,
     "metadata": {},
     "output_type": "execute_result"
    }
   ],
   "source": [
    "a = np.arange(2*3*4).reshape(2,3,4)\n",
    "a"
   ]
  },
  {
   "cell_type": "code",
   "execution_count": 52,
   "id": "c27f7fcf",
   "metadata": {},
   "outputs": [],
   "source": [
    "b = a.transpose(2,0,1)\n",
    "# b = np.transpose(a,axes=2,0,1)"
   ]
  },
  {
   "cell_type": "markdown",
   "id": "de21cce1",
   "metadata": {},
   "source": [
    "#### Indexing"
   ]
  },
  {
   "cell_type": "code",
   "execution_count": 53,
   "id": "5ec3169a",
   "metadata": {},
   "outputs": [
    {
     "data": {
      "text/plain": [
       "array([[1, 2, 3],\n",
       "       [4, 5, 6],\n",
       "       [7, 8, 9]])"
      ]
     },
     "execution_count": 53,
     "metadata": {},
     "output_type": "execute_result"
    }
   ],
   "source": [
    "a = np.arange(1,10).reshape(3,3)\n",
    "a"
   ]
  },
  {
   "cell_type": "code",
   "execution_count": 54,
   "id": "8465c276",
   "metadata": {},
   "outputs": [
    {
     "data": {
      "text/plain": [
       "array([1, 2, 3])"
      ]
     },
     "execution_count": 54,
     "metadata": {},
     "output_type": "execute_result"
    }
   ],
   "source": [
    "a[0]"
   ]
  },
  {
   "cell_type": "code",
   "execution_count": 55,
   "id": "eaa495bb",
   "metadata": {},
   "outputs": [
    {
     "data": {
      "text/plain": [
       "array([7, 8, 9])"
      ]
     },
     "execution_count": 55,
     "metadata": {},
     "output_type": "execute_result"
    }
   ],
   "source": [
    "a[-1]"
   ]
  },
  {
   "cell_type": "code",
   "execution_count": 56,
   "id": "69af1953",
   "metadata": {},
   "outputs": [
    {
     "name": "stdout",
     "output_type": "stream",
     "text": [
      "[1 2 3]\n",
      "[4 5 6]\n",
      "[7 8 9]\n"
     ]
    }
   ],
   "source": [
    "for row in a: print(row)"
   ]
  },
  {
   "cell_type": "code",
   "execution_count": 57,
   "id": "e876cbbd",
   "metadata": {},
   "outputs": [
    {
     "name": "stdout",
     "output_type": "stream",
     "text": [
      "1\n",
      "2\n",
      "3\n",
      "4\n",
      "5\n",
      "6\n",
      "7\n",
      "8\n",
      "9\n"
     ]
    }
   ],
   "source": [
    "for elem in a.flatten(): print(elem)"
   ]
  },
  {
   "cell_type": "code",
   "execution_count": 58,
   "id": "0e2a6db3",
   "metadata": {},
   "outputs": [
    {
     "data": {
      "text/plain": [
       "array([[1, 2, 3],\n",
       "       [7, 8, 9]])"
      ]
     },
     "execution_count": 58,
     "metadata": {},
     "output_type": "execute_result"
    }
   ],
   "source": [
    "a[[0,2]]"
   ]
  },
  {
   "cell_type": "markdown",
   "id": "5f3699c4",
   "metadata": {},
   "source": [
    "`Slices` can be given a 'step' parameter after a second colon."
   ]
  },
  {
   "cell_type": "code",
   "execution_count": 59,
   "id": "56e378e7",
   "metadata": {},
   "outputs": [
    {
     "data": {
      "text/plain": [
       "[2, 4, 6, 8, 10]"
      ]
     },
     "metadata": {},
     "output_type": "display_data"
    },
    {
     "data": {
      "text/plain": [
       "array([ 2,  4,  6,  8, 10])"
      ]
     },
     "metadata": {},
     "output_type": "display_data"
    }
   ],
   "source": [
    "v = [0,1,2,3,4,5,6,7,8,9,10]\n",
    "display(v[2::2])\n",
    "v = np.array(v)\n",
    "display(v[2::2])"
   ]
  },
  {
   "cell_type": "markdown",
   "id": "8a56eddd",
   "metadata": {},
   "source": [
    "Lists: only reach elements of embedded lists via iterated indexing:"
   ]
  },
  {
   "cell_type": "code",
   "execution_count": 60,
   "id": "f147b43a",
   "metadata": {},
   "outputs": [
    {
     "name": "stdout",
     "output_type": "stream",
     "text": [
      "[[0, 1, 2, 3, 4], [5, 6, 7, 8, 9]]\n",
      "\n",
      "mylist[0][1]:\n",
      "1\n",
      "\n",
      "mylist[0,1]:\n",
      "Exception (TypeError): list indices must be integers or slices, not tuple\n",
      "\n",
      "mylist[[0,1]]:\n",
      "Exception (TypeError): list indices must be integers or slices, not list\n"
     ]
    }
   ],
   "source": [
    "mylist = [list(range(5)), list(range(5,10))]\n",
    "print(mylist)\n",
    "\n",
    "print(\"\\nmylist[0][1]:\")\n",
    "print(mylist[0][1])\n",
    "\n",
    "print(\"\\nmylist[0,1]:\")\n",
    "try:\n",
    "    print(mylist[0,1])\n",
    "except Exception as e:\n",
    "    print(f\"Exception ({type(e).__name__}):\",   e)\n",
    "\n",
    "print(\"\\nmylist[[0,1]]:\")\n",
    "try:\n",
    "    print(mylist[[0,1]])\n",
    "except Exception as e:\n",
    "    print(f\"Exception ({type(e).__name__}):\",   e)"
   ]
  },
  {
   "cell_type": "markdown",
   "id": "a9042bff",
   "metadata": {},
   "source": [
    "Numpy arrays: also indexing scheme `[rows, columns]`"
   ]
  },
  {
   "cell_type": "code",
   "execution_count": 61,
   "id": "a59fd741",
   "metadata": {},
   "outputs": [
    {
     "name": "stdout",
     "output_type": "stream",
     "text": [
      "[[0 1 2 3 4]\n",
      " [5 6 7 8 9]]\n",
      "\n",
      "myarray[0][1]:\n",
      "1\n",
      "\n",
      "myarray[0,1]:\n",
      "1\n",
      "\n",
      "myarray[[0,1]]:\n",
      "[[0 1 2 3 4]\n",
      " [5 6 7 8 9]]\n"
     ]
    }
   ],
   "source": [
    "myarray = np.arange(10).reshape(2,-1)\n",
    "print(myarray)\n",
    "\n",
    "print(\"\\nmyarray[0][1]:\")\n",
    "print(myarray[0][1])    ## <- column 1 of row 0\n",
    "\n",
    "print(\"\\nmyarray[0,1]:\")\n",
    "print(myarray[0,1]) ## <- row 0, column 1\n",
    "\n",
    "print(\"\\nmyarray[[0,1]]:\")\n",
    "print(myarray[[0,1]])   ## <- rows 0 and 1"
   ]
  },
  {
   "cell_type": "markdown",
   "id": "aef0e5be",
   "metadata": {},
   "source": [
    "Also works with slices"
   ]
  },
  {
   "cell_type": "code",
   "execution_count": 62,
   "id": "60d33170",
   "metadata": {},
   "outputs": [
    {
     "data": {
      "text/plain": [
       "array([[ 0,  1,  2,  3],\n",
       "       [ 4,  5,  6,  7],\n",
       "       [ 8,  9, 10, 11],\n",
       "       [12, 13, 14, 15],\n",
       "       [16, 17, 18, 19]])"
      ]
     },
     "execution_count": 62,
     "metadata": {},
     "output_type": "execute_result"
    }
   ],
   "source": [
    "myarray = np.arange(20).reshape(5, 4)\n",
    "myarray"
   ]
  },
  {
   "cell_type": "code",
   "execution_count": 63,
   "id": "c9b40d4c",
   "metadata": {},
   "outputs": [
    {
     "name": "stdout",
     "output_type": "stream",
     "text": [
      "Specifying only rows :2\n",
      "[[0 1 2 3]\n",
      " [4 5 6 7]]\n",
      "\n",
      "Rows :2, Column 1\n",
      "[1 5]\n",
      "\n",
      "Rows :2, Column :1\n",
      "[[0]\n",
      " [4]]\n",
      "\n",
      "Rows 2:5, Column 1:3\n",
      "[[ 9 10]\n",
      " [13 14]\n",
      " [17 18]]\n",
      "\n"
     ]
    }
   ],
   "source": [
    "i = 2\n",
    "j = 1\n",
    "\n",
    "print(f\"Specifying only rows :{i}\")\n",
    "print(myarray[:i])\n",
    "print()\n",
    "\n",
    "\n",
    "print(f\"Rows :{i}, Column {j}\")\n",
    "print(myarray[:i,j])\n",
    "print()\n",
    "\n",
    "print(f\"Rows :{i}, Column :{j}\")\n",
    "print(myarray[:i,:j])\n",
    "print()\n",
    "\n",
    "i2 = 5\n",
    "j2 = 3\n",
    "print(f\"Rows {i}:{i2}, Column {j}:{j2}\")\n",
    "print(myarray[i:i2,j:j2])\n",
    "print()"
   ]
  },
  {
   "cell_type": "markdown",
   "id": "8f26430b",
   "metadata": {},
   "source": [
    "Pay attention to the shapes!\n",
    "* single index -> rank reduction\n",
    "* slice -> no rank reduction"
   ]
  },
  {
   "cell_type": "markdown",
   "id": "097b31df",
   "metadata": {},
   "source": [
    "#### Assigning new values"
   ]
  },
  {
   "cell_type": "code",
   "execution_count": 64,
   "id": "a39bff42",
   "metadata": {},
   "outputs": [
    {
     "name": "stdout",
     "output_type": "stream",
     "text": [
      "[0, 1, 2, 3, 4]\n",
      "[0 1 2 3 4]\n"
     ]
    }
   ],
   "source": [
    "mylist = list(range(5))\n",
    "myarray = np.arange(5)\n",
    "\n",
    "print(mylist)\n",
    "print(myarray)"
   ]
  },
  {
   "cell_type": "code",
   "execution_count": 65,
   "id": "0552f907",
   "metadata": {},
   "outputs": [
    {
     "name": "stdout",
     "output_type": "stream",
     "text": [
      "Exception (TypeError): can only assign an iterable\n",
      "[0, 1, 2, 3, 4]\n"
     ]
    }
   ],
   "source": [
    "try:\n",
    "    mylist[1:3] = 100\n",
    "except Exception as e:\n",
    "    print(f\"Exception ({type(e).__name__}):\",   e)\n",
    "print(mylist)"
   ]
  },
  {
   "cell_type": "code",
   "execution_count": 66,
   "id": "3c78883a",
   "metadata": {},
   "outputs": [
    {
     "name": "stdout",
     "output_type": "stream",
     "text": [
      "[  0 100 100   3   4]\n"
     ]
    }
   ],
   "source": [
    "myarray[1:3] = 100\n",
    "print(myarray)"
   ]
  },
  {
   "cell_type": "markdown",
   "id": "0e58cbfc",
   "metadata": {},
   "source": [
    "Regular lists: modifying slice leaves original intact"
   ]
  },
  {
   "cell_type": "code",
   "execution_count": 67,
   "id": "58e2772b",
   "metadata": {},
   "outputs": [
    {
     "name": "stdout",
     "output_type": "stream",
     "text": [
      "[1, 2, 3, 4]\n",
      "[100, 2, 3]\n"
     ]
    }
   ],
   "source": [
    "list_A = [1, 2, 3, 4]\n",
    "\n",
    "list_B = list_A[:3]\n",
    "list_B[0] = 100\n",
    "\n",
    "print(list_A)\n",
    "print(list_B)"
   ]
  },
  {
   "cell_type": "markdown",
   "id": "d7b13e93",
   "metadata": {},
   "source": [
    "Numpy arrays: **modifying slice modifies original**"
   ]
  },
  {
   "cell_type": "code",
   "execution_count": 68,
   "id": "8ef38b96",
   "metadata": {},
   "outputs": [
    {
     "name": "stdout",
     "output_type": "stream",
     "text": [
      "[100   2   3   4]\n",
      "[100   2   3]\n"
     ]
    }
   ],
   "source": [
    "array_A = np.array([1, 2, 3, 4])\n",
    "\n",
    "array_B = array_A[:3]\n",
    "array_B[0] = 100\n",
    "\n",
    "print(array_A)\n",
    "print(array_B)"
   ]
  },
  {
   "cell_type": "code",
   "execution_count": 69,
   "id": "5571dd36",
   "metadata": {},
   "outputs": [
    {
     "name": "stdout",
     "output_type": "stream",
     "text": [
      "When making a copy...\n",
      "\n",
      "[1 2 3 4]\n",
      "[100   2   3]\n"
     ]
    }
   ],
   "source": [
    "array_A = np.array([1, 2, 3, 4])\n",
    "\n",
    "print(\"When making a copy...\\n\")\n",
    "array_B = array_A[:3].copy()\n",
    "array_B[0] = 100\n",
    "\n",
    "print(array_A)\n",
    "print(array_B)"
   ]
  },
  {
   "cell_type": "markdown",
   "id": "70a1c887",
   "metadata": {},
   "source": [
    "#### Operations"
   ]
  },
  {
   "cell_type": "code",
   "execution_count": 70,
   "id": "9d422a31",
   "metadata": {},
   "outputs": [
    {
     "data": {
      "text/plain": [
       "[1, 1, 1, 1, 2, 3]"
      ]
     },
     "execution_count": 70,
     "metadata": {},
     "output_type": "execute_result"
    }
   ],
   "source": [
    "# Adding of list = Concatenation\n",
    "[1,1,1] + [1,2,3]"
   ]
  },
  {
   "cell_type": "code",
   "execution_count": 71,
   "id": "456a05e8",
   "metadata": {},
   "outputs": [
    {
     "data": {
      "text/plain": [
       "array([2, 3, 4])"
      ]
     },
     "execution_count": 71,
     "metadata": {},
     "output_type": "execute_result"
    }
   ],
   "source": [
    "# Adding of NumPy Arrays = Elementwise addition\n",
    "np.array([1,1,1]) + np.array([1,2,3])"
   ]
  },
  {
   "cell_type": "code",
   "execution_count": 72,
   "id": "1f4d2841",
   "metadata": {},
   "outputs": [
    {
     "data": {
      "text/plain": [
       "array([1, 1, 1, 1, 2, 3])"
      ]
     },
     "execution_count": 72,
     "metadata": {},
     "output_type": "execute_result"
    }
   ],
   "source": [
    "# To concatenate NumPy arrays:\n",
    "np.concatenate((np.array([1,1,1]),\n",
    "               np.array([1,2,3])))"
   ]
  },
  {
   "cell_type": "code",
   "execution_count": 73,
   "id": "8a41e0a0",
   "metadata": {},
   "outputs": [
    {
     "name": "stdout",
     "output_type": "stream",
     "text": [
      "Concatenate along the axis 0\n",
      "[[1 1 1]\n",
      " [2 2 2]\n",
      " [3 3 3]\n",
      " [4 4 4]]\n",
      "Concatenate along the axis 1\n",
      "[[1 1 1 3 3 3]\n",
      " [2 2 2 4 4 4]]\n"
     ]
    }
   ],
   "source": [
    "a = np.array([1,1,1,2,2,2]).reshape(2,3)\n",
    "b = np.array([3,3,3,4,4,4]).reshape(2,3)\n",
    "\n",
    "for axis in [0,1]:\n",
    "    print(f\"Concatenate along the axis {axis}\")\n",
    "    print(np.concatenate((a,b),axis=axis))"
   ]
  },
  {
   "cell_type": "markdown",
   "id": "01e09031",
   "metadata": {},
   "source": [
    "Addition of an element to a list"
   ]
  },
  {
   "cell_type": "code",
   "execution_count": 74,
   "id": "da02a591",
   "metadata": {},
   "outputs": [
    {
     "name": "stdout",
     "output_type": "stream",
     "text": [
      "[1, 1, 1] \t = the original list\n",
      "\n",
      "----------\n",
      "trying + 3...\n",
      "Exception (TypeError): can only concatenate list (not \"int\") to list\n",
      "[1, 1, 1] \t = the original\n",
      "\n",
      "----------\n",
      "append 3\n",
      "[1, 1, 1, 3] \t = the original\n"
     ]
    }
   ],
   "source": [
    "a = [1, 1, 1]\n",
    "print(a, \"\\t = the original list\")\n",
    "print(\"\\n----------\")\n",
    "print(\"trying + 3...\")\n",
    "try:\n",
    "    print(a+3)\n",
    "except Exception as e:\n",
    "    print(f\"Exception ({type(e).__name__}):\",   e)\n",
    "print(a, \"\\t = the original\")\n",
    "\n",
    "print(\"\\n----------\")\n",
    "print(\"append 3\")\n",
    "a.append(3)\n",
    "print(a, \"\\t = the original\")"
   ]
  },
  {
   "cell_type": "markdown",
   "id": "635e62dd",
   "metadata": {},
   "source": [
    "Appending an element to a numpy array doesn't update original array:"
   ]
  },
  {
   "cell_type": "code",
   "execution_count": 75,
   "id": "1a5d0dc8",
   "metadata": {},
   "outputs": [
    {
     "name": "stdout",
     "output_type": "stream",
     "text": [
      "[1 1 1] \t = the original\n",
      "[1 1 1 3] \t = appending 3\n",
      "[1 1 1] \t = the original\n"
     ]
    }
   ],
   "source": [
    "a = np.array([1,1,1])\n",
    "print(a, \"\\t = the original\")\n",
    "print(np.append(a, 3), \"\\t = appending 3\")\n",
    "print(a, \"\\t = the original\")"
   ]
  },
  {
   "cell_type": "markdown",
   "id": "6c7ab01b",
   "metadata": {},
   "source": [
    "Addition to a NumPy array is elementwise addition"
   ]
  },
  {
   "cell_type": "code",
   "execution_count": 76,
   "id": "fd6797d3",
   "metadata": {},
   "outputs": [
    {
     "name": "stdout",
     "output_type": "stream",
     "text": [
      "[4 4 4]\n"
     ]
    }
   ],
   "source": [
    "a = np.array([1,1,1])\n",
    "print(a+3)"
   ]
  },
  {
   "cell_type": "markdown",
   "id": "9ee8889d",
   "metadata": {},
   "source": [
    "Multilication likewise"
   ]
  },
  {
   "cell_type": "code",
   "execution_count": 77,
   "id": "c95f4544",
   "metadata": {},
   "outputs": [
    {
     "name": "stdout",
     "output_type": "stream",
     "text": [
      "[3 3 3]\n"
     ]
    }
   ],
   "source": [
    "a = np.array([1,1,1])\n",
    "print(a*3)"
   ]
  },
  {
   "cell_type": "markdown",
   "id": "c4969534",
   "metadata": {},
   "source": [
    "Multiplication vs. matrix multiplication/dot product:"
   ]
  },
  {
   "cell_type": "code",
   "execution_count": 78,
   "id": "63e4e318",
   "metadata": {},
   "outputs": [
    {
     "name": "stdout",
     "output_type": "stream",
     "text": [
      "[1 4 9]\n"
     ]
    }
   ],
   "source": [
    "a = np.array([1,2,3])\n",
    "print(a * a)"
   ]
  },
  {
   "cell_type": "code",
   "execution_count": 79,
   "id": "0e708ce6",
   "metadata": {},
   "outputs": [
    {
     "name": "stdout",
     "output_type": "stream",
     "text": [
      "14\n",
      "14\n"
     ]
    }
   ],
   "source": [
    "a = np.array([1,2,3])\n",
    "print(a.dot(a))\n",
    "print((a * a).sum())"
   ]
  },
  {
   "cell_type": "markdown",
   "id": "0c47356d",
   "metadata": {},
   "source": [
    "Broadcasting Example"
   ]
  },
  {
   "cell_type": "code",
   "execution_count": 80,
   "id": "1784d37e",
   "metadata": {},
   "outputs": [
    {
     "name": "stdout",
     "output_type": "stream",
     "text": [
      "a (shape (3, 4)):\n",
      "[[ 0  1  2  3]\n",
      " [ 4  5  6  7]\n",
      " [ 8  9 10 11]]\n",
      "\n",
      "b (shape (4,)):\n",
      "[   1   10  100 1000]\n",
      "\n",
      "a + b:\n",
      "[[   1   11  102 1003]\n",
      " [   5   15  106 1007]\n",
      " [   9   19  110 1011]]\n"
     ]
    }
   ],
   "source": [
    "a = np.arange(12).reshape(3,4)\n",
    "b = np.array([10**x for x in range(4)])\n",
    "\n",
    "print(f\"a (shape {a.shape}):\")\n",
    "print(a)\n",
    "print(f\"\\nb (shape {b.shape}):\")\n",
    "print(b)\n",
    "print(\"\\na + b:\")\n",
    "print(a + b)"
   ]
  },
  {
   "cell_type": "code",
   "execution_count": 81,
   "id": "0bfa7ede",
   "metadata": {},
   "outputs": [
    {
     "name": "stdout",
     "output_type": "stream",
     "text": [
      "a (shape (4, 3)):\n",
      "[[ 0  1  2]\n",
      " [ 3  4  5]\n",
      " [ 6  7  8]\n",
      " [ 9 10 11]]\n",
      "\n",
      "b (shape (4,)):\n",
      "[   1   10  100 1000]\n",
      "\n",
      "Exception (ValueError) : operands could not be broadcast together with shapes (4,3) (4,) \n"
     ]
    }
   ],
   "source": [
    "a = np.arange(12).reshape(4,3)\n",
    "b = np.array([10**x for x in range(4)])\n",
    "\n",
    "print(f\"a (shape {a.shape}):\")\n",
    "print(a)\n",
    "print(f\"\\nb (shape {b.shape}):\")\n",
    "print(b)\n",
    "try:\n",
    "    print(a+b)\n",
    "except Exception as e:\n",
    "    print(f'\\nException ({type(e).__name__}) : {e}')"
   ]
  },
  {
   "cell_type": "code",
   "execution_count": 82,
   "id": "da506486",
   "metadata": {},
   "outputs": [
    {
     "name": "stdout",
     "output_type": "stream",
     "text": [
      "a (shape (4, 3)):\n",
      "[[ 0  1  2]\n",
      " [ 3  4  5]\n",
      " [ 6  7  8]\n",
      " [ 9 10 11]]\n",
      "\n",
      "b (shape (4, 1)):\n",
      "[[   1]\n",
      " [  10]\n",
      " [ 100]\n",
      " [1000]]\n",
      "\n",
      "a + b:\n",
      "[[   1    2    3]\n",
      " [  13   14   15]\n",
      " [ 106  107  108]\n",
      " [1009 1010 1011]]\n"
     ]
    }
   ],
   "source": [
    "a = np.arange(12).reshape(4,3)\n",
    "b = np.array([10**x for x in range(4)]).reshape(-1,1)\n",
    "\n",
    "print(f\"a (shape {a.shape}):\")\n",
    "print(a)\n",
    "print(f\"\\nb (shape {b.shape}):\")\n",
    "print(b)\n",
    "print(\"\\na + b:\")\n",
    "print(a + b)"
   ]
  },
  {
   "cell_type": "markdown",
   "id": "ce1c4913",
   "metadata": {},
   "source": [
    "#### Local Operators"
   ]
  },
  {
   "cell_type": "markdown",
   "id": "8f813caa",
   "metadata": {},
   "source": [
    "~, |, &, ^ are elementwise, just like arithmetic operations."
   ]
  },
  {
   "cell_type": "code",
   "execution_count": 83,
   "id": "a63b7cde",
   "metadata": {},
   "outputs": [
    {
     "name": "stdout",
     "output_type": "stream",
     "text": [
      "a : [ True False False]\n",
      "b : [ True  True False]\n",
      "\n",
      "~ a as NOT:\t [False  True  True]\n",
      "~ b as NOT:\t [False False  True]\n",
      "a & b as AND:\t [ True False False]\n",
      "a | b as OR:\t [ True  True False]\n",
      "a ^ b as XOR:\t [False  True False]\n"
     ]
    }
   ],
   "source": [
    "a = np.array([1,0,0]).astype('bool')\n",
    "b = np.array([1,1,0]).astype('bool')\n",
    "\n",
    "print('a :',a)\n",
    "print('b :',b)\n",
    "print()\n",
    "print(\"~ a as NOT:\\t\", ~ a)\n",
    "print(\"~ b as NOT:\\t\", ~ b)\n",
    "print(\"a & b as AND:\\t\", a & b)\n",
    "print(\"a | b as OR:\\t\", a | b)\n",
    "print(\"a ^ b as XOR:\\t\", a ^ b)"
   ]
  },
  {
   "cell_type": "markdown",
   "id": "77dbbbc1",
   "metadata": {},
   "source": [
    "Caution: the usual \"not\", \"or\", \"and\" **cannot perform elementwise** operations, but expect single values (ValueError for size >1 arrays)!"
   ]
  },
  {
   "cell_type": "code",
   "execution_count": 84,
   "id": "4ea0fcd4",
   "metadata": {},
   "outputs": [
    {
     "name": "stdout",
     "output_type": "stream",
     "text": [
      "a: [ True False False]\n",
      "b: [ True  True False]\n",
      "\n",
      "not a:\n",
      "\n",
      "Exception (ValueError): The truth value of an array with more than one element is ambiguous. Use a.any() or a.all()\n",
      "\n",
      "a and b:\n",
      "\n",
      "Exception (ValueError): The truth value of an array with more than one element is ambiguous. Use a.any() or a.all()\n"
     ]
    }
   ],
   "source": [
    "a = np.array([1, 0, 0]).astype(\"bool\")\n",
    "b = np.array([1, 1, 0]).astype(\"bool\")\n",
    "\n",
    "print(\"a:\", a)\n",
    "print(\"b:\", b)\n",
    "print()\n",
    "\n",
    "print(\"not a:\\n\")\n",
    "try:\n",
    "    print(not a)    \n",
    "except Exception as e:\n",
    "    print(f\"Exception ({type(e).__name__}):\",   e)\n",
    "\n",
    "print(\"\\na and b:\\n\")\n",
    "try:\n",
    "    print(a and b)    \n",
    "except Exception as e:\n",
    "    print(f\"Exception ({type(e).__name__}):\",   e)"
   ]
  },
  {
   "cell_type": "markdown",
   "id": "b46b7ff5",
   "metadata": {},
   "source": [
    "Other Comparisons"
   ]
  },
  {
   "cell_type": "code",
   "execution_count": 85,
   "id": "aa8e85f7",
   "metadata": {},
   "outputs": [
    {
     "name": "stdout",
     "output_type": "stream",
     "text": [
      "[[0 1 2]\n",
      " [3 4 5]] \ta\n",
      "\n",
      "[[0 1 4]\n",
      " [3 3 5]] \tb\n",
      "\n",
      "[[ True  True False]\n",
      " [ True False  True]] \ta == b\n",
      "\n",
      "[[False False False]\n",
      " [False  True False]] \ta > b\n",
      "\n",
      "[[ True  True False]\n",
      " [ True  True  True]] \ta >= b\n",
      "\n"
     ]
    }
   ],
   "source": [
    "a = np.arange(6).reshape(2,3)\n",
    "b = np.array([[0, 1, 4], [3, 3, 5]])\n",
    "\n",
    "print(a, \"\\ta\\n\")\n",
    "print(b, \"\\tb\\n\")\n",
    "print(a==b, \"\\ta == b\\n\")\n",
    "print(a>b, \"\\ta > b\\n\")\n",
    "print(a>=b, \"\\ta >= b\\n\")"
   ]
  },
  {
   "cell_type": "markdown",
   "id": "bc329caf",
   "metadata": {},
   "source": [
    "`.all()` and `.any()`"
   ]
  },
  {
   "cell_type": "code",
   "execution_count": 86,
   "id": "b2b6e83e",
   "metadata": {},
   "outputs": [
    {
     "name": "stdout",
     "output_type": "stream",
     "text": [
      "All Elements The Same : False\n",
      "Any Elements The Same : True\n"
     ]
    }
   ],
   "source": [
    "print('All Elements The Same :', (a==b).all())\n",
    "print('Any Elements The Same :', (a==b).any())"
   ]
  },
  {
   "cell_type": "markdown",
   "id": "960962e5",
   "metadata": {},
   "source": [
    "Checking along specific axes: rows or columns in a 2D-array. As we have seen:\n",
    "\n",
    "* axis 0 = rows\n",
    "* axis 1 = columns"
   ]
  },
  {
   "cell_type": "code",
   "execution_count": 87,
   "id": "10b9e384",
   "metadata": {},
   "outputs": [
    {
     "name": "stdout",
     "output_type": "stream",
     "text": [
      "All Elements The Same : [ True False False]\n",
      "All Elements The Same : [False False]\n",
      "Any Elements The Same : [ True  True  True]\n",
      "Any Elements The Same : [ True  True]\n"
     ]
    }
   ],
   "source": [
    "# Rows\n",
    "print('All Elements The Same :', (a==b).all(0))\n",
    "print('All Elements The Same :', (a==b).all(1))\n",
    "\n",
    "\n",
    "# Columns\n",
    "print('Any Elements The Same :', (a==b).any(0))\n",
    "print('Any Elements The Same :', (a==b).any(1))"
   ]
  },
  {
   "cell_type": "markdown",
   "id": "a3c81d4d",
   "metadata": {},
   "source": [
    "Element-wise comparisons -> make sure the arrays are of the same shape (or broadcastable to the same shape)!\n",
    "-> Will raise a ValueError (for ==, in future versions) otherwise."
   ]
  },
  {
   "cell_type": "markdown",
   "id": "910741fa",
   "metadata": {},
   "source": [
    "#### Comparison along dtypes"
   ]
  },
  {
   "cell_type": "markdown",
   "id": "3f24087e",
   "metadata": {},
   "source": [
    "\n",
    "As in ndarray creation, numpy will try to force elements into a common type, _if possible_."
   ]
  },
  {
   "cell_type": "code",
   "execution_count": 88,
   "id": "7655989e",
   "metadata": {},
   "outputs": [
    {
     "name": "stdout",
     "output_type": "stream",
     "text": [
      "a (int32):\t [1 1 1 1]\n",
      "b (float64):\t [1. 1. 1. 1.]\n",
      "c (bool):\t [ True  True  True  True]\n",
      "\n",
      "a == b: [ True  True  True  True]\n",
      "a == c: [ True  True  True  True]\n",
      "b == c: [ True  True  True  True]\n"
     ]
    }
   ],
   "source": [
    "a = np.ones(4).astype(\"int\")\n",
    "b = np.ones(4).astype(\"float\")\n",
    "c = np.ones(4).astype(\"bool\")\n",
    "\n",
    "print(f\"a ({a.dtype}):\\t\", a)\n",
    "print(f\"b ({b.dtype}):\\t\", b)\n",
    "print(f\"c ({c.dtype}):\\t\", c)\n",
    "\n",
    "print()\n",
    "\n",
    "print(\"a == b:\", a == b)\n",
    "print(\"a == c:\", a == c)\n",
    "print(\"b == c:\", b == c)"
   ]
  },
  {
   "cell_type": "code",
   "execution_count": 89,
   "id": "8739e77c",
   "metadata": {},
   "outputs": [
    {
     "name": "stdout",
     "output_type": "stream",
     "text": [
      "a (int32):\t [2 2 2 2]\n",
      "b (float64):\t [1. 1. 1. 1.]\n",
      "c (bool):\t [ True  True  True  True]\n",
      "\n",
      "a == b: [False False False False]\n",
      "a == c: [False False False False]\n",
      "b == c: [ True  True  True  True]\n"
     ]
    }
   ],
   "source": [
    "a = np.full(4,2).astype(\"int\")\n",
    "b = np.ones(4).astype(\"float\")\n",
    "c = np.ones(4).astype(\"bool\")\n",
    "\n",
    "print(f\"a ({a.dtype}):\\t\", a)\n",
    "print(f\"b ({b.dtype}):\\t\", b)\n",
    "print(f\"c ({c.dtype}):\\t\", c)\n",
    "\n",
    "print()\n",
    "\n",
    "print(\"a == b:\", a == b)\n",
    "print(\"a == c:\", a == c)\n",
    "print(\"b == c:\", b == c)"
   ]
  },
  {
   "cell_type": "code",
   "execution_count": 90,
   "id": "93483137",
   "metadata": {},
   "outputs": [
    {
     "name": "stdout",
     "output_type": "stream",
     "text": [
      "a (object):\t ['True' 'True' 'True' 'True']\n",
      "b (<U4):\t ['True' 'True' 'True' 'True']\n",
      "c (bool):\t [ True  True  True  True]\n",
      "\n",
      "a == b: [ True  True  True  True]\n",
      "a == c: [False False False False]\n",
      "b == c: False\n"
     ]
    },
    {
     "name": "stderr",
     "output_type": "stream",
     "text": [
      "C:\\Users\\malir\\AppData\\Local\\Temp\\ipykernel_20348\\3441354972.py:13: FutureWarning: elementwise comparison failed; returning scalar instead, but in the future will perform elementwise comparison\n",
      "  print(\"b == c:\", b == c)\n"
     ]
    }
   ],
   "source": [
    "a = np.array([\"True\"]*4, dtype=\"object\")\n",
    "b = np.array([\"True\"]*4, dtype=\"<U4\")\n",
    "c = np.ones(4).astype(\"bool\")\n",
    "\n",
    "print(f\"a ({a.dtype}):\\t\", a)\n",
    "print(f\"b ({b.dtype}):\\t\", b)\n",
    "print(f\"c ({c.dtype}):\\t\", c)\n",
    "\n",
    "print()\n",
    "\n",
    "print(\"a == b:\", a == b)\n",
    "print(\"a == c:\", a == c)\n",
    "print(\"b == c:\", b == c)"
   ]
  },
  {
   "cell_type": "markdown",
   "id": "a0ada6f0",
   "metadata": {},
   "source": [
    "#### Array-Level equality"
   ]
  },
  {
   "cell_type": "code",
   "execution_count": 91,
   "id": "3c12259f",
   "metadata": {},
   "outputs": [
    {
     "name": "stdout",
     "output_type": "stream",
     "text": [
      "[[0 1 2]\n",
      " [3 4 5]] \ta\n",
      "\n",
      "[[0 1 2 3]\n",
      " [4 5 6 7]] \tb\n",
      "\n"
     ]
    },
    {
     "data": {
      "text/plain": [
       "False"
      ]
     },
     "execution_count": 91,
     "metadata": {},
     "output_type": "execute_result"
    }
   ],
   "source": [
    "a = np.arange(6).reshape(2,3)\n",
    "b = np.arange(8).reshape(2,4)\n",
    "\n",
    "print(a, \"\\ta\\n\")\n",
    "print(b, \"\\tb\\n\")\n",
    "\n",
    "np.array_equal(a,b)"
   ]
  },
  {
   "cell_type": "markdown",
   "id": "7543a573",
   "metadata": {},
   "source": [
    "#### Aggregations"
   ]
  },
  {
   "cell_type": "code",
   "execution_count": 92,
   "id": "5ce392f4",
   "metadata": {},
   "outputs": [
    {
     "name": "stdout",
     "output_type": "stream",
     "text": [
      "Summation ->\t 60\n",
      "Mean (Med) ->\t 12.0\n",
      "Product ->\t 240240\n",
      "StdDev ->\t 1.4142135623730951\n",
      "Variance ->\t 2.0\n",
      "Minimum ->\t 10\n",
      "Min Idx ->\t 0\n",
      "Maximum ->\t 14\n",
      "Max Idx->\t 4\n"
     ]
    }
   ],
   "source": [
    "a = np.arange(10,15)\n",
    "print(\"Summation ->\\t\", a.sum())\n",
    "print('Mean (Med) ->\\t', a.mean())\n",
    "print('Product ->\\t', a.prod())\n",
    "print('StdDev ->\\t', a.std())\n",
    "print('Variance ->\\t', a.var())\n",
    "print('Minimum ->\\t', a.min())\n",
    "print('Min Idx ->\\t', a.argmin())\n",
    "print('Maximum ->\\t', a.max())\n",
    "print('Max Idx->\\t', a.argmax())"
   ]
  },
  {
   "cell_type": "markdown",
   "id": "4da9ddc3",
   "metadata": {},
   "source": [
    "#### Boolean Indexing\n",
    "array B can be used as a mask on an array A of the same shape such that values in True positions are kept, while values in False positions are not."
   ]
  },
  {
   "cell_type": "code",
   "execution_count": 93,
   "id": "197ac001",
   "metadata": {},
   "outputs": [
    {
     "name": "stdout",
     "output_type": "stream",
     "text": [
      "[10 12 13]\n"
     ]
    }
   ],
   "source": [
    "a = np.arange(10,14)\n",
    "b = np.array([True,False,True,True])\n",
    "print(a[b])"
   ]
  },
  {
   "cell_type": "code",
   "execution_count": 94,
   "id": "1a304fb3",
   "metadata": {},
   "outputs": [
    {
     "name": "stdout",
     "output_type": "stream",
     "text": [
      "[3 4 5]\n"
     ]
    }
   ],
   "source": [
    "a = np.arange(1,6)\n",
    "print(a[a >= 3])"
   ]
  },
  {
   "cell_type": "markdown",
   "id": "f97cab64",
   "metadata": {},
   "source": [
    "Results are 1D arrays:"
   ]
  },
  {
   "cell_type": "code",
   "execution_count": 95,
   "id": "41cdb871",
   "metadata": {},
   "outputs": [
    {
     "name": "stdout",
     "output_type": "stream",
     "text": [
      "a:\n",
      " [[0 1 2]\n",
      " [3 4 5]]\n",
      "\n",
      "b:\n",
      " [[ True  True False]\n",
      " [ True  True False]]\n",
      "\n",
      "a[b]:\n",
      "[0 1 3 4]\n",
      "\n",
      "a[a < 5]:\n",
      "[0 1 3 4]\n"
     ]
    }
   ],
   "source": [
    "a = np.arange(6).reshape(2, 3)\n",
    "b = np.array([[True, True, False],\n",
    "              [True, True, False]])\n",
    "\n",
    "print(\"a:\\n\", a)\n",
    "print(\"\\nb:\\n\", b)\n",
    "\n",
    "print(\"\\na[b]:\")\n",
    "print(a[b])\n",
    "\n",
    "print(\"\\na[a < 5]:\")\n",
    "print(a[b])"
   ]
  },
  {
   "cell_type": "markdown",
   "id": "d3fbefa0",
   "metadata": {},
   "source": [
    "We can also **index** arrays with boolean arrays:\n",
    "* **0th** axis of the boolean array **indexes rows** (0th axis)\n",
    "* **1st** axis of the boolean array **indexes columns** (1st axis)"
   ]
  },
  {
   "cell_type": "code",
   "execution_count": 96,
   "id": "e0cfb752",
   "metadata": {},
   "outputs": [
    {
     "name": "stdout",
     "output_type": "stream",
     "text": [
      "Indexing rows...\n",
      "\n",
      "b (shape (3,)) as an indexer:\n",
      " [ True  True False]\n",
      "\n",
      "------------\n",
      "a (shape (3, 2)):\n",
      " [[0 1]\n",
      " [2 3]\n",
      " [4 5]]\n",
      "\n",
      "Indexing rows --- a[b]:\n",
      "[[0 1]\n",
      " [2 3]]\n",
      "\n",
      "------------\n",
      "a (shape (2, 3)):\n",
      " [[0 1 2]\n",
      " [3 4 5]]\n",
      "\n",
      "Indexing rows --- a[b]:\n",
      "Exception (IndexError): boolean index did not match indexed array along dimension 0; dimension is 2 but corresponding boolean dimension is 3\n"
     ]
    }
   ],
   "source": [
    "print(\"Indexing rows...\\n\")\n",
    "b = np.array([True, True, False])\n",
    "print(f\"b (shape {b.shape}) as an indexer:\\n\", b)\n",
    "\n",
    "for a in [np.arange(6).reshape(3,2),\n",
    "          np.arange(6).reshape(2,3)]:\n",
    "    print(\"\\n------------\")\n",
    "    print(f\"a (shape {a.shape}):\\n\", a)\n",
    "\n",
    "    print(\"\\nIndexing rows --- a[b]:\")\n",
    "    try:\n",
    "        print(a[b])\n",
    "    except Exception as e:\n",
    "        print(f\"Exception ({type(e).__name__}):\",   e)"
   ]
  },
  {
   "cell_type": "code",
   "execution_count": 97,
   "id": "75526825",
   "metadata": {},
   "outputs": [
    {
     "name": "stdout",
     "output_type": "stream",
     "text": [
      "Indexing columns...\n",
      "\n",
      "b (shape (3,)) as an indexer:\n",
      " [ True  True False]\n",
      "\n",
      "------------\n",
      "a (shape (3, 2)):\n",
      " [[0 1]\n",
      " [2 3]\n",
      " [4 5]]\n",
      "\n",
      "Indexing columns --- a[:, b]:\n",
      "Exception (IndexError): boolean index did not match indexed array along dimension 1; dimension is 2 but corresponding boolean dimension is 3\n",
      "\n",
      "------------\n",
      "a (shape (2, 3)):\n",
      " [[0 1 2]\n",
      " [3 4 5]]\n",
      "\n",
      "Indexing columns --- a[:, b]:\n",
      "[[0 1]\n",
      " [3 4]]\n"
     ]
    }
   ],
   "source": [
    "print(\"Indexing columns...\\n\")\n",
    "b = np.array([True, True, False])\n",
    "print(f\"b (shape {b.shape}) as an indexer:\\n\", b)\n",
    "\n",
    "for a in [np.arange(6).reshape(3,2),\n",
    "          np.arange(6).reshape(2,3)]:\n",
    "    print(\"\\n------------\")\n",
    "    print(f\"a (shape {a.shape}):\\n\", a)\n",
    "\n",
    "    print(\"\\nIndexing columns --- a[:, b]:\")\n",
    "    try:\n",
    "        print(a[:, b])\n",
    "    except Exception as e:\n",
    "        print(f\"Exception ({type(e).__name__}):\",   e)\n"
   ]
  },
  {
   "cell_type": "markdown",
   "id": "d98b83db",
   "metadata": {},
   "source": [
    "#### Empty Values"
   ]
  },
  {
   "cell_type": "markdown",
   "id": "79466c02",
   "metadata": {},
   "source": [
    "When using the regular Python NoneType object None in an array:"
   ]
  },
  {
   "cell_type": "code",
   "execution_count": 98,
   "id": "26f7b3ff",
   "metadata": {},
   "outputs": [
    {
     "data": {
      "text/plain": [
       "array([1, None, 1], dtype=object)"
      ]
     },
     "execution_count": 98,
     "metadata": {},
     "output_type": "execute_result"
    }
   ],
   "source": [
    "np.array([1, None, 1])"
   ]
  },
  {
   "cell_type": "markdown",
   "id": "7d34de9e",
   "metadata": {},
   "source": [
    "The float type empty value is `np.NaN` (\"not a number\"):"
   ]
  },
  {
   "cell_type": "code",
   "execution_count": 99,
   "id": "d4f1dc95",
   "metadata": {},
   "outputs": [
    {
     "data": {
      "text/plain": [
       "array([ 1., nan,  1.])"
      ]
     },
     "execution_count": 99,
     "metadata": {},
     "output_type": "execute_result"
    }
   ],
   "source": [
    "np.array([1, np.NaN, 1])"
   ]
  },
  {
   "cell_type": "markdown",
   "id": "e5db04fc",
   "metadata": {},
   "source": [
    "Missing values when applying conditions..."
   ]
  },
  {
   "cell_type": "code",
   "execution_count": 100,
   "id": "29b8ab09",
   "metadata": {},
   "outputs": [
    {
     "name": "stdout",
     "output_type": "stream",
     "text": [
      "Is np.NaN < 3?\n",
      "False\n",
      "\n",
      "Is np.NaN >= 3?\n",
      "False\n"
     ]
    }
   ],
   "source": [
    "print(\"Is np.NaN < 3?\")\n",
    "print(np.NaN < 3)\n",
    "print(\"\\nIs np.NaN >= 3?\")\n",
    "print(np.NaN >= 3)"
   ]
  },
  {
   "cell_type": "code",
   "execution_count": 101,
   "id": "2951b73f",
   "metadata": {},
   "outputs": [
    {
     "name": "stdout",
     "output_type": "stream",
     "text": [
      "a:\t [ 1. nan  1.  3.] \n",
      "\n",
      "a[a < 2]:\t [1. 1.]\n",
      "a[a >= 2]:\t [3.]\n",
      "a[~(a < 2)]:\t [nan  3.]\n"
     ]
    }
   ],
   "source": [
    "a = np.array([1, np.NaN, 1, 3])\n",
    "print(\"a:\\t\", a, \"\\n\")\n",
    "\n",
    "print(\"a[a < 2]:\\t\", a[a < 2])\n",
    "print(\"a[a >= 2]:\\t\", a[a >= 2])\n",
    "print(\"a[~(a < 2)]:\\t\", a[~(a < 2)])"
   ]
  }
 ],
 "metadata": {
  "kernelspec": {
   "display_name": "Python 3 (ipykernel)",
   "language": "python",
   "name": "python3"
  },
  "language_info": {
   "codemirror_mode": {
    "name": "ipython",
    "version": 3
   },
   "file_extension": ".py",
   "mimetype": "text/x-python",
   "name": "python",
   "nbconvert_exporter": "python",
   "pygments_lexer": "ipython3",
   "version": "3.9.13"
  }
 },
 "nbformat": 4,
 "nbformat_minor": 5
}
